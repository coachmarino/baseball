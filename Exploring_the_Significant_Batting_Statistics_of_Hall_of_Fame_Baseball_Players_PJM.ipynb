{
 "cells": [
  {
   "cell_type": "markdown",
   "metadata": {},
   "source": [
    "# Exploring the Significant Batting Statistics of Hall of Fame Baseball Players\n"
   ]
  },
  {
   "cell_type": "markdown",
   "metadata": {},
   "source": [
    "<i>Patrick Marino\n",
    "<br>October 2, 2016</i>"
   ]
  },
  {
   "cell_type": "markdown",
   "metadata": {},
   "source": [
    "<b>Introduction</b>\n",
    "\n",
    "The National Baseball Hall of Fame is an independent, non-profit institution dedicated to the history of the game of baseball.  Besides being a general repository for baseball history, the Hall also enshrines players who've had exceptional careers or have otherwise significantly impacted the game.\n",
    "\n",
    "Hall of Fame players are selected through a subjective process (voting).  In considering the career of a prospective player, voters must differentiate the career of that player from other players eligible for induction.  Statistical summaries of a player's career can be a starting point for these comparisons.\n",
    "\n",
    "Since there are no given stastical rules to determine hall of fame induction, each individual voter may consider different statistical factors.  Through an analysis of the statistics of available player statistics, it's possible to determine the statistical categories most likely to influence a voter's decision to choose one player over another.\n",
    "\n",
    "This document explores the batting statistics that may play the greatest role in determining whether or not a player will be voted into the hall of fame.\n",
    "\n",
    "<i>Baseball Hall of Fame - http://baseballhall.org/<i>\n",
    "\n"
   ]
  },
  {
   "cell_type": "markdown",
   "metadata": {},
   "source": [
    "<b> The Data</b>\n",
    "\n",
    "Statistics for this analysis are provided by <i>Lahman's Baseball Database</i>, containing pitching, hitting and fielding statistics from 1817 to 2015.  \n",
    "\n",
    "<i>source - http://www.seanlahman.com/baseball-archive/statistics/</i>\n",
    "\n",
    "This analysis utilized the 2015 version of the database, last updated on March 2, 2016"
   ]
  },
  {
   "cell_type": "markdown",
   "metadata": {},
   "source": [
    "<b>Questions Considered by the Analysis</b>\n",
    "\n",
    "Which are the most significant batting statistics that determine whether or not a player is voted into the Hall of Fame?  How have these statistics changed over time?\n",
    "\n",
    "The analysis aims to compare:\n",
    "<li>players who have been inducted versus the general population of eligible players\n",
    "<li>comparison over different eras"
   ]
  },
  {
   "cell_type": "markdown",
   "metadata": {},
   "source": [
    "<b>Hypotheses</b>\n",
    "\n",
    "The <i>Batting Title</i> award each year goes to the player who has the highest <b>Batting Average</b>, so it is hypothesized that is likely to be a significant factor, if not <i>the</i> most significant statistic.  It is also expected that <b>Home Runs</b> will be a very significant factor, based on the significance of being a leader in that realm throughout history.  It is also expected that the correlations may vary over time based on a number of factors, including but not limited to changes in the ball or bat, changes in the tactics employed by managers, or perceptions of voters based on charatcer or social issues.\n",
    "\n",
    "\n"
   ]
  },
  {
   "cell_type": "markdown",
   "metadata": {},
   "source": [
    "<b>Conclusions</b>\n",
    "\n",
    "While all analyzed batting statistics are positively correlated with Hall of Fame selection, the categories with the strongest correlation are <b>Runs, RBI, </b>and <b>Hits</b>.  <b>Batting Average</b> and <b>Home Runs</b> were actually among the batting categories with the weakest correlation to Hall of Fame selection.  There is a demonstrable fluctuation for some statistical categories and their correlation with Hall of Fame selection based on the era in which players played."
   ]
  },
  {
   "cell_type": "markdown",
   "metadata": {},
   "source": [
    "<hr>\n",
    "<hr>\n",
    "<hr>"
   ]
  },
  {
   "cell_type": "markdown",
   "metadata": {},
   "source": [
    "## Data Analysis Process Documentation"
   ]
  },
  {
   "cell_type": "markdown",
   "metadata": {},
   "source": [
    "### Data Wrangling and Exploration"
   ]
  },
  {
   "cell_type": "code",
   "execution_count": 1,
   "metadata": {
    "collapsed": true
   },
   "outputs": [],
   "source": [
    "# import relevant packages and functions\n",
    "\n",
    "import csv\n",
    "from datetime import datetime\n",
    "import numpy as np\n",
    "import pandas as pd\n",
    "import matplotlib.pyplot as plt\n",
    "\n",
    "%matplotlib inline\n",
    "\n",
    "import seaborn as sns"
   ]
  },
  {
   "cell_type": "code",
   "execution_count": 2,
   "metadata": {
    "collapsed": true
   },
   "outputs": [],
   "source": [
    "# loading data from relevant csv files, creating dataframes for analysis\n",
    "\n",
    "hall = pd.read_csv('HallOfFame.csv')\n",
    "batting = pd.read_csv('Batting.csv')\n",
    "pitching = pd.read_csv('Pitching.csv')\n",
    "master = pd.read_csv('Master.csv')"
   ]
  },
  {
   "cell_type": "markdown",
   "metadata": {},
   "source": [
    "For the purposes of this analysis, the most relevant dataframes will be 'hall' and 'batting.'  The following code will explore these dataframes and identify any issues that may make analysis more difficult.  Next, the data will be modified for analysis."
   ]
  },
  {
   "cell_type": "markdown",
   "metadata": {},
   "source": [
    "<hr>"
   ]
  },
  {
   "cell_type": "markdown",
   "metadata": {},
   "source": [
    "### Hall of Fame Table"
   ]
  },
  {
   "cell_type": "markdown",
   "metadata": {},
   "source": [
    "<i>Creating a Dataframe of Hall of Fame inductees</i>"
   ]
  },
  {
   "cell_type": "code",
   "execution_count": 3,
   "metadata": {
    "collapsed": false
   },
   "outputs": [
    {
     "data": {
      "text/html": [
       "<div>\n",
       "<table border=\"1\" class=\"dataframe\">\n",
       "  <thead>\n",
       "    <tr style=\"text-align: right;\">\n",
       "      <th></th>\n",
       "      <th>playerID</th>\n",
       "      <th>yearid</th>\n",
       "      <th>votedBy</th>\n",
       "      <th>ballots</th>\n",
       "      <th>needed</th>\n",
       "      <th>votes</th>\n",
       "      <th>inducted</th>\n",
       "      <th>category</th>\n",
       "      <th>needed_note</th>\n",
       "    </tr>\n",
       "  </thead>\n",
       "  <tbody>\n",
       "    <tr>\n",
       "      <th>0</th>\n",
       "      <td>cobbty01</td>\n",
       "      <td>1936</td>\n",
       "      <td>BBWAA</td>\n",
       "      <td>226.0</td>\n",
       "      <td>170.0</td>\n",
       "      <td>222.0</td>\n",
       "      <td>Y</td>\n",
       "      <td>Player</td>\n",
       "      <td>NaN</td>\n",
       "    </tr>\n",
       "    <tr>\n",
       "      <th>1</th>\n",
       "      <td>ruthba01</td>\n",
       "      <td>1936</td>\n",
       "      <td>BBWAA</td>\n",
       "      <td>226.0</td>\n",
       "      <td>170.0</td>\n",
       "      <td>215.0</td>\n",
       "      <td>Y</td>\n",
       "      <td>Player</td>\n",
       "      <td>NaN</td>\n",
       "    </tr>\n",
       "    <tr>\n",
       "      <th>2</th>\n",
       "      <td>wagneho01</td>\n",
       "      <td>1936</td>\n",
       "      <td>BBWAA</td>\n",
       "      <td>226.0</td>\n",
       "      <td>170.0</td>\n",
       "      <td>215.0</td>\n",
       "      <td>Y</td>\n",
       "      <td>Player</td>\n",
       "      <td>NaN</td>\n",
       "    </tr>\n",
       "    <tr>\n",
       "      <th>3</th>\n",
       "      <td>mathech01</td>\n",
       "      <td>1936</td>\n",
       "      <td>BBWAA</td>\n",
       "      <td>226.0</td>\n",
       "      <td>170.0</td>\n",
       "      <td>205.0</td>\n",
       "      <td>Y</td>\n",
       "      <td>Player</td>\n",
       "      <td>NaN</td>\n",
       "    </tr>\n",
       "    <tr>\n",
       "      <th>4</th>\n",
       "      <td>johnswa01</td>\n",
       "      <td>1936</td>\n",
       "      <td>BBWAA</td>\n",
       "      <td>226.0</td>\n",
       "      <td>170.0</td>\n",
       "      <td>189.0</td>\n",
       "      <td>Y</td>\n",
       "      <td>Player</td>\n",
       "      <td>NaN</td>\n",
       "    </tr>\n",
       "    <tr>\n",
       "      <th>5</th>\n",
       "      <td>lajoina01</td>\n",
       "      <td>1936</td>\n",
       "      <td>BBWAA</td>\n",
       "      <td>226.0</td>\n",
       "      <td>170.0</td>\n",
       "      <td>146.0</td>\n",
       "      <td>N</td>\n",
       "      <td>Player</td>\n",
       "      <td>NaN</td>\n",
       "    </tr>\n",
       "    <tr>\n",
       "      <th>6</th>\n",
       "      <td>speaktr01</td>\n",
       "      <td>1936</td>\n",
       "      <td>BBWAA</td>\n",
       "      <td>226.0</td>\n",
       "      <td>170.0</td>\n",
       "      <td>133.0</td>\n",
       "      <td>N</td>\n",
       "      <td>Player</td>\n",
       "      <td>NaN</td>\n",
       "    </tr>\n",
       "    <tr>\n",
       "      <th>7</th>\n",
       "      <td>youngcy01</td>\n",
       "      <td>1936</td>\n",
       "      <td>BBWAA</td>\n",
       "      <td>226.0</td>\n",
       "      <td>170.0</td>\n",
       "      <td>111.0</td>\n",
       "      <td>N</td>\n",
       "      <td>Player</td>\n",
       "      <td>NaN</td>\n",
       "    </tr>\n",
       "    <tr>\n",
       "      <th>8</th>\n",
       "      <td>hornsro01</td>\n",
       "      <td>1936</td>\n",
       "      <td>BBWAA</td>\n",
       "      <td>226.0</td>\n",
       "      <td>170.0</td>\n",
       "      <td>105.0</td>\n",
       "      <td>N</td>\n",
       "      <td>Player</td>\n",
       "      <td>NaN</td>\n",
       "    </tr>\n",
       "    <tr>\n",
       "      <th>9</th>\n",
       "      <td>cochrmi01</td>\n",
       "      <td>1936</td>\n",
       "      <td>BBWAA</td>\n",
       "      <td>226.0</td>\n",
       "      <td>170.0</td>\n",
       "      <td>80.0</td>\n",
       "      <td>N</td>\n",
       "      <td>Player</td>\n",
       "      <td>NaN</td>\n",
       "    </tr>\n",
       "  </tbody>\n",
       "</table>\n",
       "</div>"
      ],
      "text/plain": [
       "    playerID  yearid votedBy  ballots  needed  votes inducted category  \\\n",
       "0   cobbty01    1936   BBWAA    226.0   170.0  222.0        Y   Player   \n",
       "1   ruthba01    1936   BBWAA    226.0   170.0  215.0        Y   Player   \n",
       "2  wagneho01    1936   BBWAA    226.0   170.0  215.0        Y   Player   \n",
       "3  mathech01    1936   BBWAA    226.0   170.0  205.0        Y   Player   \n",
       "4  johnswa01    1936   BBWAA    226.0   170.0  189.0        Y   Player   \n",
       "5  lajoina01    1936   BBWAA    226.0   170.0  146.0        N   Player   \n",
       "6  speaktr01    1936   BBWAA    226.0   170.0  133.0        N   Player   \n",
       "7  youngcy01    1936   BBWAA    226.0   170.0  111.0        N   Player   \n",
       "8  hornsro01    1936   BBWAA    226.0   170.0  105.0        N   Player   \n",
       "9  cochrmi01    1936   BBWAA    226.0   170.0   80.0        N   Player   \n",
       "\n",
       "  needed_note  \n",
       "0         NaN  \n",
       "1         NaN  \n",
       "2         NaN  \n",
       "3         NaN  \n",
       "4         NaN  \n",
       "5         NaN  \n",
       "6         NaN  \n",
       "7         NaN  \n",
       "8         NaN  \n",
       "9         NaN  "
      ]
     },
     "execution_count": 3,
     "metadata": {},
     "output_type": "execute_result"
    }
   ],
   "source": [
    "# view the hall dataframe for potential issues\n",
    "\n",
    "hall.head(n=10)"
   ]
  },
  {
   "cell_type": "code",
   "execution_count": 4,
   "metadata": {
    "collapsed": false
   },
   "outputs": [
    {
     "data": {
      "text/plain": [
       "array(['Player', 'Manager', 'Pioneer/Executive', 'Umpire'], dtype=object)"
      ]
     },
     "execution_count": 4,
     "metadata": {},
     "output_type": "execute_result"
    }
   ],
   "source": [
    "# check to see what values can be in the 'categories' column\n",
    "\n",
    "hall['category'].unique()"
   ]
  },
  {
   "cell_type": "markdown",
   "metadata": {},
   "source": [
    "For this analysis, only players are relevant, since the analysis is of batting statistics."
   ]
  },
  {
   "cell_type": "code",
   "execution_count": 5,
   "metadata": {
    "collapsed": true
   },
   "outputs": [],
   "source": [
    "# creates a variable to store the data for players from the larger hall table\n",
    "\n",
    "hall_players = hall.loc[hall['category'] == 'Player']"
   ]
  },
  {
   "cell_type": "code",
   "execution_count": 6,
   "metadata": {
    "collapsed": false
   },
   "outputs": [
    {
     "data": {
      "text/plain": [
       "array(['Player'], dtype=object)"
      ]
     },
     "execution_count": 6,
     "metadata": {},
     "output_type": "execute_result"
    }
   ],
   "source": [
    "# check to make sure only players remain\n",
    "\n",
    "hall_players['category'].unique()"
   ]
  },
  {
   "cell_type": "code",
   "execution_count": 7,
   "metadata": {
    "collapsed": true
   },
   "outputs": [],
   "source": [
    "# only store the data for players who have been inducted into the hall of fame\n",
    "\n",
    "hall_players = hall_players.loc[hall_players['inducted'] == 'Y']"
   ]
  },
  {
   "cell_type": "code",
   "execution_count": 8,
   "metadata": {
    "collapsed": false
   },
   "outputs": [
    {
     "data": {
      "text/plain": [
       "array(['Y'], dtype=object)"
      ]
     },
     "execution_count": 8,
     "metadata": {},
     "output_type": "execute_result"
    }
   ],
   "source": [
    "# check to make sure only inducted players remain\n",
    "\n",
    "hall_players['inducted'].unique()"
   ]
  },
  {
   "cell_type": "code",
   "execution_count": 9,
   "metadata": {
    "collapsed": false
   },
   "outputs": [
    {
     "data": {
      "text/plain": [
       "247"
      ]
     },
     "execution_count": 9,
     "metadata": {},
     "output_type": "execute_result"
    }
   ],
   "source": [
    "len(hall_players.index)"
   ]
  },
  {
   "cell_type": "markdown",
   "metadata": {},
   "source": [
    "According to the Hall of Fame website, there are 252 players in the hall of fame, currently.  While there is a discrepancy, it's possible that the data being evaluated isn't entirely current.  The analysis will be revisited if there is a future issue."
   ]
  },
  {
   "cell_type": "markdown",
   "metadata": {},
   "source": [
    "<b>hall_players</b> - data for players inducted into the hall of fame"
   ]
  },
  {
   "cell_type": "markdown",
   "metadata": {},
   "source": [
    "<hr>"
   ]
  },
  {
   "cell_type": "markdown",
   "metadata": {},
   "source": [
    "### Batting Table"
   ]
  },
  {
   "cell_type": "markdown",
   "metadata": {},
   "source": [
    "To simplify the analysis, focus will be on a few categories for each player:\n",
    "<li>Games appeared in\n",
    "<li>At Bats\n",
    "<li>Runs Scored\n",
    "<li>Hits\n",
    "<li>Home Runs\n",
    "<li>Runs Batted In (RBI)\n",
    "<li>Stolen Bases\n",
    "<li>Base on Balls (sometimes referred to as walks)"
   ]
  },
  {
   "cell_type": "code",
   "execution_count": 10,
   "metadata": {
    "collapsed": true
   },
   "outputs": [],
   "source": [
    "# create a new variable that stores the select statistics\n",
    "\n",
    "batting_select = batting[['playerID', 'yearID', 'G', 'AB', 'H', 'R', 'HR', 'RBI', 'SB', 'BB']]"
   ]
  },
  {
   "cell_type": "code",
   "execution_count": 11,
   "metadata": {
    "collapsed": false
   },
   "outputs": [
    {
     "data": {
      "text/html": [
       "<div>\n",
       "<table border=\"1\" class=\"dataframe\">\n",
       "  <thead>\n",
       "    <tr style=\"text-align: right;\">\n",
       "      <th></th>\n",
       "      <th>playerID</th>\n",
       "      <th>yearID</th>\n",
       "      <th>G</th>\n",
       "      <th>AB</th>\n",
       "      <th>H</th>\n",
       "      <th>R</th>\n",
       "      <th>HR</th>\n",
       "      <th>RBI</th>\n",
       "      <th>SB</th>\n",
       "      <th>BB</th>\n",
       "    </tr>\n",
       "  </thead>\n",
       "  <tbody>\n",
       "    <tr>\n",
       "      <th>0</th>\n",
       "      <td>abercda01</td>\n",
       "      <td>1871</td>\n",
       "      <td>1</td>\n",
       "      <td>4.0</td>\n",
       "      <td>0.0</td>\n",
       "      <td>0.0</td>\n",
       "      <td>0.0</td>\n",
       "      <td>0.0</td>\n",
       "      <td>0.0</td>\n",
       "      <td>0.0</td>\n",
       "    </tr>\n",
       "    <tr>\n",
       "      <th>1</th>\n",
       "      <td>addybo01</td>\n",
       "      <td>1871</td>\n",
       "      <td>25</td>\n",
       "      <td>118.0</td>\n",
       "      <td>32.0</td>\n",
       "      <td>30.0</td>\n",
       "      <td>0.0</td>\n",
       "      <td>13.0</td>\n",
       "      <td>8.0</td>\n",
       "      <td>4.0</td>\n",
       "    </tr>\n",
       "    <tr>\n",
       "      <th>2</th>\n",
       "      <td>allisar01</td>\n",
       "      <td>1871</td>\n",
       "      <td>29</td>\n",
       "      <td>137.0</td>\n",
       "      <td>40.0</td>\n",
       "      <td>28.0</td>\n",
       "      <td>0.0</td>\n",
       "      <td>19.0</td>\n",
       "      <td>3.0</td>\n",
       "      <td>2.0</td>\n",
       "    </tr>\n",
       "    <tr>\n",
       "      <th>3</th>\n",
       "      <td>allisdo01</td>\n",
       "      <td>1871</td>\n",
       "      <td>27</td>\n",
       "      <td>133.0</td>\n",
       "      <td>44.0</td>\n",
       "      <td>28.0</td>\n",
       "      <td>2.0</td>\n",
       "      <td>27.0</td>\n",
       "      <td>1.0</td>\n",
       "      <td>0.0</td>\n",
       "    </tr>\n",
       "    <tr>\n",
       "      <th>4</th>\n",
       "      <td>ansonca01</td>\n",
       "      <td>1871</td>\n",
       "      <td>25</td>\n",
       "      <td>120.0</td>\n",
       "      <td>39.0</td>\n",
       "      <td>29.0</td>\n",
       "      <td>0.0</td>\n",
       "      <td>16.0</td>\n",
       "      <td>6.0</td>\n",
       "      <td>2.0</td>\n",
       "    </tr>\n",
       "  </tbody>\n",
       "</table>\n",
       "</div>"
      ],
      "text/plain": [
       "    playerID  yearID   G     AB     H     R   HR   RBI   SB   BB\n",
       "0  abercda01    1871   1    4.0   0.0   0.0  0.0   0.0  0.0  0.0\n",
       "1   addybo01    1871  25  118.0  32.0  30.0  0.0  13.0  8.0  4.0\n",
       "2  allisar01    1871  29  137.0  40.0  28.0  0.0  19.0  3.0  2.0\n",
       "3  allisdo01    1871  27  133.0  44.0  28.0  2.0  27.0  1.0  0.0\n",
       "4  ansonca01    1871  25  120.0  39.0  29.0  0.0  16.0  6.0  2.0"
      ]
     },
     "execution_count": 11,
     "metadata": {},
     "output_type": "execute_result"
    }
   ],
   "source": [
    "# check results and look for potential issues\n",
    "\n",
    "batting_select.head()"
   ]
  },
  {
   "cell_type": "markdown",
   "metadata": {},
   "source": [
    "<b>Career Stats</b>\n",
    "\n",
    "HOF determination is based on a player's total achievement, and not simply the achievement of a single year.  The current batting_select dataframe has a single row dedicated to one year's batting statistics.  The next code will create a new dataframe with career statistics."
   ]
  },
  {
   "cell_type": "code",
   "execution_count": 12,
   "metadata": {
    "collapsed": false
   },
   "outputs": [],
   "source": [
    "# create a dictionary that the next code can reference, values for each column\n",
    "# yearID will be handled differently so that the yearID's aren't totaled, and are instead\n",
    "# combined into a list representing the years played by an individual player\n",
    "\n",
    "column_values = {'yearID':[lambda x: list(x)], 'G':['sum'], 'AB':['sum'], 'H':['sum'], 'R':['sum'], \n",
    "                 'HR':['sum'], 'RBI':['sum'], 'SB':['sum'], 'BB':['sum']}\n",
    "\n",
    "# soucre - https://discussions.udacity.com/t/sum-agg-at-same-time/190909/2"
   ]
  },
  {
   "cell_type": "code",
   "execution_count": 13,
   "metadata": {
    "collapsed": true
   },
   "outputs": [],
   "source": [
    "career_batting_select = batting_select.groupby('playerID').agg(column_values).reset_index()"
   ]
  },
  {
   "cell_type": "code",
   "execution_count": 14,
   "metadata": {
    "collapsed": false
   },
   "outputs": [
    {
     "data": {
      "text/html": [
       "<div>\n",
       "<table border=\"1\" class=\"dataframe\">\n",
       "  <thead>\n",
       "    <tr>\n",
       "      <th></th>\n",
       "      <th>playerID</th>\n",
       "      <th>yearID</th>\n",
       "      <th>AB</th>\n",
       "      <th>BB</th>\n",
       "      <th>RBI</th>\n",
       "      <th>G</th>\n",
       "      <th>SB</th>\n",
       "      <th>HR</th>\n",
       "      <th>H</th>\n",
       "      <th>R</th>\n",
       "    </tr>\n",
       "    <tr>\n",
       "      <th></th>\n",
       "      <th></th>\n",
       "      <th>&lt;lambda&gt;</th>\n",
       "      <th>sum</th>\n",
       "      <th>sum</th>\n",
       "      <th>sum</th>\n",
       "      <th>sum</th>\n",
       "      <th>sum</th>\n",
       "      <th>sum</th>\n",
       "      <th>sum</th>\n",
       "      <th>sum</th>\n",
       "    </tr>\n",
       "  </thead>\n",
       "  <tbody>\n",
       "    <tr>\n",
       "      <th>0</th>\n",
       "      <td>aardsda01</td>\n",
       "      <td>[2004, 2006, 2007, 2008, 2009, 2010, 2012, 201...</td>\n",
       "      <td>4.0</td>\n",
       "      <td>0.0</td>\n",
       "      <td>0.0</td>\n",
       "      <td>331</td>\n",
       "      <td>0.0</td>\n",
       "      <td>0.0</td>\n",
       "      <td>0.0</td>\n",
       "      <td>0.0</td>\n",
       "    </tr>\n",
       "    <tr>\n",
       "      <th>1</th>\n",
       "      <td>aaronha01</td>\n",
       "      <td>[1954, 1955, 1956, 1957, 1958, 1959, 1960, 196...</td>\n",
       "      <td>12364.0</td>\n",
       "      <td>1402.0</td>\n",
       "      <td>2297.0</td>\n",
       "      <td>3298</td>\n",
       "      <td>240.0</td>\n",
       "      <td>755.0</td>\n",
       "      <td>3771.0</td>\n",
       "      <td>2174.0</td>\n",
       "    </tr>\n",
       "    <tr>\n",
       "      <th>2</th>\n",
       "      <td>aaronto01</td>\n",
       "      <td>[1962, 1963, 1965, 1968, 1969, 1970, 1971]</td>\n",
       "      <td>944.0</td>\n",
       "      <td>86.0</td>\n",
       "      <td>94.0</td>\n",
       "      <td>437</td>\n",
       "      <td>9.0</td>\n",
       "      <td>13.0</td>\n",
       "      <td>216.0</td>\n",
       "      <td>102.0</td>\n",
       "    </tr>\n",
       "  </tbody>\n",
       "</table>\n",
       "</div>"
      ],
      "text/plain": [
       "    playerID                                             yearID       AB  \\\n",
       "                                                       <lambda>      sum   \n",
       "0  aardsda01  [2004, 2006, 2007, 2008, 2009, 2010, 2012, 201...      4.0   \n",
       "1  aaronha01  [1954, 1955, 1956, 1957, 1958, 1959, 1960, 196...  12364.0   \n",
       "2  aaronto01         [1962, 1963, 1965, 1968, 1969, 1970, 1971]    944.0   \n",
       "\n",
       "       BB     RBI     G     SB     HR       H       R  \n",
       "      sum     sum   sum    sum    sum     sum     sum  \n",
       "0     0.0     0.0   331    0.0    0.0     0.0     0.0  \n",
       "1  1402.0  2297.0  3298  240.0  755.0  3771.0  2174.0  \n",
       "2    86.0    94.0   437    9.0   13.0   216.0   102.0  "
      ]
     },
     "execution_count": 14,
     "metadata": {},
     "output_type": "execute_result"
    }
   ],
   "source": [
    "# check for success\n",
    "\n",
    "career_batting_select.head(n=3)"
   ]
  },
  {
   "cell_type": "code",
   "execution_count": 15,
   "metadata": {
    "collapsed": true
   },
   "outputs": [],
   "source": [
    "# remove subheadings of columns by renaming columns\n",
    "\n",
    "career_batting_select.columns = ['playerID', 'yearID', 'AB', 'BB', 'RBI', 'G', 'SB', 'HR', 'H', 'R']"
   ]
  },
  {
   "cell_type": "code",
   "execution_count": 16,
   "metadata": {
    "collapsed": false
   },
   "outputs": [
    {
     "data": {
      "text/html": [
       "<div>\n",
       "<table border=\"1\" class=\"dataframe\">\n",
       "  <thead>\n",
       "    <tr style=\"text-align: right;\">\n",
       "      <th></th>\n",
       "      <th>playerID</th>\n",
       "      <th>yearID</th>\n",
       "      <th>AB</th>\n",
       "      <th>BB</th>\n",
       "      <th>RBI</th>\n",
       "      <th>G</th>\n",
       "      <th>SB</th>\n",
       "      <th>HR</th>\n",
       "      <th>H</th>\n",
       "      <th>R</th>\n",
       "    </tr>\n",
       "  </thead>\n",
       "  <tbody>\n",
       "    <tr>\n",
       "      <th>0</th>\n",
       "      <td>aardsda01</td>\n",
       "      <td>[2004, 2006, 2007, 2008, 2009, 2010, 2012, 201...</td>\n",
       "      <td>4.0</td>\n",
       "      <td>0.0</td>\n",
       "      <td>0.0</td>\n",
       "      <td>331</td>\n",
       "      <td>0.0</td>\n",
       "      <td>0.0</td>\n",
       "      <td>0.0</td>\n",
       "      <td>0.0</td>\n",
       "    </tr>\n",
       "  </tbody>\n",
       "</table>\n",
       "</div>"
      ],
      "text/plain": [
       "    playerID                                             yearID   AB   BB  \\\n",
       "0  aardsda01  [2004, 2006, 2007, 2008, 2009, 2010, 2012, 201...  4.0  0.0   \n",
       "\n",
       "   RBI    G   SB   HR    H    R  \n",
       "0  0.0  331  0.0  0.0  0.0  0.0  "
      ]
     },
     "execution_count": 16,
     "metadata": {},
     "output_type": "execute_result"
    }
   ],
   "source": [
    "career_batting_select.head(n=1)"
   ]
  },
  {
   "cell_type": "code",
   "execution_count": 17,
   "metadata": {
    "collapsed": true
   },
   "outputs": [],
   "source": [
    "# reorder columns\n",
    "\n",
    "career_batting_select = career_batting_select[['playerID', 'yearID', 'G', 'AB', 'H', 'R', 'HR', 'RBI', 'SB', 'BB']]"
   ]
  },
  {
   "cell_type": "code",
   "execution_count": 18,
   "metadata": {
    "collapsed": false
   },
   "outputs": [
    {
     "data": {
      "text/html": [
       "<div>\n",
       "<table border=\"1\" class=\"dataframe\">\n",
       "  <thead>\n",
       "    <tr style=\"text-align: right;\">\n",
       "      <th></th>\n",
       "      <th>playerID</th>\n",
       "      <th>yearID</th>\n",
       "      <th>G</th>\n",
       "      <th>AB</th>\n",
       "      <th>H</th>\n",
       "      <th>R</th>\n",
       "      <th>HR</th>\n",
       "      <th>RBI</th>\n",
       "      <th>SB</th>\n",
       "      <th>BB</th>\n",
       "    </tr>\n",
       "  </thead>\n",
       "  <tbody>\n",
       "    <tr>\n",
       "      <th>0</th>\n",
       "      <td>aardsda01</td>\n",
       "      <td>[2004, 2006, 2007, 2008, 2009, 2010, 2012, 201...</td>\n",
       "      <td>331</td>\n",
       "      <td>4.0</td>\n",
       "      <td>0.0</td>\n",
       "      <td>0.0</td>\n",
       "      <td>0.0</td>\n",
       "      <td>0.0</td>\n",
       "      <td>0.0</td>\n",
       "      <td>0.0</td>\n",
       "    </tr>\n",
       "  </tbody>\n",
       "</table>\n",
       "</div>"
      ],
      "text/plain": [
       "    playerID                                             yearID    G   AB  \\\n",
       "0  aardsda01  [2004, 2006, 2007, 2008, 2009, 2010, 2012, 201...  331  4.0   \n",
       "\n",
       "     H    R   HR  RBI   SB   BB  \n",
       "0  0.0  0.0  0.0  0.0  0.0  0.0  "
      ]
     },
     "execution_count": 18,
     "metadata": {},
     "output_type": "execute_result"
    }
   ],
   "source": [
    "career_batting_select.head(n=1)"
   ]
  },
  {
   "cell_type": "markdown",
   "metadata": {},
   "source": [
    "<i>Career Years</i>\n",
    "\n",
    "A useful statistic could be years played, so adding a column for years played makes sense not only as a statistic for comparison, but also later for eligibility."
   ]
  },
  {
   "cell_type": "code",
   "execution_count": 19,
   "metadata": {
    "collapsed": true
   },
   "outputs": [],
   "source": [
    "# create a new column for the dataframe that counts the number of years\n",
    "# source - http://stackoverflow.com/questions/39730951/trying-to-return-number-of-items-in-a-list-as-a-column-in-a-dataframe/39731042#39731042\n",
    "\n",
    "career_batting_select['Y'] = pd.Series((career_batting_select['yearID'].apply(len)), index = career_batting_select.index)"
   ]
  },
  {
   "cell_type": "code",
   "execution_count": 20,
   "metadata": {
    "collapsed": false
   },
   "outputs": [
    {
     "data": {
      "text/html": [
       "<div>\n",
       "<table border=\"1\" class=\"dataframe\">\n",
       "  <thead>\n",
       "    <tr style=\"text-align: right;\">\n",
       "      <th></th>\n",
       "      <th>playerID</th>\n",
       "      <th>yearID</th>\n",
       "      <th>G</th>\n",
       "      <th>AB</th>\n",
       "      <th>H</th>\n",
       "      <th>R</th>\n",
       "      <th>HR</th>\n",
       "      <th>RBI</th>\n",
       "      <th>SB</th>\n",
       "      <th>BB</th>\n",
       "      <th>Y</th>\n",
       "    </tr>\n",
       "  </thead>\n",
       "  <tbody>\n",
       "    <tr>\n",
       "      <th>0</th>\n",
       "      <td>aardsda01</td>\n",
       "      <td>[2004, 2006, 2007, 2008, 2009, 2010, 2012, 201...</td>\n",
       "      <td>331</td>\n",
       "      <td>4.0</td>\n",
       "      <td>0.0</td>\n",
       "      <td>0.0</td>\n",
       "      <td>0.0</td>\n",
       "      <td>0.0</td>\n",
       "      <td>0.0</td>\n",
       "      <td>0.0</td>\n",
       "      <td>9</td>\n",
       "    </tr>\n",
       "  </tbody>\n",
       "</table>\n",
       "</div>"
      ],
      "text/plain": [
       "    playerID                                             yearID    G   AB  \\\n",
       "0  aardsda01  [2004, 2006, 2007, 2008, 2009, 2010, 2012, 201...  331  4.0   \n",
       "\n",
       "     H    R   HR  RBI   SB   BB  Y  \n",
       "0  0.0  0.0  0.0  0.0  0.0  0.0  9  "
      ]
     },
     "execution_count": 20,
     "metadata": {},
     "output_type": "execute_result"
    }
   ],
   "source": [
    "# check for success\n",
    "\n",
    "career_batting_select.head(n=1)"
   ]
  },
  {
   "cell_type": "code",
   "execution_count": 21,
   "metadata": {
    "collapsed": true
   },
   "outputs": [],
   "source": [
    "# reorder columns\n",
    "\n",
    "career_batting_select = career_batting_select[['playerID', 'yearID', 'Y', 'G', 'AB', 'H', 'R', 'HR', 'RBI', 'SB', 'BB']]"
   ]
  },
  {
   "cell_type": "code",
   "execution_count": 22,
   "metadata": {
    "collapsed": false
   },
   "outputs": [
    {
     "data": {
      "text/html": [
       "<div>\n",
       "<table border=\"1\" class=\"dataframe\">\n",
       "  <thead>\n",
       "    <tr style=\"text-align: right;\">\n",
       "      <th></th>\n",
       "      <th>playerID</th>\n",
       "      <th>yearID</th>\n",
       "      <th>Y</th>\n",
       "      <th>G</th>\n",
       "      <th>AB</th>\n",
       "      <th>H</th>\n",
       "      <th>R</th>\n",
       "      <th>HR</th>\n",
       "      <th>RBI</th>\n",
       "      <th>SB</th>\n",
       "      <th>BB</th>\n",
       "    </tr>\n",
       "  </thead>\n",
       "  <tbody>\n",
       "    <tr>\n",
       "      <th>0</th>\n",
       "      <td>aardsda01</td>\n",
       "      <td>[2004, 2006, 2007, 2008, 2009, 2010, 2012, 201...</td>\n",
       "      <td>9</td>\n",
       "      <td>331</td>\n",
       "      <td>4.0</td>\n",
       "      <td>0.0</td>\n",
       "      <td>0.0</td>\n",
       "      <td>0.0</td>\n",
       "      <td>0.0</td>\n",
       "      <td>0.0</td>\n",
       "      <td>0.0</td>\n",
       "    </tr>\n",
       "  </tbody>\n",
       "</table>\n",
       "</div>"
      ],
      "text/plain": [
       "    playerID                                             yearID  Y    G   AB  \\\n",
       "0  aardsda01  [2004, 2006, 2007, 2008, 2009, 2010, 2012, 201...  9  331  4.0   \n",
       "\n",
       "     H    R   HR  RBI   SB   BB  \n",
       "0  0.0  0.0  0.0  0.0  0.0  0.0  "
      ]
     },
     "execution_count": 22,
     "metadata": {},
     "output_type": "execute_result"
    }
   ],
   "source": [
    "# check for success\n",
    "\n",
    "career_batting_select.head(n=1)"
   ]
  },
  {
   "cell_type": "markdown",
   "metadata": {},
   "source": [
    "<i>Batting Average</i>\n",
    "\n",
    "One of the more heavily reported statistics in baseball is <i>Batting Average</i>.  The annual winner of the <i>Batting Title</i> is the player with the highest batting average.  Batting average is calculated by dividing the number of <b>hits</b> by the number of <b>at-bats</b>.\n",
    "\n",
    "<i>source - https://en.wikipedia.org/wiki/Batting_average#Major_League_Baseball</i>"
   ]
  },
  {
   "cell_type": "code",
   "execution_count": 23,
   "metadata": {
    "collapsed": true
   },
   "outputs": [],
   "source": [
    "# define a function that can be used in any table of batting statics that adds a column for batting average (BA)\n",
    "\n",
    "def add_batting_average(batting_table):\n",
    "    batting_average_series = batting_table['H'] / batting_table['AB']\n",
    "    batting_table['BA'] = pd.Series(batting_average_series.round(3), index = batting_table.index)"
   ]
  },
  {
   "cell_type": "code",
   "execution_count": 24,
   "metadata": {
    "collapsed": true
   },
   "outputs": [],
   "source": [
    "#apply batting average to the career batting table in this analysis\n",
    "\n",
    "add_batting_average(career_batting_select)"
   ]
  },
  {
   "cell_type": "code",
   "execution_count": 25,
   "metadata": {
    "collapsed": false
   },
   "outputs": [
    {
     "data": {
      "text/html": [
       "<div>\n",
       "<table border=\"1\" class=\"dataframe\">\n",
       "  <thead>\n",
       "    <tr style=\"text-align: right;\">\n",
       "      <th></th>\n",
       "      <th>playerID</th>\n",
       "      <th>yearID</th>\n",
       "      <th>Y</th>\n",
       "      <th>G</th>\n",
       "      <th>AB</th>\n",
       "      <th>H</th>\n",
       "      <th>R</th>\n",
       "      <th>HR</th>\n",
       "      <th>RBI</th>\n",
       "      <th>SB</th>\n",
       "      <th>BB</th>\n",
       "      <th>BA</th>\n",
       "    </tr>\n",
       "  </thead>\n",
       "  <tbody>\n",
       "    <tr>\n",
       "      <th>0</th>\n",
       "      <td>aardsda01</td>\n",
       "      <td>[2004, 2006, 2007, 2008, 2009, 2010, 2012, 201...</td>\n",
       "      <td>9</td>\n",
       "      <td>331</td>\n",
       "      <td>4.0</td>\n",
       "      <td>0.0</td>\n",
       "      <td>0.0</td>\n",
       "      <td>0.0</td>\n",
       "      <td>0.0</td>\n",
       "      <td>0.0</td>\n",
       "      <td>0.0</td>\n",
       "      <td>0.000</td>\n",
       "    </tr>\n",
       "    <tr>\n",
       "      <th>1</th>\n",
       "      <td>aaronha01</td>\n",
       "      <td>[1954, 1955, 1956, 1957, 1958, 1959, 1960, 196...</td>\n",
       "      <td>23</td>\n",
       "      <td>3298</td>\n",
       "      <td>12364.0</td>\n",
       "      <td>3771.0</td>\n",
       "      <td>2174.0</td>\n",
       "      <td>755.0</td>\n",
       "      <td>2297.0</td>\n",
       "      <td>240.0</td>\n",
       "      <td>1402.0</td>\n",
       "      <td>0.305</td>\n",
       "    </tr>\n",
       "    <tr>\n",
       "      <th>2</th>\n",
       "      <td>aaronto01</td>\n",
       "      <td>[1962, 1963, 1965, 1968, 1969, 1970, 1971]</td>\n",
       "      <td>7</td>\n",
       "      <td>437</td>\n",
       "      <td>944.0</td>\n",
       "      <td>216.0</td>\n",
       "      <td>102.0</td>\n",
       "      <td>13.0</td>\n",
       "      <td>94.0</td>\n",
       "      <td>9.0</td>\n",
       "      <td>86.0</td>\n",
       "      <td>0.229</td>\n",
       "    </tr>\n",
       "  </tbody>\n",
       "</table>\n",
       "</div>"
      ],
      "text/plain": [
       "    playerID                                             yearID   Y     G  \\\n",
       "0  aardsda01  [2004, 2006, 2007, 2008, 2009, 2010, 2012, 201...   9   331   \n",
       "1  aaronha01  [1954, 1955, 1956, 1957, 1958, 1959, 1960, 196...  23  3298   \n",
       "2  aaronto01         [1962, 1963, 1965, 1968, 1969, 1970, 1971]   7   437   \n",
       "\n",
       "        AB       H       R     HR     RBI     SB      BB     BA  \n",
       "0      4.0     0.0     0.0    0.0     0.0    0.0     0.0  0.000  \n",
       "1  12364.0  3771.0  2174.0  755.0  2297.0  240.0  1402.0  0.305  \n",
       "2    944.0   216.0   102.0   13.0    94.0    9.0    86.0  0.229  "
      ]
     },
     "execution_count": 25,
     "metadata": {},
     "output_type": "execute_result"
    }
   ],
   "source": [
    "# check for success\n",
    "\n",
    "career_batting_select.head(n=3)"
   ]
  },
  {
   "cell_type": "code",
   "execution_count": 26,
   "metadata": {
    "collapsed": false
   },
   "outputs": [],
   "source": [
    "# reorder columns\n",
    "\n",
    "career_batting_select = career_batting_select[['playerID', 'yearID', 'Y', 'G', 'AB', 'H', 'BA', 'R', 'HR', 'RBI', 'SB', 'BB']]"
   ]
  },
  {
   "cell_type": "code",
   "execution_count": 27,
   "metadata": {
    "collapsed": false
   },
   "outputs": [
    {
     "data": {
      "text/html": [
       "<div>\n",
       "<table border=\"1\" class=\"dataframe\">\n",
       "  <thead>\n",
       "    <tr style=\"text-align: right;\">\n",
       "      <th></th>\n",
       "      <th>playerID</th>\n",
       "      <th>yearID</th>\n",
       "      <th>Y</th>\n",
       "      <th>G</th>\n",
       "      <th>AB</th>\n",
       "      <th>H</th>\n",
       "      <th>BA</th>\n",
       "      <th>R</th>\n",
       "      <th>HR</th>\n",
       "      <th>RBI</th>\n",
       "      <th>SB</th>\n",
       "      <th>BB</th>\n",
       "    </tr>\n",
       "  </thead>\n",
       "  <tbody>\n",
       "    <tr>\n",
       "      <th>0</th>\n",
       "      <td>aardsda01</td>\n",
       "      <td>[2004, 2006, 2007, 2008, 2009, 2010, 2012, 201...</td>\n",
       "      <td>9</td>\n",
       "      <td>331</td>\n",
       "      <td>4.0</td>\n",
       "      <td>0.0</td>\n",
       "      <td>0.0</td>\n",
       "      <td>0.0</td>\n",
       "      <td>0.0</td>\n",
       "      <td>0.0</td>\n",
       "      <td>0.0</td>\n",
       "      <td>0.0</td>\n",
       "    </tr>\n",
       "  </tbody>\n",
       "</table>\n",
       "</div>"
      ],
      "text/plain": [
       "    playerID                                             yearID  Y    G   AB  \\\n",
       "0  aardsda01  [2004, 2006, 2007, 2008, 2009, 2010, 2012, 201...  9  331  4.0   \n",
       "\n",
       "     H   BA    R   HR  RBI   SB   BB  \n",
       "0  0.0  0.0  0.0  0.0  0.0  0.0  0.0  "
      ]
     },
     "execution_count": 27,
     "metadata": {},
     "output_type": "execute_result"
    }
   ],
   "source": [
    "# check for success\n",
    "\n",
    "career_batting_select.head(n=1)"
   ]
  },
  {
   "cell_type": "markdown",
   "metadata": {},
   "source": [
    "<i>Career Stats Exploration</i>\n",
    "\n",
    "The career_batting_select dataframe contains important career batting statistics for every player in the database.  It will be important to review the data and identify any issues prior to making any further analysis.  Applying the <i>.describe()</i> function has demonstrated that there may be some issues in the data, given <i>NaN</i> values in some columns.  See below for details.\n"
   ]
  },
  {
   "cell_type": "code",
   "execution_count": 28,
   "metadata": {
    "collapsed": false
   },
   "outputs": [
    {
     "name": "stderr",
     "output_type": "stream",
     "text": [
      "C:\\Anaconda2\\lib\\site-packages\\numpy\\lib\\function_base.py:3834: RuntimeWarning: Invalid value encountered in percentile\n",
      "  RuntimeWarning)\n"
     ]
    },
    {
     "data": {
      "text/html": [
       "<div>\n",
       "<table border=\"1\" class=\"dataframe\">\n",
       "  <thead>\n",
       "    <tr style=\"text-align: right;\">\n",
       "      <th></th>\n",
       "      <th>Y</th>\n",
       "      <th>G</th>\n",
       "      <th>AB</th>\n",
       "      <th>H</th>\n",
       "      <th>BA</th>\n",
       "      <th>R</th>\n",
       "      <th>HR</th>\n",
       "      <th>RBI</th>\n",
       "      <th>SB</th>\n",
       "      <th>BB</th>\n",
       "    </tr>\n",
       "  </thead>\n",
       "  <tbody>\n",
       "    <tr>\n",
       "      <th>count</th>\n",
       "      <td>18659.000000</td>\n",
       "      <td>18659.000000</td>\n",
       "      <td>18232.000000</td>\n",
       "      <td>18232.000000</td>\n",
       "      <td>16704.000000</td>\n",
       "      <td>18232.000000</td>\n",
       "      <td>18232.000000</td>\n",
       "      <td>18100.000000</td>\n",
       "      <td>18106.000000</td>\n",
       "      <td>18232.000000</td>\n",
       "    </tr>\n",
       "    <tr>\n",
       "      <th>mean</th>\n",
       "      <td>5.430730</td>\n",
       "      <td>279.140147</td>\n",
       "      <td>791.169153</td>\n",
       "      <td>207.125000</td>\n",
       "      <td>0.190791</td>\n",
       "      <td>104.914162</td>\n",
       "      <td>15.559072</td>\n",
       "      <td>95.045635</td>\n",
       "      <td>16.550204</td>\n",
       "      <td>72.862549</td>\n",
       "    </tr>\n",
       "    <tr>\n",
       "      <th>std</th>\n",
       "      <td>5.060208</td>\n",
       "      <td>454.051234</td>\n",
       "      <td>1618.684372</td>\n",
       "      <td>455.036893</td>\n",
       "      <td>0.119200</td>\n",
       "      <td>241.078741</td>\n",
       "      <td>50.579461</td>\n",
       "      <td>225.226345</td>\n",
       "      <td>55.653128</td>\n",
       "      <td>176.981995</td>\n",
       "    </tr>\n",
       "    <tr>\n",
       "      <th>min</th>\n",
       "      <td>1.000000</td>\n",
       "      <td>0.000000</td>\n",
       "      <td>0.000000</td>\n",
       "      <td>0.000000</td>\n",
       "      <td>0.000000</td>\n",
       "      <td>0.000000</td>\n",
       "      <td>0.000000</td>\n",
       "      <td>0.000000</td>\n",
       "      <td>0.000000</td>\n",
       "      <td>0.000000</td>\n",
       "    </tr>\n",
       "    <tr>\n",
       "      <th>25%</th>\n",
       "      <td>1.000000</td>\n",
       "      <td>13.000000</td>\n",
       "      <td>NaN</td>\n",
       "      <td>NaN</td>\n",
       "      <td>NaN</td>\n",
       "      <td>NaN</td>\n",
       "      <td>NaN</td>\n",
       "      <td>NaN</td>\n",
       "      <td>NaN</td>\n",
       "      <td>NaN</td>\n",
       "    </tr>\n",
       "    <tr>\n",
       "      <th>50%</th>\n",
       "      <td>3.000000</td>\n",
       "      <td>78.000000</td>\n",
       "      <td>NaN</td>\n",
       "      <td>NaN</td>\n",
       "      <td>NaN</td>\n",
       "      <td>NaN</td>\n",
       "      <td>NaN</td>\n",
       "      <td>NaN</td>\n",
       "      <td>NaN</td>\n",
       "      <td>NaN</td>\n",
       "    </tr>\n",
       "    <tr>\n",
       "      <th>75%</th>\n",
       "      <td>8.000000</td>\n",
       "      <td>328.500000</td>\n",
       "      <td>NaN</td>\n",
       "      <td>NaN</td>\n",
       "      <td>NaN</td>\n",
       "      <td>NaN</td>\n",
       "      <td>NaN</td>\n",
       "      <td>NaN</td>\n",
       "      <td>NaN</td>\n",
       "      <td>NaN</td>\n",
       "    </tr>\n",
       "    <tr>\n",
       "      <th>max</th>\n",
       "      <td>31.000000</td>\n",
       "      <td>3562.000000</td>\n",
       "      <td>14053.000000</td>\n",
       "      <td>4256.000000</td>\n",
       "      <td>1.000000</td>\n",
       "      <td>2295.000000</td>\n",
       "      <td>762.000000</td>\n",
       "      <td>2297.000000</td>\n",
       "      <td>1406.000000</td>\n",
       "      <td>2558.000000</td>\n",
       "    </tr>\n",
       "  </tbody>\n",
       "</table>\n",
       "</div>"
      ],
      "text/plain": [
       "                  Y             G            AB             H            BA  \\\n",
       "count  18659.000000  18659.000000  18232.000000  18232.000000  16704.000000   \n",
       "mean       5.430730    279.140147    791.169153    207.125000      0.190791   \n",
       "std        5.060208    454.051234   1618.684372    455.036893      0.119200   \n",
       "min        1.000000      0.000000      0.000000      0.000000      0.000000   \n",
       "25%        1.000000     13.000000           NaN           NaN           NaN   \n",
       "50%        3.000000     78.000000           NaN           NaN           NaN   \n",
       "75%        8.000000    328.500000           NaN           NaN           NaN   \n",
       "max       31.000000   3562.000000  14053.000000   4256.000000      1.000000   \n",
       "\n",
       "                  R            HR           RBI            SB            BB  \n",
       "count  18232.000000  18232.000000  18100.000000  18106.000000  18232.000000  \n",
       "mean     104.914162     15.559072     95.045635     16.550204     72.862549  \n",
       "std      241.078741     50.579461    225.226345     55.653128    176.981995  \n",
       "min        0.000000      0.000000      0.000000      0.000000      0.000000  \n",
       "25%             NaN           NaN           NaN           NaN           NaN  \n",
       "50%             NaN           NaN           NaN           NaN           NaN  \n",
       "75%             NaN           NaN           NaN           NaN           NaN  \n",
       "max     2295.000000    762.000000   2297.000000   1406.000000   2558.000000  "
      ]
     },
     "execution_count": 28,
     "metadata": {},
     "output_type": "execute_result"
    }
   ],
   "source": [
    "# summarize the career_batting_select dataframe, explore the data and check for issues.\n",
    "\n",
    "career_batting_select.describe()"
   ]
  },
  {
   "cell_type": "code",
   "execution_count": 29,
   "metadata": {
    "collapsed": false
   },
   "outputs": [
    {
     "data": {
      "text/plain": [
       "Int64Index([   92,   107,   124,   168,   182,   310,   332,   340,   390,\n",
       "              444,\n",
       "            ...\n",
       "            18253, 18275, 18365, 18377, 18400, 18424, 18425, 18495, 18526,\n",
       "            18599],\n",
       "           dtype='int64', length=427)"
      ]
     },
     "execution_count": 29,
     "metadata": {},
     "output_type": "execute_result"
    }
   ],
   "source": [
    "# find the indexes that contain cells with NaN values\n",
    "\n",
    "career_batting_select['AB'].index[career_batting_select['AB'].apply(np.isnan)]"
   ]
  },
  {
   "cell_type": "code",
   "execution_count": 30,
   "metadata": {
    "collapsed": false
   },
   "outputs": [
    {
     "data": {
      "text/plain": [
       "playerID       adamswi02\n",
       "yearID      [1996, 1997]\n",
       "Y                      2\n",
       "G                     25\n",
       "AB                   NaN\n",
       "H                    NaN\n",
       "BA                   NaN\n",
       "R                    NaN\n",
       "HR                   NaN\n",
       "RBI                  NaN\n",
       "SB                   NaN\n",
       "BB                   NaN\n",
       "Name: 92, dtype: object"
      ]
     },
     "execution_count": 30,
     "metadata": {},
     "output_type": "execute_result"
    }
   ],
   "source": [
    "# look at the statistics in one of the indexes that contain NaN values\n",
    "\n",
    "career_batting_select.loc[92]"
   ]
  },
  {
   "cell_type": "code",
   "execution_count": 31,
   "metadata": {
    "collapsed": false
   },
   "outputs": [
    {
     "data": {
      "text/plain": [
       "playerID    woodske01\n",
       "yearID         [1992]\n",
       "Y                   1\n",
       "G                   8\n",
       "AB                NaN\n",
       "H                 NaN\n",
       "BA                NaN\n",
       "R                 NaN\n",
       "HR                NaN\n",
       "RBI               NaN\n",
       "SB                NaN\n",
       "BB                NaN\n",
       "Name: 18365, dtype: object"
      ]
     },
     "execution_count": 31,
     "metadata": {},
     "output_type": "execute_result"
    }
   ],
   "source": [
    "# look at the statistics in one of the indexes that contain NaN values\n",
    "\n",
    "career_batting_select.loc[18365]"
   ]
  },
  {
   "cell_type": "code",
   "execution_count": 32,
   "metadata": {
    "collapsed": false
   },
   "outputs": [
    {
     "data": {
      "text/plain": [
       "playerID                         apontlu01\n",
       "yearID      [1980, 1981, 1982, 1983, 1984]\n",
       "Y                                        5\n",
       "G                                      110\n",
       "AB                                     NaN\n",
       "H                                      NaN\n",
       "BA                                     NaN\n",
       "R                                      NaN\n",
       "HR                                     NaN\n",
       "RBI                                    NaN\n",
       "SB                                     NaN\n",
       "BB                                     NaN\n",
       "Name: 390, dtype: object"
      ]
     },
     "execution_count": 32,
     "metadata": {},
     "output_type": "execute_result"
    }
   ],
   "source": [
    "# look at the statistics in one of the indexes that contain NaN values\n",
    "\n",
    "career_batting_select.loc[390]"
   ]
  },
  {
   "cell_type": "markdown",
   "metadata": {},
   "source": [
    "After looking at a couple of the problem indexes, the first two contained player data for players who appeared in a relatively small number of games, perhaps pointing to some issue regarding a small number of games.  By contrast, the third appeared in 110 games.  \n",
    "\n",
    "The complete database identifies four main tables, with unique player ID's shared across tables.  These are:\n",
    "<li>MASTER\n",
    "<li>Batting - the table that has been the focus of analysis to this point\n",
    "<li>Pitching\n",
    "<li>Fielding"
   ]
  },
  {
   "cell_type": "code",
   "execution_count": 33,
   "metadata": {
    "collapsed": false
   },
   "outputs": [
    {
     "data": {
      "text/html": [
       "<div>\n",
       "<table border=\"1\" class=\"dataframe\">\n",
       "  <thead>\n",
       "    <tr style=\"text-align: right;\">\n",
       "      <th></th>\n",
       "      <th>playerID</th>\n",
       "      <th>yearID</th>\n",
       "      <th>stint</th>\n",
       "      <th>teamID</th>\n",
       "      <th>lgID</th>\n",
       "      <th>W</th>\n",
       "      <th>L</th>\n",
       "      <th>G</th>\n",
       "      <th>GS</th>\n",
       "      <th>CG</th>\n",
       "      <th>...</th>\n",
       "      <th>IBB</th>\n",
       "      <th>WP</th>\n",
       "      <th>HBP</th>\n",
       "      <th>BK</th>\n",
       "      <th>BFP</th>\n",
       "      <th>GF</th>\n",
       "      <th>R</th>\n",
       "      <th>SH</th>\n",
       "      <th>SF</th>\n",
       "      <th>GIDP</th>\n",
       "    </tr>\n",
       "  </thead>\n",
       "  <tbody>\n",
       "    <tr>\n",
       "      <th>22989</th>\n",
       "      <td>apontlu01</td>\n",
       "      <td>1980</td>\n",
       "      <td>1</td>\n",
       "      <td>BOS</td>\n",
       "      <td>AL</td>\n",
       "      <td>0</td>\n",
       "      <td>0</td>\n",
       "      <td>4</td>\n",
       "      <td>0</td>\n",
       "      <td>0</td>\n",
       "      <td>...</td>\n",
       "      <td>1.0</td>\n",
       "      <td>0.0</td>\n",
       "      <td>0.0</td>\n",
       "      <td>0</td>\n",
       "      <td>28.0</td>\n",
       "      <td>3.0</td>\n",
       "      <td>1</td>\n",
       "      <td>NaN</td>\n",
       "      <td>NaN</td>\n",
       "      <td>NaN</td>\n",
       "    </tr>\n",
       "    <tr>\n",
       "      <th>23384</th>\n",
       "      <td>apontlu01</td>\n",
       "      <td>1981</td>\n",
       "      <td>1</td>\n",
       "      <td>BOS</td>\n",
       "      <td>AL</td>\n",
       "      <td>1</td>\n",
       "      <td>0</td>\n",
       "      <td>7</td>\n",
       "      <td>0</td>\n",
       "      <td>0</td>\n",
       "      <td>...</td>\n",
       "      <td>0.0</td>\n",
       "      <td>0.0</td>\n",
       "      <td>0.0</td>\n",
       "      <td>0</td>\n",
       "      <td>57.0</td>\n",
       "      <td>3.0</td>\n",
       "      <td>1</td>\n",
       "      <td>NaN</td>\n",
       "      <td>NaN</td>\n",
       "      <td>NaN</td>\n",
       "    </tr>\n",
       "    <tr>\n",
       "      <th>23757</th>\n",
       "      <td>apontlu01</td>\n",
       "      <td>1982</td>\n",
       "      <td>1</td>\n",
       "      <td>BOS</td>\n",
       "      <td>AL</td>\n",
       "      <td>2</td>\n",
       "      <td>2</td>\n",
       "      <td>40</td>\n",
       "      <td>0</td>\n",
       "      <td>0</td>\n",
       "      <td>...</td>\n",
       "      <td>3.0</td>\n",
       "      <td>1.0</td>\n",
       "      <td>0.0</td>\n",
       "      <td>2</td>\n",
       "      <td>349.0</td>\n",
       "      <td>28.0</td>\n",
       "      <td>31</td>\n",
       "      <td>NaN</td>\n",
       "      <td>NaN</td>\n",
       "      <td>NaN</td>\n",
       "    </tr>\n",
       "    <tr>\n",
       "      <th>24162</th>\n",
       "      <td>apontlu01</td>\n",
       "      <td>1983</td>\n",
       "      <td>1</td>\n",
       "      <td>BOS</td>\n",
       "      <td>AL</td>\n",
       "      <td>5</td>\n",
       "      <td>4</td>\n",
       "      <td>34</td>\n",
       "      <td>0</td>\n",
       "      <td>0</td>\n",
       "      <td>...</td>\n",
       "      <td>3.0</td>\n",
       "      <td>1.0</td>\n",
       "      <td>2.0</td>\n",
       "      <td>0</td>\n",
       "      <td>276.0</td>\n",
       "      <td>18.0</td>\n",
       "      <td>28</td>\n",
       "      <td>NaN</td>\n",
       "      <td>NaN</td>\n",
       "      <td>NaN</td>\n",
       "    </tr>\n",
       "    <tr>\n",
       "      <th>24574</th>\n",
       "      <td>apontlu01</td>\n",
       "      <td>1984</td>\n",
       "      <td>1</td>\n",
       "      <td>CLE</td>\n",
       "      <td>AL</td>\n",
       "      <td>1</td>\n",
       "      <td>0</td>\n",
       "      <td>25</td>\n",
       "      <td>0</td>\n",
       "      <td>0</td>\n",
       "      <td>...</td>\n",
       "      <td>0.0</td>\n",
       "      <td>3.0</td>\n",
       "      <td>1.0</td>\n",
       "      <td>1</td>\n",
       "      <td>218.0</td>\n",
       "      <td>14.0</td>\n",
       "      <td>25</td>\n",
       "      <td>NaN</td>\n",
       "      <td>NaN</td>\n",
       "      <td>NaN</td>\n",
       "    </tr>\n",
       "  </tbody>\n",
       "</table>\n",
       "<p>5 rows × 30 columns</p>\n",
       "</div>"
      ],
      "text/plain": [
       "        playerID  yearID  stint teamID lgID  W  L   G  GS  CG  ...   IBB   WP  \\\n",
       "22989  apontlu01    1980      1    BOS   AL  0  0   4   0   0  ...   1.0  0.0   \n",
       "23384  apontlu01    1981      1    BOS   AL  1  0   7   0   0  ...   0.0  0.0   \n",
       "23757  apontlu01    1982      1    BOS   AL  2  2  40   0   0  ...   3.0  1.0   \n",
       "24162  apontlu01    1983      1    BOS   AL  5  4  34   0   0  ...   3.0  1.0   \n",
       "24574  apontlu01    1984      1    CLE   AL  1  0  25   0   0  ...   0.0  3.0   \n",
       "\n",
       "       HBP  BK    BFP    GF   R  SH  SF  GIDP  \n",
       "22989  0.0   0   28.0   3.0   1 NaN NaN   NaN  \n",
       "23384  0.0   0   57.0   3.0   1 NaN NaN   NaN  \n",
       "23757  0.0   2  349.0  28.0  31 NaN NaN   NaN  \n",
       "24162  2.0   0  276.0  18.0  28 NaN NaN   NaN  \n",
       "24574  1.0   1  218.0  14.0  25 NaN NaN   NaN  \n",
       "\n",
       "[5 rows x 30 columns]"
      ]
     },
     "execution_count": 33,
     "metadata": {},
     "output_type": "execute_result"
    }
   ],
   "source": [
    "# check the pitching table for previously identified playerID\n",
    "\n",
    "pitching[(pitching['playerID'] == 'apontlu01')]"
   ]
  },
  {
   "cell_type": "code",
   "execution_count": 34,
   "metadata": {
    "collapsed": false
   },
   "outputs": [
    {
     "data": {
      "text/html": [
       "<div>\n",
       "<table border=\"1\" class=\"dataframe\">\n",
       "  <thead>\n",
       "    <tr style=\"text-align: right;\">\n",
       "      <th></th>\n",
       "      <th>playerID</th>\n",
       "      <th>yearID</th>\n",
       "      <th>stint</th>\n",
       "      <th>teamID</th>\n",
       "      <th>lgID</th>\n",
       "      <th>W</th>\n",
       "      <th>L</th>\n",
       "      <th>G</th>\n",
       "      <th>GS</th>\n",
       "      <th>CG</th>\n",
       "      <th>...</th>\n",
       "      <th>IBB</th>\n",
       "      <th>WP</th>\n",
       "      <th>HBP</th>\n",
       "      <th>BK</th>\n",
       "      <th>BFP</th>\n",
       "      <th>GF</th>\n",
       "      <th>R</th>\n",
       "      <th>SH</th>\n",
       "      <th>SF</th>\n",
       "      <th>GIDP</th>\n",
       "    </tr>\n",
       "  </thead>\n",
       "  <tbody>\n",
       "    <tr>\n",
       "      <th>30454</th>\n",
       "      <td>adamswi02</td>\n",
       "      <td>1996</td>\n",
       "      <td>1</td>\n",
       "      <td>OAK</td>\n",
       "      <td>AL</td>\n",
       "      <td>3</td>\n",
       "      <td>4</td>\n",
       "      <td>12</td>\n",
       "      <td>12</td>\n",
       "      <td>1</td>\n",
       "      <td>...</td>\n",
       "      <td>3.0</td>\n",
       "      <td>2.0</td>\n",
       "      <td>5.0</td>\n",
       "      <td>0</td>\n",
       "      <td>329.0</td>\n",
       "      <td>0.0</td>\n",
       "      <td>39</td>\n",
       "      <td>NaN</td>\n",
       "      <td>NaN</td>\n",
       "      <td>NaN</td>\n",
       "    </tr>\n",
       "    <tr>\n",
       "      <th>31045</th>\n",
       "      <td>adamswi02</td>\n",
       "      <td>1997</td>\n",
       "      <td>1</td>\n",
       "      <td>OAK</td>\n",
       "      <td>AL</td>\n",
       "      <td>3</td>\n",
       "      <td>5</td>\n",
       "      <td>13</td>\n",
       "      <td>12</td>\n",
       "      <td>0</td>\n",
       "      <td>...</td>\n",
       "      <td>2.0</td>\n",
       "      <td>2.0</td>\n",
       "      <td>4.0</td>\n",
       "      <td>0</td>\n",
       "      <td>282.0</td>\n",
       "      <td>0.0</td>\n",
       "      <td>53</td>\n",
       "      <td>NaN</td>\n",
       "      <td>NaN</td>\n",
       "      <td>NaN</td>\n",
       "    </tr>\n",
       "  </tbody>\n",
       "</table>\n",
       "<p>2 rows × 30 columns</p>\n",
       "</div>"
      ],
      "text/plain": [
       "        playerID  yearID  stint teamID lgID  W  L   G  GS  CG  ...   IBB   WP  \\\n",
       "30454  adamswi02    1996      1    OAK   AL  3  4  12  12   1  ...   3.0  2.0   \n",
       "31045  adamswi02    1997      1    OAK   AL  3  5  13  12   0  ...   2.0  2.0   \n",
       "\n",
       "       HBP  BK    BFP   GF   R  SH  SF  GIDP  \n",
       "30454  5.0   0  329.0  0.0  39 NaN NaN   NaN  \n",
       "31045  4.0   0  282.0  0.0  53 NaN NaN   NaN  \n",
       "\n",
       "[2 rows x 30 columns]"
      ]
     },
     "execution_count": 34,
     "metadata": {},
     "output_type": "execute_result"
    }
   ],
   "source": [
    "# check the pitching table for previously identified playerID\n",
    "\n",
    "pitching[(pitching['playerID'] == 'adamswi02')]"
   ]
  },
  {
   "cell_type": "markdown",
   "metadata": {},
   "source": [
    "Both of these players were pitchers in the American League.  This is a league in which pitchers do not also bat.  Pitchers are valued by teams for their pitching ability and are not often strong in batting categories.  It maybe necessary to determine whether or not pitchers should be included in this analysis if they skew the data.  \n",
    "\n",
    "In the meantime, NaN data will need to be removed so that further analysis of the batting statistics can take place."
   ]
  },
  {
   "cell_type": "code",
   "execution_count": 35,
   "metadata": {
    "collapsed": true
   },
   "outputs": [],
   "source": [
    "career_batting_select = career_batting_select.dropna(axis = 0)"
   ]
  },
  {
   "cell_type": "code",
   "execution_count": 36,
   "metadata": {
    "collapsed": false
   },
   "outputs": [
    {
     "data": {
      "text/html": [
       "<div>\n",
       "<table border=\"1\" class=\"dataframe\">\n",
       "  <thead>\n",
       "    <tr style=\"text-align: right;\">\n",
       "      <th></th>\n",
       "      <th>Y</th>\n",
       "      <th>G</th>\n",
       "      <th>AB</th>\n",
       "      <th>H</th>\n",
       "      <th>BA</th>\n",
       "      <th>R</th>\n",
       "      <th>HR</th>\n",
       "      <th>RBI</th>\n",
       "      <th>SB</th>\n",
       "      <th>BB</th>\n",
       "    </tr>\n",
       "  </thead>\n",
       "  <tbody>\n",
       "    <tr>\n",
       "      <th>count</th>\n",
       "      <td>16446.000000</td>\n",
       "      <td>16446.000000</td>\n",
       "      <td>16446.000000</td>\n",
       "      <td>16446.000000</td>\n",
       "      <td>16446.000000</td>\n",
       "      <td>16446.000000</td>\n",
       "      <td>16446.000000</td>\n",
       "      <td>16446.000000</td>\n",
       "      <td>16446.000000</td>\n",
       "      <td>16446.000000</td>\n",
       "    </tr>\n",
       "    <tr>\n",
       "      <th>mean</th>\n",
       "      <td>5.870120</td>\n",
       "      <td>311.687280</td>\n",
       "      <td>876.104159</td>\n",
       "      <td>229.404171</td>\n",
       "      <td>0.191309</td>\n",
       "      <td>116.181321</td>\n",
       "      <td>17.246990</td>\n",
       "      <td>104.570716</td>\n",
       "      <td>18.218351</td>\n",
       "      <td>80.742551</td>\n",
       "    </tr>\n",
       "    <tr>\n",
       "      <th>std</th>\n",
       "      <td>5.177251</td>\n",
       "      <td>473.465326</td>\n",
       "      <td>1682.486627</td>\n",
       "      <td>473.771718</td>\n",
       "      <td>0.119245</td>\n",
       "      <td>251.255227</td>\n",
       "      <td>52.981418</td>\n",
       "      <td>234.167697</td>\n",
       "      <td>58.133504</td>\n",
       "      <td>184.635288</td>\n",
       "    </tr>\n",
       "    <tr>\n",
       "      <th>min</th>\n",
       "      <td>1.000000</td>\n",
       "      <td>1.000000</td>\n",
       "      <td>1.000000</td>\n",
       "      <td>0.000000</td>\n",
       "      <td>0.000000</td>\n",
       "      <td>0.000000</td>\n",
       "      <td>0.000000</td>\n",
       "      <td>0.000000</td>\n",
       "      <td>0.000000</td>\n",
       "      <td>0.000000</td>\n",
       "    </tr>\n",
       "    <tr>\n",
       "      <th>25%</th>\n",
       "      <td>2.000000</td>\n",
       "      <td>19.000000</td>\n",
       "      <td>14.000000</td>\n",
       "      <td>2.000000</td>\n",
       "      <td>0.125000</td>\n",
       "      <td>1.000000</td>\n",
       "      <td>0.000000</td>\n",
       "      <td>0.000000</td>\n",
       "      <td>0.000000</td>\n",
       "      <td>1.000000</td>\n",
       "    </tr>\n",
       "    <tr>\n",
       "      <th>50%</th>\n",
       "      <td>4.000000</td>\n",
       "      <td>104.000000</td>\n",
       "      <td>120.000000</td>\n",
       "      <td>22.000000</td>\n",
       "      <td>0.214000</td>\n",
       "      <td>10.000000</td>\n",
       "      <td>0.000000</td>\n",
       "      <td>8.000000</td>\n",
       "      <td>0.000000</td>\n",
       "      <td>7.000000</td>\n",
       "    </tr>\n",
       "    <tr>\n",
       "      <th>75%</th>\n",
       "      <td>9.000000</td>\n",
       "      <td>384.000000</td>\n",
       "      <td>792.750000</td>\n",
       "      <td>184.000000</td>\n",
       "      <td>0.257000</td>\n",
       "      <td>87.000000</td>\n",
       "      <td>6.000000</td>\n",
       "      <td>75.000000</td>\n",
       "      <td>7.000000</td>\n",
       "      <td>56.000000</td>\n",
       "    </tr>\n",
       "    <tr>\n",
       "      <th>max</th>\n",
       "      <td>31.000000</td>\n",
       "      <td>3562.000000</td>\n",
       "      <td>14053.000000</td>\n",
       "      <td>4256.000000</td>\n",
       "      <td>1.000000</td>\n",
       "      <td>2295.000000</td>\n",
       "      <td>762.000000</td>\n",
       "      <td>2297.000000</td>\n",
       "      <td>1406.000000</td>\n",
       "      <td>2558.000000</td>\n",
       "    </tr>\n",
       "  </tbody>\n",
       "</table>\n",
       "</div>"
      ],
      "text/plain": [
       "                  Y             G            AB             H            BA  \\\n",
       "count  16446.000000  16446.000000  16446.000000  16446.000000  16446.000000   \n",
       "mean       5.870120    311.687280    876.104159    229.404171      0.191309   \n",
       "std        5.177251    473.465326   1682.486627    473.771718      0.119245   \n",
       "min        1.000000      1.000000      1.000000      0.000000      0.000000   \n",
       "25%        2.000000     19.000000     14.000000      2.000000      0.125000   \n",
       "50%        4.000000    104.000000    120.000000     22.000000      0.214000   \n",
       "75%        9.000000    384.000000    792.750000    184.000000      0.257000   \n",
       "max       31.000000   3562.000000  14053.000000   4256.000000      1.000000   \n",
       "\n",
       "                  R            HR           RBI            SB            BB  \n",
       "count  16446.000000  16446.000000  16446.000000  16446.000000  16446.000000  \n",
       "mean     116.181321     17.246990    104.570716     18.218351     80.742551  \n",
       "std      251.255227     52.981418    234.167697     58.133504    184.635288  \n",
       "min        0.000000      0.000000      0.000000      0.000000      0.000000  \n",
       "25%        1.000000      0.000000      0.000000      0.000000      1.000000  \n",
       "50%       10.000000      0.000000      8.000000      0.000000      7.000000  \n",
       "75%       87.000000      6.000000     75.000000      7.000000     56.000000  \n",
       "max     2295.000000    762.000000   2297.000000   1406.000000   2558.000000  "
      ]
     },
     "execution_count": 36,
     "metadata": {},
     "output_type": "execute_result"
    }
   ],
   "source": [
    "# check for errors and NaN figures\n",
    "\n",
    "career_batting_select.describe()"
   ]
  },
  {
   "cell_type": "markdown",
   "metadata": {},
   "source": [
    "<hr>"
   ]
  },
  {
   "cell_type": "markdown",
   "metadata": {},
   "source": [
    "### Eligibility\n",
    "\n",
    "According to the Hall of Fame website, to be eligible for the hall of fame, a player has to have played in each of ten seasons, and is not eligible for the first five years of retirement as a player (can move onto another position like coach and still satisfy the requirement).  By only analyzing eligible players, the analysis can avoid outliers, such as players who have not played in many games, and therefore have very insignificant statistics."
   ]
  },
  {
   "cell_type": "markdown",
   "metadata": {},
   "source": [
    "<i>Active Players</i>\n",
    "\n",
    "A player is active if in the Master Table, there is a blank value for 'finalGame'.  Because the value is blank, it could affect calculations.  Another reason to remove active players is that they are ineligible for the HOF."
   ]
  },
  {
   "cell_type": "code",
   "execution_count": 37,
   "metadata": {
    "collapsed": false
   },
   "outputs": [
    {
     "data": {
      "text/plain": [
       "18846"
      ]
     },
     "execution_count": 37,
     "metadata": {},
     "output_type": "execute_result"
    }
   ],
   "source": [
    "# remove blank data from master from finalGame column\n",
    "# check to see how many players are in the database prior to code and operations to reduce\n",
    "\n",
    "len(master.index)"
   ]
  },
  {
   "cell_type": "code",
   "execution_count": 38,
   "metadata": {
    "collapsed": true
   },
   "outputs": [],
   "source": [
    "# create a variable that stores players who meet the eligibility requirements, start with a copy of the master\n",
    "\n",
    "eligible_players = master.copy()"
   ]
  },
  {
   "cell_type": "code",
   "execution_count": 39,
   "metadata": {
    "collapsed": false
   },
   "outputs": [],
   "source": [
    "# first eliminate active players\n",
    "\n",
    "# replace empty cells in the 'finalGame' colum with NaN\n",
    "eligible_players['finalGame'].replace('', np.nan, inplace = True)\n",
    "\n",
    "# drop the rows with NaN\n",
    "eligible_players.dropna(subset=['finalGame'], inplace = True)\n",
    "\n",
    "# source for code help - http://stackoverflow.com/questions/29314033/python-pandas-dataframe-remove-empty-cells\n"
   ]
  },
  {
   "cell_type": "code",
   "execution_count": 40,
   "metadata": {
    "collapsed": false
   },
   "outputs": [
    {
     "data": {
      "text/plain": [
       "18653"
      ]
     },
     "execution_count": 40,
     "metadata": {},
     "output_type": "execute_result"
    }
   ],
   "source": [
    "# check that rows were removed\n",
    "\n",
    "len(eligible_players.index)"
   ]
  },
  {
   "cell_type": "markdown",
   "metadata": {},
   "source": [
    "<i>Retired prior to 2011</i>\n",
    "\n",
    "Since the databse considers players inducted to the hall of fame in 2016 and earlier, to meet the retirement eligibility criteria, they must have retired prior to 2011, five calendar years prior to their induction."
   ]
  },
  {
   "cell_type": "code",
   "execution_count": 41,
   "metadata": {
    "collapsed": false
   },
   "outputs": [
    {
     "data": {
      "text/plain": [
       "dtype('O')"
      ]
     },
     "execution_count": 41,
     "metadata": {},
     "output_type": "execute_result"
    }
   ],
   "source": [
    "# check datatype of 'finalGame'\n",
    "\n",
    "eligible_players['finalGame'].dtype"
   ]
  },
  {
   "cell_type": "code",
   "execution_count": 42,
   "metadata": {
    "collapsed": false
   },
   "outputs": [],
   "source": [
    "# convert the date in finalGame to a datetime object\n",
    "\n",
    "eligible_players['finalGame'] = pd.to_datetime(eligible_players['finalGame'], format='%Y-%m-%d')"
   ]
  },
  {
   "cell_type": "code",
   "execution_count": 43,
   "metadata": {
    "collapsed": true
   },
   "outputs": [],
   "source": [
    "# store only data for players who've retired prior to 2011\n",
    "\n",
    "eligible_players = eligible_players.loc[eligible_players['finalGame'] < '2011-01-01']"
   ]
  },
  {
   "cell_type": "code",
   "execution_count": 44,
   "metadata": {
    "collapsed": false
   },
   "outputs": [
    {
     "data": {
      "text/plain": [
       "16328"
      ]
     },
     "execution_count": 44,
     "metadata": {},
     "output_type": "execute_result"
    }
   ],
   "source": [
    "# check that rows were removed\n",
    "\n",
    "len(eligible_players.index)"
   ]
  },
  {
   "cell_type": "code",
   "execution_count": 45,
   "metadata": {
    "collapsed": false
   },
   "outputs": [
    {
     "data": {
      "text/plain": [
       "Timestamp('2010-10-03 00:00:00')"
      ]
     },
     "execution_count": 45,
     "metadata": {},
     "output_type": "execute_result"
    }
   ],
   "source": [
    "# if the operation worked, the max value for finalGame will occur during 2010 or earlier\n",
    "\n",
    "max(eligible_players.finalGame)"
   ]
  },
  {
   "cell_type": "markdown",
   "metadata": {},
   "source": [
    "<i>Defining Eras</i>\n",
    "\n",
    "For a future comparison, the eligible player list will be sorted by thirty year periods."
   ]
  },
  {
   "cell_type": "code",
   "execution_count": 46,
   "metadata": {
    "collapsed": false
   },
   "outputs": [],
   "source": [
    "# each variable stores eligible players who played during a thirty year period\n",
    "\n",
    "eligible_players_1900 = eligible_players.loc[eligible_players['finalGame'] < '1900-01-01']\n",
    "\n",
    "eligible_players_1930 = eligible_players.loc[(eligible_players['finalGame'] < '1930-01-01') \n",
    "                                             & (eligible_players['finalGame'] > '1900-01-01')]\n",
    "\n",
    "eligible_players_1960 = eligible_players.loc[(eligible_players['finalGame'] < '1960-01-01') \n",
    "                                             & (eligible_players['finalGame'] > '1930-01-01')]\n",
    "\n",
    "eligible_players_1990 = eligible_players.loc[(eligible_players['finalGame'] < '1990-01-01') \n",
    "                                             & (eligible_players['finalGame'] > '1960-01-01')]\n",
    "\n",
    "eligible_players_2010 = eligible_players.loc[(eligible_players['finalGame'] < '2010-01-01') \n",
    "                                             & (eligible_players['finalGame'] > '1990-01-01')]\n",
    "\n"
   ]
  },
  {
   "cell_type": "markdown",
   "metadata": {},
   "source": [
    "<i>Played 10 Years</i>\n",
    "\n",
    "Eligible_players now includes data for players who are not active and have retired prior to 2011, making them eligible for the hall of fame, per the retirement criteria.  The next criteria to consider is the ten year minimum.  As a starting point, some of the previous analysis proved that the batting table has statistics for all players, even those who've never had an at-bat."
   ]
  },
  {
   "cell_type": "code",
   "execution_count": 47,
   "metadata": {
    "collapsed": true
   },
   "outputs": [],
   "source": [
    "# define new variable to store the selected career batting stats for players who've played in 10 or more seasons\n",
    "\n",
    "hof_eligible_batting_stats = career_batting_select.loc[career_batting_select['Y'] >= 10]"
   ]
  },
  {
   "cell_type": "code",
   "execution_count": 48,
   "metadata": {
    "collapsed": false
   },
   "outputs": [
    {
     "data": {
      "text/plain": [
       "10"
      ]
     },
     "execution_count": 48,
     "metadata": {},
     "output_type": "execute_result"
    }
   ],
   "source": [
    "# check that the minimum Years are 10\n",
    "\n",
    "min(hof_eligible_batting_stats.Y)"
   ]
  },
  {
   "cell_type": "code",
   "execution_count": 49,
   "metadata": {
    "collapsed": true
   },
   "outputs": [],
   "source": [
    "# redefine the variable to store the selected career batting stats for players who are in the eligible_players\n",
    "# dataframe, which includes all players that meet the retirement criteria\n",
    "\n",
    "hof_eligible_batting_stats = hof_eligible_batting_stats.loc[hof_eligible_batting_stats['playerID']\n",
    "                                                            .isin(eligible_players['playerID'])]"
   ]
  },
  {
   "cell_type": "markdown",
   "metadata": {},
   "source": [
    "<hr>"
   ]
  },
  {
   "cell_type": "markdown",
   "metadata": {},
   "source": [
    "### Finalizing the Dataframes for Analysis\n",
    "\n",
    "<i>Statistics for all eligible players</i>"
   ]
  },
  {
   "cell_type": "code",
   "execution_count": 50,
   "metadata": {
    "collapsed": false
   },
   "outputs": [
    {
     "data": {
      "text/html": [
       "<div>\n",
       "<table border=\"1\" class=\"dataframe\">\n",
       "  <thead>\n",
       "    <tr style=\"text-align: right;\">\n",
       "      <th></th>\n",
       "      <th>Y</th>\n",
       "      <th>G</th>\n",
       "      <th>AB</th>\n",
       "      <th>H</th>\n",
       "      <th>BA</th>\n",
       "      <th>R</th>\n",
       "      <th>HR</th>\n",
       "      <th>RBI</th>\n",
       "      <th>SB</th>\n",
       "      <th>BB</th>\n",
       "    </tr>\n",
       "  </thead>\n",
       "  <tbody>\n",
       "    <tr>\n",
       "      <th>count</th>\n",
       "      <td>3300.000000</td>\n",
       "      <td>3300.000000</td>\n",
       "      <td>3300.000000</td>\n",
       "      <td>3300.000000</td>\n",
       "      <td>3300.000000</td>\n",
       "      <td>3300.000000</td>\n",
       "      <td>3300.000000</td>\n",
       "      <td>3300.000000</td>\n",
       "      <td>3300.000000</td>\n",
       "      <td>3300.000000</td>\n",
       "    </tr>\n",
       "    <tr>\n",
       "      <th>mean</th>\n",
       "      <td>14.012727</td>\n",
       "      <td>944.905455</td>\n",
       "      <td>2811.818788</td>\n",
       "      <td>753.736061</td>\n",
       "      <td>0.223406</td>\n",
       "      <td>383.306667</td>\n",
       "      <td>57.288788</td>\n",
       "      <td>348.912727</td>\n",
       "      <td>60.759394</td>\n",
       "      <td>268.699394</td>\n",
       "    </tr>\n",
       "    <tr>\n",
       "      <th>std</th>\n",
       "      <td>3.480142</td>\n",
       "      <td>600.675571</td>\n",
       "      <td>2529.819021</td>\n",
       "      <td>739.945018</td>\n",
       "      <td>0.072695</td>\n",
       "      <td>403.071263</td>\n",
       "      <td>91.868885</td>\n",
       "      <td>377.129626</td>\n",
       "      <td>107.725256</td>\n",
       "      <td>304.453603</td>\n",
       "    </tr>\n",
       "    <tr>\n",
       "      <th>min</th>\n",
       "      <td>10.000000</td>\n",
       "      <td>92.000000</td>\n",
       "      <td>1.000000</td>\n",
       "      <td>0.000000</td>\n",
       "      <td>0.000000</td>\n",
       "      <td>0.000000</td>\n",
       "      <td>0.000000</td>\n",
       "      <td>0.000000</td>\n",
       "      <td>0.000000</td>\n",
       "      <td>0.000000</td>\n",
       "    </tr>\n",
       "    <tr>\n",
       "      <th>25%</th>\n",
       "      <td>11.000000</td>\n",
       "      <td>435.000000</td>\n",
       "      <td>537.250000</td>\n",
       "      <td>87.000000</td>\n",
       "      <td>0.181000</td>\n",
       "      <td>37.000000</td>\n",
       "      <td>2.000000</td>\n",
       "      <td>32.000000</td>\n",
       "      <td>1.000000</td>\n",
       "      <td>23.000000</td>\n",
       "    </tr>\n",
       "    <tr>\n",
       "      <th>50%</th>\n",
       "      <td>13.000000</td>\n",
       "      <td>813.000000</td>\n",
       "      <td>2255.500000</td>\n",
       "      <td>568.500000</td>\n",
       "      <td>0.249000</td>\n",
       "      <td>266.500000</td>\n",
       "      <td>19.000000</td>\n",
       "      <td>238.500000</td>\n",
       "      <td>16.000000</td>\n",
       "      <td>179.000000</td>\n",
       "    </tr>\n",
       "    <tr>\n",
       "      <th>75%</th>\n",
       "      <td>16.000000</td>\n",
       "      <td>1328.000000</td>\n",
       "      <td>4533.750000</td>\n",
       "      <td>1227.000000</td>\n",
       "      <td>0.271000</td>\n",
       "      <td>617.000000</td>\n",
       "      <td>74.000000</td>\n",
       "      <td>533.000000</td>\n",
       "      <td>69.000000</td>\n",
       "      <td>413.250000</td>\n",
       "    </tr>\n",
       "    <tr>\n",
       "      <th>max</th>\n",
       "      <td>31.000000</td>\n",
       "      <td>3562.000000</td>\n",
       "      <td>14053.000000</td>\n",
       "      <td>4256.000000</td>\n",
       "      <td>1.000000</td>\n",
       "      <td>2295.000000</td>\n",
       "      <td>762.000000</td>\n",
       "      <td>2297.000000</td>\n",
       "      <td>1406.000000</td>\n",
       "      <td>2558.000000</td>\n",
       "    </tr>\n",
       "  </tbody>\n",
       "</table>\n",
       "</div>"
      ],
      "text/plain": [
       "                 Y            G            AB            H           BA  \\\n",
       "count  3300.000000  3300.000000   3300.000000  3300.000000  3300.000000   \n",
       "mean     14.012727   944.905455   2811.818788   753.736061     0.223406   \n",
       "std       3.480142   600.675571   2529.819021   739.945018     0.072695   \n",
       "min      10.000000    92.000000      1.000000     0.000000     0.000000   \n",
       "25%      11.000000   435.000000    537.250000    87.000000     0.181000   \n",
       "50%      13.000000   813.000000   2255.500000   568.500000     0.249000   \n",
       "75%      16.000000  1328.000000   4533.750000  1227.000000     0.271000   \n",
       "max      31.000000  3562.000000  14053.000000  4256.000000     1.000000   \n",
       "\n",
       "                 R           HR          RBI           SB           BB  \n",
       "count  3300.000000  3300.000000  3300.000000  3300.000000  3300.000000  \n",
       "mean    383.306667    57.288788   348.912727    60.759394   268.699394  \n",
       "std     403.071263    91.868885   377.129626   107.725256   304.453603  \n",
       "min       0.000000     0.000000     0.000000     0.000000     0.000000  \n",
       "25%      37.000000     2.000000    32.000000     1.000000    23.000000  \n",
       "50%     266.500000    19.000000   238.500000    16.000000   179.000000  \n",
       "75%     617.000000    74.000000   533.000000    69.000000   413.250000  \n",
       "max    2295.000000   762.000000  2297.000000  1406.000000  2558.000000  "
      ]
     },
     "execution_count": 50,
     "metadata": {},
     "output_type": "execute_result"
    }
   ],
   "source": [
    "# explore the batting stats of players who are eligible for induction into the hall of fame\n",
    "\n",
    "hof_eligible_batting_stats.describe()"
   ]
  },
  {
   "cell_type": "markdown",
   "metadata": {},
   "source": [
    "It's unusual that a player who has played for at least ten years has only 1 at bat or 0 hits.  As stated earlier, pitchers could be a drain on the offensive statistics, because:  \n",
    "<li>American League pitchers didn't bat at all until 1997 (when interleague play was introduced)*\n",
    "<li>Starting pitchers don't pitch every game, and relief pitchers are in the game only for short portions, meaning that most pitchers will not have enough career at-bats to accumulate volumes of statistics, skewing some of the analysis\n",
    "\n",
    "Removing pitchers may improve statistical comparisons.\n",
    "\n",
    "<i>* Source - https://en.wikipedia.org/wiki/Interleague_play#Interleague_play_introduced</i>"
   ]
  },
  {
   "cell_type": "code",
   "execution_count": 51,
   "metadata": {
    "collapsed": true
   },
   "outputs": [],
   "source": [
    "# store batting data for players not in the pitching dataframe\n",
    "\n",
    "hof_elg_bat_stats_nopitch = hof_eligible_batting_stats.loc[~hof_eligible_batting_stats['playerID']\n",
    "                                                            .isin(pitching['playerID'])]"
   ]
  },
  {
   "cell_type": "code",
   "execution_count": 52,
   "metadata": {
    "collapsed": false
   },
   "outputs": [
    {
     "data": {
      "text/html": [
       "<div>\n",
       "<table border=\"1\" class=\"dataframe\">\n",
       "  <thead>\n",
       "    <tr style=\"text-align: right;\">\n",
       "      <th></th>\n",
       "      <th>Y</th>\n",
       "      <th>G</th>\n",
       "      <th>AB</th>\n",
       "      <th>H</th>\n",
       "      <th>BA</th>\n",
       "      <th>R</th>\n",
       "      <th>HR</th>\n",
       "      <th>RBI</th>\n",
       "      <th>SB</th>\n",
       "      <th>BB</th>\n",
       "    </tr>\n",
       "  </thead>\n",
       "  <tbody>\n",
       "    <tr>\n",
       "      <th>count</th>\n",
       "      <td>1838.000000</td>\n",
       "      <td>1838.000000</td>\n",
       "      <td>1838.000000</td>\n",
       "      <td>1838.000000</td>\n",
       "      <td>1838.000000</td>\n",
       "      <td>1838.000000</td>\n",
       "      <td>1838.000000</td>\n",
       "      <td>1838.000000</td>\n",
       "      <td>1838.000000</td>\n",
       "      <td>1838.000000</td>\n",
       "    </tr>\n",
       "    <tr>\n",
       "      <th>mean</th>\n",
       "      <td>13.960827</td>\n",
       "      <td>1247.224701</td>\n",
       "      <td>4161.221980</td>\n",
       "      <td>1133.229597</td>\n",
       "      <td>0.265170</td>\n",
       "      <td>572.995647</td>\n",
       "      <td>92.595756</td>\n",
       "      <td>527.434168</td>\n",
       "      <td>89.480958</td>\n",
       "      <td>413.538629</td>\n",
       "    </tr>\n",
       "    <tr>\n",
       "      <th>std</th>\n",
       "      <td>3.354340</td>\n",
       "      <td>544.287568</td>\n",
       "      <td>2170.039198</td>\n",
       "      <td>649.858631</td>\n",
       "      <td>0.024501</td>\n",
       "      <td>367.443569</td>\n",
       "      <td>103.093841</td>\n",
       "      <td>355.956691</td>\n",
       "      <td>118.225702</td>\n",
       "      <td>295.870978</td>\n",
       "    </tr>\n",
       "    <tr>\n",
       "      <th>min</th>\n",
       "      <td>10.000000</td>\n",
       "      <td>140.000000</td>\n",
       "      <td>244.000000</td>\n",
       "      <td>46.000000</td>\n",
       "      <td>0.161000</td>\n",
       "      <td>20.000000</td>\n",
       "      <td>0.000000</td>\n",
       "      <td>21.000000</td>\n",
       "      <td>0.000000</td>\n",
       "      <td>17.000000</td>\n",
       "    </tr>\n",
       "    <tr>\n",
       "      <th>25%</th>\n",
       "      <td>11.000000</td>\n",
       "      <td>847.250000</td>\n",
       "      <td>2473.250000</td>\n",
       "      <td>629.250000</td>\n",
       "      <td>0.250000</td>\n",
       "      <td>292.000000</td>\n",
       "      <td>23.000000</td>\n",
       "      <td>261.000000</td>\n",
       "      <td>17.000000</td>\n",
       "      <td>204.250000</td>\n",
       "    </tr>\n",
       "    <tr>\n",
       "      <th>50%</th>\n",
       "      <td>13.000000</td>\n",
       "      <td>1187.500000</td>\n",
       "      <td>3927.000000</td>\n",
       "      <td>1041.500000</td>\n",
       "      <td>0.265000</td>\n",
       "      <td>503.000000</td>\n",
       "      <td>56.000000</td>\n",
       "      <td>443.000000</td>\n",
       "      <td>45.000000</td>\n",
       "      <td>343.000000</td>\n",
       "    </tr>\n",
       "    <tr>\n",
       "      <th>75%</th>\n",
       "      <td>16.000000</td>\n",
       "      <td>1571.750000</td>\n",
       "      <td>5491.500000</td>\n",
       "      <td>1504.250000</td>\n",
       "      <td>0.280000</td>\n",
       "      <td>768.750000</td>\n",
       "      <td>123.000000</td>\n",
       "      <td>701.750000</td>\n",
       "      <td>117.000000</td>\n",
       "      <td>547.750000</td>\n",
       "    </tr>\n",
       "    <tr>\n",
       "      <th>max</th>\n",
       "      <td>29.000000</td>\n",
       "      <td>3562.000000</td>\n",
       "      <td>14053.000000</td>\n",
       "      <td>4256.000000</td>\n",
       "      <td>0.358000</td>\n",
       "      <td>2295.000000</td>\n",
       "      <td>762.000000</td>\n",
       "      <td>2297.000000</td>\n",
       "      <td>1406.000000</td>\n",
       "      <td>2558.000000</td>\n",
       "    </tr>\n",
       "  </tbody>\n",
       "</table>\n",
       "</div>"
      ],
      "text/plain": [
       "                 Y            G            AB            H           BA  \\\n",
       "count  1838.000000  1838.000000   1838.000000  1838.000000  1838.000000   \n",
       "mean     13.960827  1247.224701   4161.221980  1133.229597     0.265170   \n",
       "std       3.354340   544.287568   2170.039198   649.858631     0.024501   \n",
       "min      10.000000   140.000000    244.000000    46.000000     0.161000   \n",
       "25%      11.000000   847.250000   2473.250000   629.250000     0.250000   \n",
       "50%      13.000000  1187.500000   3927.000000  1041.500000     0.265000   \n",
       "75%      16.000000  1571.750000   5491.500000  1504.250000     0.280000   \n",
       "max      29.000000  3562.000000  14053.000000  4256.000000     0.358000   \n",
       "\n",
       "                 R           HR          RBI           SB           BB  \n",
       "count  1838.000000  1838.000000  1838.000000  1838.000000  1838.000000  \n",
       "mean    572.995647    92.595756   527.434168    89.480958   413.538629  \n",
       "std     367.443569   103.093841   355.956691   118.225702   295.870978  \n",
       "min      20.000000     0.000000    21.000000     0.000000    17.000000  \n",
       "25%     292.000000    23.000000   261.000000    17.000000   204.250000  \n",
       "50%     503.000000    56.000000   443.000000    45.000000   343.000000  \n",
       "75%     768.750000   123.000000   701.750000   117.000000   547.750000  \n",
       "max    2295.000000   762.000000  2297.000000  1406.000000  2558.000000  "
      ]
     },
     "execution_count": 52,
     "metadata": {},
     "output_type": "execute_result"
    }
   ],
   "source": [
    "# explore the statistics after dropping pitchers\n",
    "\n",
    "hof_elg_bat_stats_nopitch.describe()"
   ]
  },
  {
   "cell_type": "code",
   "execution_count": 53,
   "metadata": {
    "collapsed": false
   },
   "outputs": [
    {
     "name": "stderr",
     "output_type": "stream",
     "text": [
      "C:\\Anaconda2\\lib\\site-packages\\ipykernel\\__main__.py:4: SettingWithCopyWarning: \n",
      "A value is trying to be set on a copy of a slice from a DataFrame.\n",
      "Try using .loc[row_indexer,col_indexer] = value instead\n",
      "\n",
      "See the caveats in the documentation: http://pandas.pydata.org/pandas-docs/stable/indexing.html#indexing-view-versus-copy\n"
     ]
    }
   ],
   "source": [
    "# create a column with Hall of Fame status\n",
    "\n",
    "hof_elg_bat_stats_nopitch['HOF'] = pd.Series((hof_elg_bat_stats_nopitch['playerID'].isin(hall_players['playerID'])), \n",
    "                                     index = hof_elg_bat_stats_nopitch.index)"
   ]
  },
  {
   "cell_type": "code",
   "execution_count": 54,
   "metadata": {
    "collapsed": false
   },
   "outputs": [
    {
     "data": {
      "text/html": [
       "<div>\n",
       "<table border=\"1\" class=\"dataframe\">\n",
       "  <thead>\n",
       "    <tr style=\"text-align: right;\">\n",
       "      <th></th>\n",
       "      <th>playerID</th>\n",
       "      <th>yearID</th>\n",
       "      <th>Y</th>\n",
       "      <th>G</th>\n",
       "      <th>AB</th>\n",
       "      <th>H</th>\n",
       "      <th>BA</th>\n",
       "      <th>R</th>\n",
       "      <th>HR</th>\n",
       "      <th>RBI</th>\n",
       "      <th>SB</th>\n",
       "      <th>BB</th>\n",
       "      <th>HOF</th>\n",
       "    </tr>\n",
       "  </thead>\n",
       "  <tbody>\n",
       "    <tr>\n",
       "      <th>1</th>\n",
       "      <td>aaronha01</td>\n",
       "      <td>[1954, 1955, 1956, 1957, 1958, 1959, 1960, 196...</td>\n",
       "      <td>23</td>\n",
       "      <td>3298</td>\n",
       "      <td>12364.0</td>\n",
       "      <td>3771.0</td>\n",
       "      <td>0.305</td>\n",
       "      <td>2174.0</td>\n",
       "      <td>755.0</td>\n",
       "      <td>2297.0</td>\n",
       "      <td>240.0</td>\n",
       "      <td>1402.0</td>\n",
       "      <td>True</td>\n",
       "    </tr>\n",
       "  </tbody>\n",
       "</table>\n",
       "</div>"
      ],
      "text/plain": [
       "    playerID                                             yearID   Y     G  \\\n",
       "1  aaronha01  [1954, 1955, 1956, 1957, 1958, 1959, 1960, 196...  23  3298   \n",
       "\n",
       "        AB       H     BA       R     HR     RBI     SB      BB   HOF  \n",
       "1  12364.0  3771.0  0.305  2174.0  755.0  2297.0  240.0  1402.0  True  "
      ]
     },
     "execution_count": 54,
     "metadata": {},
     "output_type": "execute_result"
    }
   ],
   "source": [
    "# check for success\n",
    "\n",
    "hof_elg_bat_stats_nopitch.head(n = 1)"
   ]
  },
  {
   "cell_type": "code",
   "execution_count": 55,
   "metadata": {
    "collapsed": false
   },
   "outputs": [],
   "source": [
    "# for a simpler view, eliminate the yearID, now summed in 'Y'\n",
    "\n",
    "hof_elg_bat_stats_nopitch = hof_elg_bat_stats_nopitch[['playerID', 'Y', 'G', 'AB', 'H', 'BA', 'R', 'HR', 'RBI', 'SB'\n",
    "                                                      , 'BB', 'HOF']]"
   ]
  },
  {
   "cell_type": "code",
   "execution_count": 56,
   "metadata": {
    "collapsed": false
   },
   "outputs": [
    {
     "data": {
      "text/html": [
       "<div>\n",
       "<table border=\"1\" class=\"dataframe\">\n",
       "  <thead>\n",
       "    <tr style=\"text-align: right;\">\n",
       "      <th></th>\n",
       "      <th>playerID</th>\n",
       "      <th>Y</th>\n",
       "      <th>G</th>\n",
       "      <th>AB</th>\n",
       "      <th>H</th>\n",
       "      <th>BA</th>\n",
       "      <th>R</th>\n",
       "      <th>HR</th>\n",
       "      <th>RBI</th>\n",
       "      <th>SB</th>\n",
       "      <th>BB</th>\n",
       "      <th>HOF</th>\n",
       "    </tr>\n",
       "  </thead>\n",
       "  <tbody>\n",
       "    <tr>\n",
       "      <th>1</th>\n",
       "      <td>aaronha01</td>\n",
       "      <td>23</td>\n",
       "      <td>3298</td>\n",
       "      <td>12364.0</td>\n",
       "      <td>3771.0</td>\n",
       "      <td>0.305</td>\n",
       "      <td>2174.0</td>\n",
       "      <td>755.0</td>\n",
       "      <td>2297.0</td>\n",
       "      <td>240.0</td>\n",
       "      <td>1402.0</td>\n",
       "      <td>True</td>\n",
       "    </tr>\n",
       "  </tbody>\n",
       "</table>\n",
       "</div>"
      ],
      "text/plain": [
       "    playerID   Y     G       AB       H     BA       R     HR     RBI     SB  \\\n",
       "1  aaronha01  23  3298  12364.0  3771.0  0.305  2174.0  755.0  2297.0  240.0   \n",
       "\n",
       "       BB   HOF  \n",
       "1  1402.0  True  "
      ]
     },
     "execution_count": 56,
     "metadata": {},
     "output_type": "execute_result"
    }
   ],
   "source": [
    "#check for success\n",
    "\n",
    "hof_elg_bat_stats_nopitch.head(n=1)"
   ]
  },
  {
   "cell_type": "code",
   "execution_count": 57,
   "metadata": {
    "collapsed": false
   },
   "outputs": [
    {
     "data": {
      "text/plain": [
       "1838"
      ]
     },
     "execution_count": 57,
     "metadata": {},
     "output_type": "execute_result"
    }
   ],
   "source": [
    "#check to make sure the number of players is still realistic\n",
    "\n",
    "len(hof_elg_bat_stats_nopitch.index)"
   ]
  },
  {
   "cell_type": "code",
   "execution_count": 58,
   "metadata": {
    "collapsed": true
   },
   "outputs": [],
   "source": [
    "# provide different variable representing the different eras defined earlier\n",
    "\n",
    "hof_elg_bat_stats_nopitch_1900 = hof_elg_bat_stats_nopitch.loc[hof_elg_bat_stats_nopitch['playerID']\n",
    "                                                               .isin(eligible_players_1900['playerID'])]\n",
    "\n",
    "hof_elg_bat_stats_nopitch_1930 = hof_elg_bat_stats_nopitch.loc[hof_elg_bat_stats_nopitch['playerID']\n",
    "                                                               .isin(eligible_players_1930['playerID'])]\n",
    "\n",
    "hof_elg_bat_stats_nopitch_1960 = hof_elg_bat_stats_nopitch.loc[hof_elg_bat_stats_nopitch['playerID']\n",
    "                                                               .isin(eligible_players_1960['playerID'])]\n",
    "\n",
    "hof_elg_bat_stats_nopitch_1990 = hof_elg_bat_stats_nopitch.loc[hof_elg_bat_stats_nopitch['playerID']\n",
    "                                                               .isin(eligible_players_1990['playerID'])]\n",
    "\n",
    "hof_elg_bat_stats_nopitch_2010 = hof_elg_bat_stats_nopitch.loc[hof_elg_bat_stats_nopitch['playerID']\n",
    "                                                               .isin(eligible_players_2010['playerID'])]"
   ]
  },
  {
   "cell_type": "markdown",
   "metadata": {},
   "source": [
    "<b>hof_elg_bat_stats_nopitch</b> is the important dataframe going forward, as a summary database containing:\n",
    "<li>select career batting stats for analysis for all players that meet the hall of fame criteria and are not pitchers\n",
    " \n",
    "<li>hall of fame status for each player\n",
    " \n",
    "<li>a value indicating whether or not the player has received consideration for the HOF (received votes)\n",
    " \n",
    "<li>statistics for certain eras:\n",
    "     - hof_elg_bat_stats_nopitch_1900\n",
    "     - hof_elg_bat_stats_nopitch_1930\n",
    "     - hof_elg_bat_stats_nopitch_1960\n",
    "     - hof_elg_bat_stats_nopitch_1990\n",
    "     - hof_elg_bat_stats_nopitch_2010"
   ]
  },
  {
   "cell_type": "markdown",
   "metadata": {},
   "source": [
    "<i>Hall of Fame Batting Statistics</i>"
   ]
  },
  {
   "cell_type": "code",
   "execution_count": 59,
   "metadata": {
    "collapsed": true
   },
   "outputs": [],
   "source": [
    "# store only hall of famers\n",
    "\n",
    "hof_batters = hof_elg_bat_stats_nopitch.loc[(hof_elg_bat_stats_nopitch['HOF'] == True)]"
   ]
  },
  {
   "cell_type": "code",
   "execution_count": 60,
   "metadata": {
    "collapsed": true
   },
   "outputs": [],
   "source": [
    "# redefine important rows\n",
    "\n",
    "hof_batters = hof_batters[['playerID', 'Y', 'G', 'AB', 'H', 'BA', 'R', 'HR', 'RBI', 'SB', 'BB']]"
   ]
  },
  {
   "cell_type": "code",
   "execution_count": 61,
   "metadata": {
    "collapsed": false
   },
   "outputs": [
    {
     "data": {
      "text/html": [
       "<div>\n",
       "<table border=\"1\" class=\"dataframe\">\n",
       "  <thead>\n",
       "    <tr style=\"text-align: right;\">\n",
       "      <th></th>\n",
       "      <th>playerID</th>\n",
       "      <th>Y</th>\n",
       "      <th>G</th>\n",
       "      <th>AB</th>\n",
       "      <th>H</th>\n",
       "      <th>BA</th>\n",
       "      <th>R</th>\n",
       "      <th>HR</th>\n",
       "      <th>RBI</th>\n",
       "      <th>SB</th>\n",
       "      <th>BB</th>\n",
       "    </tr>\n",
       "  </thead>\n",
       "  <tbody>\n",
       "    <tr>\n",
       "      <th>1</th>\n",
       "      <td>aaronha01</td>\n",
       "      <td>23</td>\n",
       "      <td>3298</td>\n",
       "      <td>12364.0</td>\n",
       "      <td>3771.0</td>\n",
       "      <td>0.305</td>\n",
       "      <td>2174.0</td>\n",
       "      <td>755.0</td>\n",
       "      <td>2297.0</td>\n",
       "      <td>240.0</td>\n",
       "      <td>1402.0</td>\n",
       "    </tr>\n",
       "    <tr>\n",
       "      <th>239</th>\n",
       "      <td>alomaro01</td>\n",
       "      <td>19</td>\n",
       "      <td>2379</td>\n",
       "      <td>9073.0</td>\n",
       "      <td>2724.0</td>\n",
       "      <td>0.300</td>\n",
       "      <td>1508.0</td>\n",
       "      <td>210.0</td>\n",
       "      <td>1134.0</td>\n",
       "      <td>474.0</td>\n",
       "      <td>1032.0</td>\n",
       "    </tr>\n",
       "    <tr>\n",
       "      <th>388</th>\n",
       "      <td>aparilu01</td>\n",
       "      <td>18</td>\n",
       "      <td>2601</td>\n",
       "      <td>10230.0</td>\n",
       "      <td>2677.0</td>\n",
       "      <td>0.262</td>\n",
       "      <td>1335.0</td>\n",
       "      <td>83.0</td>\n",
       "      <td>791.0</td>\n",
       "      <td>506.0</td>\n",
       "      <td>736.0</td>\n",
       "    </tr>\n",
       "    <tr>\n",
       "      <th>395</th>\n",
       "      <td>applilu01</td>\n",
       "      <td>20</td>\n",
       "      <td>2422</td>\n",
       "      <td>8856.0</td>\n",
       "      <td>2749.0</td>\n",
       "      <td>0.310</td>\n",
       "      <td>1319.0</td>\n",
       "      <td>45.0</td>\n",
       "      <td>1116.0</td>\n",
       "      <td>179.0</td>\n",
       "      <td>1302.0</td>\n",
       "    </tr>\n",
       "    <tr>\n",
       "      <th>467</th>\n",
       "      <td>ashburi01</td>\n",
       "      <td>15</td>\n",
       "      <td>2189</td>\n",
       "      <td>8365.0</td>\n",
       "      <td>2574.0</td>\n",
       "      <td>0.308</td>\n",
       "      <td>1322.0</td>\n",
       "      <td>29.0</td>\n",
       "      <td>586.0</td>\n",
       "      <td>234.0</td>\n",
       "      <td>1198.0</td>\n",
       "    </tr>\n",
       "  </tbody>\n",
       "</table>\n",
       "</div>"
      ],
      "text/plain": [
       "      playerID   Y     G       AB       H     BA       R     HR     RBI  \\\n",
       "1    aaronha01  23  3298  12364.0  3771.0  0.305  2174.0  755.0  2297.0   \n",
       "239  alomaro01  19  2379   9073.0  2724.0  0.300  1508.0  210.0  1134.0   \n",
       "388  aparilu01  18  2601  10230.0  2677.0  0.262  1335.0   83.0   791.0   \n",
       "395  applilu01  20  2422   8856.0  2749.0  0.310  1319.0   45.0  1116.0   \n",
       "467  ashburi01  15  2189   8365.0  2574.0  0.308  1322.0   29.0   586.0   \n",
       "\n",
       "        SB      BB  \n",
       "1    240.0  1402.0  \n",
       "239  474.0  1032.0  \n",
       "388  506.0   736.0  \n",
       "395  179.0  1302.0  \n",
       "467  234.0  1198.0  "
      ]
     },
     "execution_count": 61,
     "metadata": {},
     "output_type": "execute_result"
    }
   ],
   "source": [
    "# check for success\n",
    "\n",
    "hof_batters.head()"
   ]
  },
  {
   "cell_type": "code",
   "execution_count": 62,
   "metadata": {
    "collapsed": false
   },
   "outputs": [],
   "source": [
    "# define variables for hall of fame batters in each of the previously definied eras\n",
    "\n",
    "hof_batters_1900 = hof_batters.loc[hof_batters['playerID'].isin(eligible_players_1900['playerID'])]\n",
    "\n",
    "hof_batters_1930 = hof_batters.loc[hof_batters['playerID'].isin(eligible_players_1930['playerID'])]\n",
    "\n",
    "hof_batters_1960 = hof_batters.loc[hof_batters['playerID'].isin(eligible_players_1960['playerID'])]\n",
    "\n",
    "hof_batters_1990 = hof_batters.loc[hof_batters['playerID'].isin(eligible_players_1990['playerID'])]\n",
    "\n",
    "hof_batters_2010 = hof_batters.loc[hof_batters['playerID'].isin(eligible_players_2010['playerID'])]"
   ]
  },
  {
   "cell_type": "markdown",
   "metadata": {},
   "source": [
    "<hr>\n",
    "<hr>\n",
    "<hr>"
   ]
  },
  {
   "cell_type": "markdown",
   "metadata": {
    "collapsed": true
   },
   "source": [
    "## Results"
   ]
  },
  {
   "cell_type": "markdown",
   "metadata": {},
   "source": [
    "<b>Comparing Statistics for All Eligible Players</b>\n",
    "\n",
    "Regardless of Era"
   ]
  },
  {
   "cell_type": "code",
   "execution_count": 63,
   "metadata": {
    "collapsed": false
   },
   "outputs": [
    {
     "data": {
      "text/html": [
       "<div>\n",
       "<table border=\"1\" class=\"dataframe\">\n",
       "  <thead>\n",
       "    <tr style=\"text-align: right;\">\n",
       "      <th></th>\n",
       "      <th>Y</th>\n",
       "      <th>G</th>\n",
       "      <th>AB</th>\n",
       "      <th>H</th>\n",
       "      <th>BA</th>\n",
       "      <th>R</th>\n",
       "      <th>HR</th>\n",
       "      <th>RBI</th>\n",
       "      <th>SB</th>\n",
       "      <th>BB</th>\n",
       "    </tr>\n",
       "  </thead>\n",
       "  <tbody>\n",
       "    <tr>\n",
       "      <th>count</th>\n",
       "      <td>1838.000000</td>\n",
       "      <td>1838.000000</td>\n",
       "      <td>1838.000000</td>\n",
       "      <td>1838.000000</td>\n",
       "      <td>1838.000000</td>\n",
       "      <td>1838.000000</td>\n",
       "      <td>1838.000000</td>\n",
       "      <td>1838.000000</td>\n",
       "      <td>1838.000000</td>\n",
       "      <td>1838.000000</td>\n",
       "    </tr>\n",
       "    <tr>\n",
       "      <th>mean</th>\n",
       "      <td>13.960827</td>\n",
       "      <td>1247.224701</td>\n",
       "      <td>4161.221980</td>\n",
       "      <td>1133.229597</td>\n",
       "      <td>0.265170</td>\n",
       "      <td>572.995647</td>\n",
       "      <td>92.595756</td>\n",
       "      <td>527.434168</td>\n",
       "      <td>89.480958</td>\n",
       "      <td>413.538629</td>\n",
       "    </tr>\n",
       "    <tr>\n",
       "      <th>std</th>\n",
       "      <td>3.354340</td>\n",
       "      <td>544.287568</td>\n",
       "      <td>2170.039198</td>\n",
       "      <td>649.858631</td>\n",
       "      <td>0.024501</td>\n",
       "      <td>367.443569</td>\n",
       "      <td>103.093841</td>\n",
       "      <td>355.956691</td>\n",
       "      <td>118.225702</td>\n",
       "      <td>295.870978</td>\n",
       "    </tr>\n",
       "    <tr>\n",
       "      <th>min</th>\n",
       "      <td>10.000000</td>\n",
       "      <td>140.000000</td>\n",
       "      <td>244.000000</td>\n",
       "      <td>46.000000</td>\n",
       "      <td>0.161000</td>\n",
       "      <td>20.000000</td>\n",
       "      <td>0.000000</td>\n",
       "      <td>21.000000</td>\n",
       "      <td>0.000000</td>\n",
       "      <td>17.000000</td>\n",
       "    </tr>\n",
       "    <tr>\n",
       "      <th>25%</th>\n",
       "      <td>11.000000</td>\n",
       "      <td>847.250000</td>\n",
       "      <td>2473.250000</td>\n",
       "      <td>629.250000</td>\n",
       "      <td>0.250000</td>\n",
       "      <td>292.000000</td>\n",
       "      <td>23.000000</td>\n",
       "      <td>261.000000</td>\n",
       "      <td>17.000000</td>\n",
       "      <td>204.250000</td>\n",
       "    </tr>\n",
       "    <tr>\n",
       "      <th>50%</th>\n",
       "      <td>13.000000</td>\n",
       "      <td>1187.500000</td>\n",
       "      <td>3927.000000</td>\n",
       "      <td>1041.500000</td>\n",
       "      <td>0.265000</td>\n",
       "      <td>503.000000</td>\n",
       "      <td>56.000000</td>\n",
       "      <td>443.000000</td>\n",
       "      <td>45.000000</td>\n",
       "      <td>343.000000</td>\n",
       "    </tr>\n",
       "    <tr>\n",
       "      <th>75%</th>\n",
       "      <td>16.000000</td>\n",
       "      <td>1571.750000</td>\n",
       "      <td>5491.500000</td>\n",
       "      <td>1504.250000</td>\n",
       "      <td>0.280000</td>\n",
       "      <td>768.750000</td>\n",
       "      <td>123.000000</td>\n",
       "      <td>701.750000</td>\n",
       "      <td>117.000000</td>\n",
       "      <td>547.750000</td>\n",
       "    </tr>\n",
       "    <tr>\n",
       "      <th>max</th>\n",
       "      <td>29.000000</td>\n",
       "      <td>3562.000000</td>\n",
       "      <td>14053.000000</td>\n",
       "      <td>4256.000000</td>\n",
       "      <td>0.358000</td>\n",
       "      <td>2295.000000</td>\n",
       "      <td>762.000000</td>\n",
       "      <td>2297.000000</td>\n",
       "      <td>1406.000000</td>\n",
       "      <td>2558.000000</td>\n",
       "    </tr>\n",
       "  </tbody>\n",
       "</table>\n",
       "</div>"
      ],
      "text/plain": [
       "                 Y            G            AB            H           BA  \\\n",
       "count  1838.000000  1838.000000   1838.000000  1838.000000  1838.000000   \n",
       "mean     13.960827  1247.224701   4161.221980  1133.229597     0.265170   \n",
       "std       3.354340   544.287568   2170.039198   649.858631     0.024501   \n",
       "min      10.000000   140.000000    244.000000    46.000000     0.161000   \n",
       "25%      11.000000   847.250000   2473.250000   629.250000     0.250000   \n",
       "50%      13.000000  1187.500000   3927.000000  1041.500000     0.265000   \n",
       "75%      16.000000  1571.750000   5491.500000  1504.250000     0.280000   \n",
       "max      29.000000  3562.000000  14053.000000  4256.000000     0.358000   \n",
       "\n",
       "                 R           HR          RBI           SB           BB  \n",
       "count  1838.000000  1838.000000  1838.000000  1838.000000  1838.000000  \n",
       "mean    572.995647    92.595756   527.434168    89.480958   413.538629  \n",
       "std     367.443569   103.093841   355.956691   118.225702   295.870978  \n",
       "min      20.000000     0.000000    21.000000     0.000000    17.000000  \n",
       "25%     292.000000    23.000000   261.000000    17.000000   204.250000  \n",
       "50%     503.000000    56.000000   443.000000    45.000000   343.000000  \n",
       "75%     768.750000   123.000000   701.750000   117.000000   547.750000  \n",
       "max    2295.000000   762.000000  2297.000000  1406.000000  2558.000000  "
      ]
     },
     "execution_count": 63,
     "metadata": {},
     "output_type": "execute_result"
    }
   ],
   "source": [
    "# analyze select batting stats for all eligible players who are not pitchers\n",
    "\n",
    "hof_elg_bat_stats_nopitch.describe()"
   ]
  },
  {
   "cell_type": "code",
   "execution_count": 64,
   "metadata": {
    "collapsed": false
   },
   "outputs": [
    {
     "data": {
      "text/html": [
       "<div>\n",
       "<table border=\"1\" class=\"dataframe\">\n",
       "  <thead>\n",
       "    <tr style=\"text-align: right;\">\n",
       "      <th></th>\n",
       "      <th>Y</th>\n",
       "      <th>G</th>\n",
       "      <th>AB</th>\n",
       "      <th>H</th>\n",
       "      <th>BA</th>\n",
       "      <th>R</th>\n",
       "      <th>HR</th>\n",
       "      <th>RBI</th>\n",
       "      <th>SB</th>\n",
       "      <th>BB</th>\n",
       "    </tr>\n",
       "  </thead>\n",
       "  <tbody>\n",
       "    <tr>\n",
       "      <th>count</th>\n",
       "      <td>125.000000</td>\n",
       "      <td>125.000000</td>\n",
       "      <td>125.000000</td>\n",
       "      <td>125.000000</td>\n",
       "      <td>125.000000</td>\n",
       "      <td>125.000000</td>\n",
       "      <td>125.000000</td>\n",
       "      <td>125.000000</td>\n",
       "      <td>125.000000</td>\n",
       "      <td>125.000000</td>\n",
       "    </tr>\n",
       "    <tr>\n",
       "      <th>mean</th>\n",
       "      <td>18.192000</td>\n",
       "      <td>2150.000000</td>\n",
       "      <td>7935.672000</td>\n",
       "      <td>2372.280000</td>\n",
       "      <td>0.299808</td>\n",
       "      <td>1294.672000</td>\n",
       "      <td>229.528000</td>\n",
       "      <td>1206.552000</td>\n",
       "      <td>210.328000</td>\n",
       "      <td>894.976000</td>\n",
       "    </tr>\n",
       "    <tr>\n",
       "      <th>std</th>\n",
       "      <td>3.571157</td>\n",
       "      <td>482.040137</td>\n",
       "      <td>1816.920297</td>\n",
       "      <td>539.658712</td>\n",
       "      <td>0.023466</td>\n",
       "      <td>334.636605</td>\n",
       "      <td>175.452437</td>\n",
       "      <td>368.099904</td>\n",
       "      <td>219.667189</td>\n",
       "      <td>361.430903</td>\n",
       "    </tr>\n",
       "    <tr>\n",
       "      <th>min</th>\n",
       "      <td>10.000000</td>\n",
       "      <td>1211.000000</td>\n",
       "      <td>4205.000000</td>\n",
       "      <td>1161.000000</td>\n",
       "      <td>0.253000</td>\n",
       "      <td>579.000000</td>\n",
       "      <td>11.000000</td>\n",
       "      <td>538.000000</td>\n",
       "      <td>8.000000</td>\n",
       "      <td>334.000000</td>\n",
       "    </tr>\n",
       "    <tr>\n",
       "      <th>25%</th>\n",
       "      <td>16.000000</td>\n",
       "      <td>1789.000000</td>\n",
       "      <td>6443.000000</td>\n",
       "      <td>2016.000000</td>\n",
       "      <td>0.281000</td>\n",
       "      <td>1055.000000</td>\n",
       "      <td>83.000000</td>\n",
       "      <td>900.000000</td>\n",
       "      <td>64.000000</td>\n",
       "      <td>650.000000</td>\n",
       "    </tr>\n",
       "    <tr>\n",
       "      <th>50%</th>\n",
       "      <td>19.000000</td>\n",
       "      <td>2158.000000</td>\n",
       "      <td>7937.000000</td>\n",
       "      <td>2351.000000</td>\n",
       "      <td>0.301000</td>\n",
       "      <td>1272.000000</td>\n",
       "      <td>190.000000</td>\n",
       "      <td>1201.000000</td>\n",
       "      <td>137.000000</td>\n",
       "      <td>842.000000</td>\n",
       "    </tr>\n",
       "    <tr>\n",
       "      <th>75%</th>\n",
       "      <td>21.000000</td>\n",
       "      <td>2480.000000</td>\n",
       "      <td>9315.000000</td>\n",
       "      <td>2749.000000</td>\n",
       "      <td>0.317000</td>\n",
       "      <td>1545.000000</td>\n",
       "      <td>359.000000</td>\n",
       "      <td>1453.000000</td>\n",
       "      <td>314.000000</td>\n",
       "      <td>1072.000000</td>\n",
       "    </tr>\n",
       "    <tr>\n",
       "      <th>max</th>\n",
       "      <td>29.000000</td>\n",
       "      <td>3308.000000</td>\n",
       "      <td>12364.000000</td>\n",
       "      <td>3771.000000</td>\n",
       "      <td>0.358000</td>\n",
       "      <td>2295.000000</td>\n",
       "      <td>755.000000</td>\n",
       "      <td>2297.000000</td>\n",
       "      <td>1406.000000</td>\n",
       "      <td>2190.000000</td>\n",
       "    </tr>\n",
       "  </tbody>\n",
       "</table>\n",
       "</div>"
      ],
      "text/plain": [
       "                Y            G            AB            H          BA  \\\n",
       "count  125.000000   125.000000    125.000000   125.000000  125.000000   \n",
       "mean    18.192000  2150.000000   7935.672000  2372.280000    0.299808   \n",
       "std      3.571157   482.040137   1816.920297   539.658712    0.023466   \n",
       "min     10.000000  1211.000000   4205.000000  1161.000000    0.253000   \n",
       "25%     16.000000  1789.000000   6443.000000  2016.000000    0.281000   \n",
       "50%     19.000000  2158.000000   7937.000000  2351.000000    0.301000   \n",
       "75%     21.000000  2480.000000   9315.000000  2749.000000    0.317000   \n",
       "max     29.000000  3308.000000  12364.000000  3771.000000    0.358000   \n",
       "\n",
       "                 R          HR          RBI           SB           BB  \n",
       "count   125.000000  125.000000   125.000000   125.000000   125.000000  \n",
       "mean   1294.672000  229.528000  1206.552000   210.328000   894.976000  \n",
       "std     334.636605  175.452437   368.099904   219.667189   361.430903  \n",
       "min     579.000000   11.000000   538.000000     8.000000   334.000000  \n",
       "25%    1055.000000   83.000000   900.000000    64.000000   650.000000  \n",
       "50%    1272.000000  190.000000  1201.000000   137.000000   842.000000  \n",
       "75%    1545.000000  359.000000  1453.000000   314.000000  1072.000000  \n",
       "max    2295.000000  755.000000  2297.000000  1406.000000  2190.000000  "
      ]
     },
     "execution_count": 64,
     "metadata": {},
     "output_type": "execute_result"
    }
   ],
   "source": [
    "# analyze select batting stats for hall of fame players who are not pitchers\n",
    "\n",
    "hof_batters.describe()"
   ]
  },
  {
   "cell_type": "markdown",
   "metadata": {
    "collapsed": true
   },
   "source": [
    "<i>Correlation</i>"
   ]
  },
  {
   "cell_type": "code",
   "execution_count": 65,
   "metadata": {
    "collapsed": false
   },
   "outputs": [
    {
     "data": {
      "text/html": [
       "<div>\n",
       "<table border=\"1\" class=\"dataframe\">\n",
       "  <thead>\n",
       "    <tr style=\"text-align: right;\">\n",
       "      <th></th>\n",
       "      <th>Y</th>\n",
       "      <th>G</th>\n",
       "      <th>AB</th>\n",
       "      <th>H</th>\n",
       "      <th>BA</th>\n",
       "      <th>R</th>\n",
       "      <th>HR</th>\n",
       "      <th>RBI</th>\n",
       "      <th>SB</th>\n",
       "      <th>BB</th>\n",
       "      <th>HOF</th>\n",
       "    </tr>\n",
       "  </thead>\n",
       "  <tbody>\n",
       "    <tr>\n",
       "      <th>Y</th>\n",
       "      <td>1.000000</td>\n",
       "      <td>0.780771</td>\n",
       "      <td>0.719642</td>\n",
       "      <td>0.704138</td>\n",
       "      <td>0.320429</td>\n",
       "      <td>0.658853</td>\n",
       "      <td>0.490709</td>\n",
       "      <td>0.663700</td>\n",
       "      <td>0.349217</td>\n",
       "      <td>0.611297</td>\n",
       "      <td>0.340838</td>\n",
       "    </tr>\n",
       "    <tr>\n",
       "      <th>G</th>\n",
       "      <td>0.780771</td>\n",
       "      <td>1.000000</td>\n",
       "      <td>0.978104</td>\n",
       "      <td>0.958848</td>\n",
       "      <td>0.508291</td>\n",
       "      <td>0.913754</td>\n",
       "      <td>0.657884</td>\n",
       "      <td>0.882619</td>\n",
       "      <td>0.483752</td>\n",
       "      <td>0.834455</td>\n",
       "      <td>0.448173</td>\n",
       "    </tr>\n",
       "    <tr>\n",
       "      <th>AB</th>\n",
       "      <td>0.719642</td>\n",
       "      <td>0.978104</td>\n",
       "      <td>1.000000</td>\n",
       "      <td>0.988878</td>\n",
       "      <td>0.559686</td>\n",
       "      <td>0.949706</td>\n",
       "      <td>0.637580</td>\n",
       "      <td>0.897537</td>\n",
       "      <td>0.529870</td>\n",
       "      <td>0.814863</td>\n",
       "      <td>0.469981</td>\n",
       "    </tr>\n",
       "    <tr>\n",
       "      <th>H</th>\n",
       "      <td>0.704138</td>\n",
       "      <td>0.958848</td>\n",
       "      <td>0.988878</td>\n",
       "      <td>1.000000</td>\n",
       "      <td>0.652898</td>\n",
       "      <td>0.962203</td>\n",
       "      <td>0.625546</td>\n",
       "      <td>0.908444</td>\n",
       "      <td>0.533716</td>\n",
       "      <td>0.805531</td>\n",
       "      <td>0.515187</td>\n",
       "    </tr>\n",
       "    <tr>\n",
       "      <th>BA</th>\n",
       "      <td>0.320429</td>\n",
       "      <td>0.508291</td>\n",
       "      <td>0.559686</td>\n",
       "      <td>0.652898</td>\n",
       "      <td>1.000000</td>\n",
       "      <td>0.628683</td>\n",
       "      <td>0.306066</td>\n",
       "      <td>0.587233</td>\n",
       "      <td>0.333340</td>\n",
       "      <td>0.441726</td>\n",
       "      <td>0.381996</td>\n",
       "    </tr>\n",
       "    <tr>\n",
       "      <th>R</th>\n",
       "      <td>0.658853</td>\n",
       "      <td>0.913754</td>\n",
       "      <td>0.949706</td>\n",
       "      <td>0.962203</td>\n",
       "      <td>0.628683</td>\n",
       "      <td>1.000000</td>\n",
       "      <td>0.657368</td>\n",
       "      <td>0.893653</td>\n",
       "      <td>0.611295</td>\n",
       "      <td>0.867358</td>\n",
       "      <td>0.530697</td>\n",
       "    </tr>\n",
       "    <tr>\n",
       "      <th>HR</th>\n",
       "      <td>0.490709</td>\n",
       "      <td>0.657884</td>\n",
       "      <td>0.637580</td>\n",
       "      <td>0.625546</td>\n",
       "      <td>0.306066</td>\n",
       "      <td>0.657368</td>\n",
       "      <td>1.000000</td>\n",
       "      <td>0.836576</td>\n",
       "      <td>0.081760</td>\n",
       "      <td>0.691325</td>\n",
       "      <td>0.358895</td>\n",
       "    </tr>\n",
       "    <tr>\n",
       "      <th>RBI</th>\n",
       "      <td>0.663700</td>\n",
       "      <td>0.882619</td>\n",
       "      <td>0.897537</td>\n",
       "      <td>0.908444</td>\n",
       "      <td>0.587233</td>\n",
       "      <td>0.893653</td>\n",
       "      <td>0.836576</td>\n",
       "      <td>1.000000</td>\n",
       "      <td>0.332505</td>\n",
       "      <td>0.800282</td>\n",
       "      <td>0.515516</td>\n",
       "    </tr>\n",
       "    <tr>\n",
       "      <th>SB</th>\n",
       "      <td>0.349217</td>\n",
       "      <td>0.483752</td>\n",
       "      <td>0.529870</td>\n",
       "      <td>0.533716</td>\n",
       "      <td>0.333340</td>\n",
       "      <td>0.611295</td>\n",
       "      <td>0.081760</td>\n",
       "      <td>0.332505</td>\n",
       "      <td>1.000000</td>\n",
       "      <td>0.440609</td>\n",
       "      <td>0.276197</td>\n",
       "    </tr>\n",
       "    <tr>\n",
       "      <th>BB</th>\n",
       "      <td>0.611297</td>\n",
       "      <td>0.834455</td>\n",
       "      <td>0.814863</td>\n",
       "      <td>0.805531</td>\n",
       "      <td>0.441726</td>\n",
       "      <td>0.867358</td>\n",
       "      <td>0.691325</td>\n",
       "      <td>0.800282</td>\n",
       "      <td>0.440609</td>\n",
       "      <td>1.000000</td>\n",
       "      <td>0.439675</td>\n",
       "    </tr>\n",
       "    <tr>\n",
       "      <th>HOF</th>\n",
       "      <td>0.340838</td>\n",
       "      <td>0.448173</td>\n",
       "      <td>0.469981</td>\n",
       "      <td>0.515187</td>\n",
       "      <td>0.381996</td>\n",
       "      <td>0.530697</td>\n",
       "      <td>0.358895</td>\n",
       "      <td>0.515516</td>\n",
       "      <td>0.276197</td>\n",
       "      <td>0.439675</td>\n",
       "      <td>1.000000</td>\n",
       "    </tr>\n",
       "  </tbody>\n",
       "</table>\n",
       "</div>"
      ],
      "text/plain": [
       "            Y         G        AB         H        BA         R        HR  \\\n",
       "Y    1.000000  0.780771  0.719642  0.704138  0.320429  0.658853  0.490709   \n",
       "G    0.780771  1.000000  0.978104  0.958848  0.508291  0.913754  0.657884   \n",
       "AB   0.719642  0.978104  1.000000  0.988878  0.559686  0.949706  0.637580   \n",
       "H    0.704138  0.958848  0.988878  1.000000  0.652898  0.962203  0.625546   \n",
       "BA   0.320429  0.508291  0.559686  0.652898  1.000000  0.628683  0.306066   \n",
       "R    0.658853  0.913754  0.949706  0.962203  0.628683  1.000000  0.657368   \n",
       "HR   0.490709  0.657884  0.637580  0.625546  0.306066  0.657368  1.000000   \n",
       "RBI  0.663700  0.882619  0.897537  0.908444  0.587233  0.893653  0.836576   \n",
       "SB   0.349217  0.483752  0.529870  0.533716  0.333340  0.611295  0.081760   \n",
       "BB   0.611297  0.834455  0.814863  0.805531  0.441726  0.867358  0.691325   \n",
       "HOF  0.340838  0.448173  0.469981  0.515187  0.381996  0.530697  0.358895   \n",
       "\n",
       "          RBI        SB        BB       HOF  \n",
       "Y    0.663700  0.349217  0.611297  0.340838  \n",
       "G    0.882619  0.483752  0.834455  0.448173  \n",
       "AB   0.897537  0.529870  0.814863  0.469981  \n",
       "H    0.908444  0.533716  0.805531  0.515187  \n",
       "BA   0.587233  0.333340  0.441726  0.381996  \n",
       "R    0.893653  0.611295  0.867358  0.530697  \n",
       "HR   0.836576  0.081760  0.691325  0.358895  \n",
       "RBI  1.000000  0.332505  0.800282  0.515516  \n",
       "SB   0.332505  1.000000  0.440609  0.276197  \n",
       "BB   0.800282  0.440609  1.000000  0.439675  \n",
       "HOF  0.515516  0.276197  0.439675  1.000000  "
      ]
     },
     "execution_count": 65,
     "metadata": {},
     "output_type": "execute_result"
    }
   ],
   "source": [
    "# explore correlation using Pearson's R\n",
    "\n",
    "hof_elg_bat_stats_nopitch.corr()"
   ]
  },
  {
   "cell_type": "code",
   "execution_count": 66,
   "metadata": {
    "collapsed": false
   },
   "outputs": [],
   "source": [
    "# create a bar graph to visualize the correlations\n",
    "\n",
    "# define variable to store the data\n",
    "data_all = hof_elg_bat_stats_nopitch.corr()\n",
    "\n",
    "# redefine variable to include all columns but the HOF column\n",
    "data_all = data_all[['G', 'AB', 'H', 'BA', 'R', 'HR', 'RBI', 'SB', 'BB']]"
   ]
  },
  {
   "cell_type": "code",
   "execution_count": 67,
   "metadata": {
    "collapsed": false
   },
   "outputs": [
    {
     "data": {
      "image/png": "[encoded data removed]",
      "text/plain": [
       "<matplotlib.figure.Figure at 0xc74fcf8>"
      ]
     },
     "metadata": {},
     "output_type": "display_data"
    }
   ],
   "source": [
    "ax = data_all.loc['HOF'].plot(kind = 'barh', title = \n",
    "                              'v1. All Eligible Players', \n",
    "                              legend = False, fontsize=14)\n",
    "\n",
    "ax.set_ylabel(\"Batting Categories\",fontsize=14)\n",
    "ax.set_xlabel(\"Correlation with Hall of Fame Status\",fontsize=14)\n",
    "ax.set_xlim([0.0, 1.0])\n",
    "\n",
    "\n",
    "plt.show()"
   ]
  },
  {
   "cell_type": "markdown",
   "metadata": {},
   "source": [
    "<hr>"
   ]
  },
  {
   "cell_type": "markdown",
   "metadata": {},
   "source": [
    "<b>Comparing Statistics for Players Who Retired Prior to 1900</b>"
   ]
  },
  {
   "cell_type": "code",
   "execution_count": 68,
   "metadata": {
    "collapsed": false
   },
   "outputs": [
    {
     "data": {
      "text/html": [
       "<div>\n",
       "<table border=\"1\" class=\"dataframe\">\n",
       "  <thead>\n",
       "    <tr style=\"text-align: right;\">\n",
       "      <th></th>\n",
       "      <th>Y</th>\n",
       "      <th>G</th>\n",
       "      <th>AB</th>\n",
       "      <th>H</th>\n",
       "      <th>BA</th>\n",
       "      <th>R</th>\n",
       "      <th>HR</th>\n",
       "      <th>RBI</th>\n",
       "      <th>SB</th>\n",
       "      <th>BB</th>\n",
       "    </tr>\n",
       "  </thead>\n",
       "  <tbody>\n",
       "    <tr>\n",
       "      <th>count</th>\n",
       "      <td>58.000000</td>\n",
       "      <td>58.000000</td>\n",
       "      <td>58.000000</td>\n",
       "      <td>58.000000</td>\n",
       "      <td>58.000000</td>\n",
       "      <td>58.000000</td>\n",
       "      <td>58.000000</td>\n",
       "      <td>58.000000</td>\n",
       "      <td>58.000000</td>\n",
       "      <td>58.000000</td>\n",
       "    </tr>\n",
       "    <tr>\n",
       "      <th>mean</th>\n",
       "      <td>12.534483</td>\n",
       "      <td>915.655172</td>\n",
       "      <td>3661.431034</td>\n",
       "      <td>983.172414</td>\n",
       "      <td>0.263966</td>\n",
       "      <td>626.517241</td>\n",
       "      <td>23.982759</td>\n",
       "      <td>441.844828</td>\n",
       "      <td>131.706897</td>\n",
       "      <td>256.465517</td>\n",
       "    </tr>\n",
       "    <tr>\n",
       "      <th>std</th>\n",
       "      <td>2.378379</td>\n",
       "      <td>366.994553</td>\n",
       "      <td>1472.340137</td>\n",
       "      <td>456.182333</td>\n",
       "      <td>0.029409</td>\n",
       "      <td>337.371847</td>\n",
       "      <td>24.558910</td>\n",
       "      <td>253.779487</td>\n",
       "      <td>130.608160</td>\n",
       "      <td>225.914843</td>\n",
       "    </tr>\n",
       "    <tr>\n",
       "      <th>min</th>\n",
       "      <td>10.000000</td>\n",
       "      <td>373.000000</td>\n",
       "      <td>1359.000000</td>\n",
       "      <td>276.000000</td>\n",
       "      <td>0.203000</td>\n",
       "      <td>182.000000</td>\n",
       "      <td>0.000000</td>\n",
       "      <td>45.000000</td>\n",
       "      <td>0.000000</td>\n",
       "      <td>26.000000</td>\n",
       "    </tr>\n",
       "    <tr>\n",
       "      <th>25%</th>\n",
       "      <td>11.000000</td>\n",
       "      <td>644.250000</td>\n",
       "      <td>2528.750000</td>\n",
       "      <td>670.500000</td>\n",
       "      <td>0.244250</td>\n",
       "      <td>395.500000</td>\n",
       "      <td>6.250000</td>\n",
       "      <td>238.250000</td>\n",
       "      <td>34.750000</td>\n",
       "      <td>109.750000</td>\n",
       "    </tr>\n",
       "    <tr>\n",
       "      <th>50%</th>\n",
       "      <td>12.000000</td>\n",
       "      <td>886.000000</td>\n",
       "      <td>3530.000000</td>\n",
       "      <td>908.000000</td>\n",
       "      <td>0.266000</td>\n",
       "      <td>555.500000</td>\n",
       "      <td>17.500000</td>\n",
       "      <td>405.500000</td>\n",
       "      <td>68.500000</td>\n",
       "      <td>175.500000</td>\n",
       "    </tr>\n",
       "    <tr>\n",
       "      <th>75%</th>\n",
       "      <td>13.000000</td>\n",
       "      <td>1086.750000</td>\n",
       "      <td>4363.000000</td>\n",
       "      <td>1223.000000</td>\n",
       "      <td>0.282750</td>\n",
       "      <td>773.750000</td>\n",
       "      <td>31.750000</td>\n",
       "      <td>543.750000</td>\n",
       "      <td>201.500000</td>\n",
       "      <td>346.000000</td>\n",
       "    </tr>\n",
       "    <tr>\n",
       "      <th>max</th>\n",
       "      <td>19.000000</td>\n",
       "      <td>2135.000000</td>\n",
       "      <td>8291.000000</td>\n",
       "      <td>2467.000000</td>\n",
       "      <td>0.339000</td>\n",
       "      <td>1678.000000</td>\n",
       "      <td>138.000000</td>\n",
       "      <td>1322.000000</td>\n",
       "      <td>568.000000</td>\n",
       "      <td>1002.000000</td>\n",
       "    </tr>\n",
       "  </tbody>\n",
       "</table>\n",
       "</div>"
      ],
      "text/plain": [
       "               Y            G           AB            H         BA  \\\n",
       "count  58.000000    58.000000    58.000000    58.000000  58.000000   \n",
       "mean   12.534483   915.655172  3661.431034   983.172414   0.263966   \n",
       "std     2.378379   366.994553  1472.340137   456.182333   0.029409   \n",
       "min    10.000000   373.000000  1359.000000   276.000000   0.203000   \n",
       "25%    11.000000   644.250000  2528.750000   670.500000   0.244250   \n",
       "50%    12.000000   886.000000  3530.000000   908.000000   0.266000   \n",
       "75%    13.000000  1086.750000  4363.000000  1223.000000   0.282750   \n",
       "max    19.000000  2135.000000  8291.000000  2467.000000   0.339000   \n",
       "\n",
       "                 R          HR          RBI          SB           BB  \n",
       "count    58.000000   58.000000    58.000000   58.000000    58.000000  \n",
       "mean    626.517241   23.982759   441.844828  131.706897   256.465517  \n",
       "std     337.371847   24.558910   253.779487  130.608160   225.914843  \n",
       "min     182.000000    0.000000    45.000000    0.000000    26.000000  \n",
       "25%     395.500000    6.250000   238.250000   34.750000   109.750000  \n",
       "50%     555.500000   17.500000   405.500000   68.500000   175.500000  \n",
       "75%     773.750000   31.750000   543.750000  201.500000   346.000000  \n",
       "max    1678.000000  138.000000  1322.000000  568.000000  1002.000000  "
      ]
     },
     "execution_count": 68,
     "metadata": {},
     "output_type": "execute_result"
    }
   ],
   "source": [
    "# analyze select batting stats for all eligible players who are not pitchers and retired prior to 1900\n",
    "\n",
    "hof_elg_bat_stats_nopitch_1900.describe()"
   ]
  },
  {
   "cell_type": "code",
   "execution_count": 69,
   "metadata": {
    "collapsed": false
   },
   "outputs": [
    {
     "data": {
      "text/html": [
       "<div>\n",
       "<table border=\"1\" class=\"dataframe\">\n",
       "  <thead>\n",
       "    <tr style=\"text-align: right;\">\n",
       "      <th></th>\n",
       "      <th>Y</th>\n",
       "      <th>G</th>\n",
       "      <th>AB</th>\n",
       "      <th>H</th>\n",
       "      <th>BA</th>\n",
       "      <th>R</th>\n",
       "      <th>HR</th>\n",
       "      <th>RBI</th>\n",
       "      <th>SB</th>\n",
       "      <th>BB</th>\n",
       "    </tr>\n",
       "  </thead>\n",
       "  <tbody>\n",
       "    <tr>\n",
       "      <th>count</th>\n",
       "      <td>2.000000</td>\n",
       "      <td>2.000000</td>\n",
       "      <td>2.00000</td>\n",
       "      <td>2.000000</td>\n",
       "      <td>2.000000</td>\n",
       "      <td>2.000000</td>\n",
       "      <td>2.000000</td>\n",
       "      <td>2.000000</td>\n",
       "      <td>2.000000</td>\n",
       "      <td>2.000000</td>\n",
       "    </tr>\n",
       "    <tr>\n",
       "      <th>mean</th>\n",
       "      <td>18.500000</td>\n",
       "      <td>2066.000000</td>\n",
       "      <td>8042.50000</td>\n",
       "      <td>2358.500000</td>\n",
       "      <td>0.294000</td>\n",
       "      <td>1649.000000</td>\n",
       "      <td>95.500000</td>\n",
       "      <td>1194.500000</td>\n",
       "      <td>406.000000</td>\n",
       "      <td>991.500000</td>\n",
       "    </tr>\n",
       "    <tr>\n",
       "      <th>std</th>\n",
       "      <td>0.707107</td>\n",
       "      <td>97.580736</td>\n",
       "      <td>351.43207</td>\n",
       "      <td>153.442172</td>\n",
       "      <td>0.032527</td>\n",
       "      <td>41.012193</td>\n",
       "      <td>60.104076</td>\n",
       "      <td>180.312229</td>\n",
       "      <td>229.102597</td>\n",
       "      <td>14.849242</td>\n",
       "    </tr>\n",
       "    <tr>\n",
       "      <th>min</th>\n",
       "      <td>18.000000</td>\n",
       "      <td>1997.000000</td>\n",
       "      <td>7794.00000</td>\n",
       "      <td>2250.000000</td>\n",
       "      <td>0.271000</td>\n",
       "      <td>1620.000000</td>\n",
       "      <td>53.000000</td>\n",
       "      <td>1067.000000</td>\n",
       "      <td>244.000000</td>\n",
       "      <td>981.000000</td>\n",
       "    </tr>\n",
       "    <tr>\n",
       "      <th>25%</th>\n",
       "      <td>18.250000</td>\n",
       "      <td>2031.500000</td>\n",
       "      <td>7918.25000</td>\n",
       "      <td>2304.250000</td>\n",
       "      <td>0.282500</td>\n",
       "      <td>1634.500000</td>\n",
       "      <td>74.250000</td>\n",
       "      <td>1130.750000</td>\n",
       "      <td>325.000000</td>\n",
       "      <td>986.250000</td>\n",
       "    </tr>\n",
       "    <tr>\n",
       "      <th>50%</th>\n",
       "      <td>18.500000</td>\n",
       "      <td>2066.000000</td>\n",
       "      <td>8042.50000</td>\n",
       "      <td>2358.500000</td>\n",
       "      <td>0.294000</td>\n",
       "      <td>1649.000000</td>\n",
       "      <td>95.500000</td>\n",
       "      <td>1194.500000</td>\n",
       "      <td>406.000000</td>\n",
       "      <td>991.500000</td>\n",
       "    </tr>\n",
       "    <tr>\n",
       "      <th>75%</th>\n",
       "      <td>18.750000</td>\n",
       "      <td>2100.500000</td>\n",
       "      <td>8166.75000</td>\n",
       "      <td>2412.750000</td>\n",
       "      <td>0.305500</td>\n",
       "      <td>1663.500000</td>\n",
       "      <td>116.750000</td>\n",
       "      <td>1258.250000</td>\n",
       "      <td>487.000000</td>\n",
       "      <td>996.750000</td>\n",
       "    </tr>\n",
       "    <tr>\n",
       "      <th>max</th>\n",
       "      <td>19.000000</td>\n",
       "      <td>2135.000000</td>\n",
       "      <td>8291.00000</td>\n",
       "      <td>2467.000000</td>\n",
       "      <td>0.317000</td>\n",
       "      <td>1678.000000</td>\n",
       "      <td>138.000000</td>\n",
       "      <td>1322.000000</td>\n",
       "      <td>568.000000</td>\n",
       "      <td>1002.000000</td>\n",
       "    </tr>\n",
       "  </tbody>\n",
       "</table>\n",
       "</div>"
      ],
      "text/plain": [
       "               Y            G          AB            H        BA            R  \\\n",
       "count   2.000000     2.000000     2.00000     2.000000  2.000000     2.000000   \n",
       "mean   18.500000  2066.000000  8042.50000  2358.500000  0.294000  1649.000000   \n",
       "std     0.707107    97.580736   351.43207   153.442172  0.032527    41.012193   \n",
       "min    18.000000  1997.000000  7794.00000  2250.000000  0.271000  1620.000000   \n",
       "25%    18.250000  2031.500000  7918.25000  2304.250000  0.282500  1634.500000   \n",
       "50%    18.500000  2066.000000  8042.50000  2358.500000  0.294000  1649.000000   \n",
       "75%    18.750000  2100.500000  8166.75000  2412.750000  0.305500  1663.500000   \n",
       "max    19.000000  2135.000000  8291.00000  2467.000000  0.317000  1678.000000   \n",
       "\n",
       "               HR          RBI          SB           BB  \n",
       "count    2.000000     2.000000    2.000000     2.000000  \n",
       "mean    95.500000  1194.500000  406.000000   991.500000  \n",
       "std     60.104076   180.312229  229.102597    14.849242  \n",
       "min     53.000000  1067.000000  244.000000   981.000000  \n",
       "25%     74.250000  1130.750000  325.000000   986.250000  \n",
       "50%     95.500000  1194.500000  406.000000   991.500000  \n",
       "75%    116.750000  1258.250000  487.000000   996.750000  \n",
       "max    138.000000  1322.000000  568.000000  1002.000000  "
      ]
     },
     "execution_count": 69,
     "metadata": {},
     "output_type": "execute_result"
    }
   ],
   "source": [
    "# analyze all select batting stats for hall of fame players who are not pitchers and retired prior to 1900\n",
    "\n",
    "hof_batters_1900.describe()"
   ]
  },
  {
   "cell_type": "markdown",
   "metadata": {
    "collapsed": true
   },
   "source": [
    "<i>Correlation</i>"
   ]
  },
  {
   "cell_type": "code",
   "execution_count": 70,
   "metadata": {
    "collapsed": false
   },
   "outputs": [
    {
     "data": {
      "text/html": [
       "<div>\n",
       "<table border=\"1\" class=\"dataframe\">\n",
       "  <thead>\n",
       "    <tr style=\"text-align: right;\">\n",
       "      <th></th>\n",
       "      <th>Y</th>\n",
       "      <th>G</th>\n",
       "      <th>AB</th>\n",
       "      <th>H</th>\n",
       "      <th>BA</th>\n",
       "      <th>R</th>\n",
       "      <th>HR</th>\n",
       "      <th>RBI</th>\n",
       "      <th>SB</th>\n",
       "      <th>BB</th>\n",
       "      <th>HOF</th>\n",
       "    </tr>\n",
       "  </thead>\n",
       "  <tbody>\n",
       "    <tr>\n",
       "      <th>Y</th>\n",
       "      <td>1.000000</td>\n",
       "      <td>0.554216</td>\n",
       "      <td>0.540400</td>\n",
       "      <td>0.486335</td>\n",
       "      <td>0.028360</td>\n",
       "      <td>0.439712</td>\n",
       "      <td>0.260268</td>\n",
       "      <td>0.390353</td>\n",
       "      <td>0.047559</td>\n",
       "      <td>0.376454</td>\n",
       "      <td>0.478151</td>\n",
       "    </tr>\n",
       "    <tr>\n",
       "      <th>G</th>\n",
       "      <td>0.554216</td>\n",
       "      <td>1.000000</td>\n",
       "      <td>0.992154</td>\n",
       "      <td>0.962697</td>\n",
       "      <td>0.344038</td>\n",
       "      <td>0.920177</td>\n",
       "      <td>0.736642</td>\n",
       "      <td>0.910194</td>\n",
       "      <td>0.680292</td>\n",
       "      <td>0.847798</td>\n",
       "      <td>0.597539</td>\n",
       "    </tr>\n",
       "    <tr>\n",
       "      <th>AB</th>\n",
       "      <td>0.540400</td>\n",
       "      <td>0.992154</td>\n",
       "      <td>1.000000</td>\n",
       "      <td>0.978161</td>\n",
       "      <td>0.395390</td>\n",
       "      <td>0.937846</td>\n",
       "      <td>0.729413</td>\n",
       "      <td>0.912765</td>\n",
       "      <td>0.665805</td>\n",
       "      <td>0.815823</td>\n",
       "      <td>0.567243</td>\n",
       "    </tr>\n",
       "    <tr>\n",
       "      <th>H</th>\n",
       "      <td>0.486335</td>\n",
       "      <td>0.962697</td>\n",
       "      <td>0.978161</td>\n",
       "      <td>1.000000</td>\n",
       "      <td>0.557581</td>\n",
       "      <td>0.967233</td>\n",
       "      <td>0.798899</td>\n",
       "      <td>0.950357</td>\n",
       "      <td>0.656977</td>\n",
       "      <td>0.842710</td>\n",
       "      <td>0.574732</td>\n",
       "    </tr>\n",
       "    <tr>\n",
       "      <th>BA</th>\n",
       "      <td>0.028360</td>\n",
       "      <td>0.344038</td>\n",
       "      <td>0.395390</td>\n",
       "      <td>0.557581</td>\n",
       "      <td>1.000000</td>\n",
       "      <td>0.568894</td>\n",
       "      <td>0.577036</td>\n",
       "      <td>0.585088</td>\n",
       "      <td>0.316692</td>\n",
       "      <td>0.430880</td>\n",
       "      <td>0.194685</td>\n",
       "    </tr>\n",
       "    <tr>\n",
       "      <th>R</th>\n",
       "      <td>0.439712</td>\n",
       "      <td>0.920177</td>\n",
       "      <td>0.937846</td>\n",
       "      <td>0.967233</td>\n",
       "      <td>0.568894</td>\n",
       "      <td>1.000000</td>\n",
       "      <td>0.760602</td>\n",
       "      <td>0.886612</td>\n",
       "      <td>0.715913</td>\n",
       "      <td>0.882191</td>\n",
       "      <td>0.577756</td>\n",
       "    </tr>\n",
       "    <tr>\n",
       "      <th>HR</th>\n",
       "      <td>0.260268</td>\n",
       "      <td>0.736642</td>\n",
       "      <td>0.729413</td>\n",
       "      <td>0.798899</td>\n",
       "      <td>0.577036</td>\n",
       "      <td>0.760602</td>\n",
       "      <td>1.000000</td>\n",
       "      <td>0.874503</td>\n",
       "      <td>0.508326</td>\n",
       "      <td>0.758468</td>\n",
       "      <td>0.555136</td>\n",
       "    </tr>\n",
       "    <tr>\n",
       "      <th>RBI</th>\n",
       "      <td>0.390353</td>\n",
       "      <td>0.910194</td>\n",
       "      <td>0.912765</td>\n",
       "      <td>0.950357</td>\n",
       "      <td>0.585088</td>\n",
       "      <td>0.886612</td>\n",
       "      <td>0.874503</td>\n",
       "      <td>1.000000</td>\n",
       "      <td>0.625517</td>\n",
       "      <td>0.811815</td>\n",
       "      <td>0.565376</td>\n",
       "    </tr>\n",
       "    <tr>\n",
       "      <th>SB</th>\n",
       "      <td>0.047559</td>\n",
       "      <td>0.680292</td>\n",
       "      <td>0.665805</td>\n",
       "      <td>0.656977</td>\n",
       "      <td>0.316692</td>\n",
       "      <td>0.715913</td>\n",
       "      <td>0.508326</td>\n",
       "      <td>0.625517</td>\n",
       "      <td>1.000000</td>\n",
       "      <td>0.727219</td>\n",
       "      <td>0.400352</td>\n",
       "    </tr>\n",
       "    <tr>\n",
       "      <th>BB</th>\n",
       "      <td>0.376454</td>\n",
       "      <td>0.847798</td>\n",
       "      <td>0.815823</td>\n",
       "      <td>0.842710</td>\n",
       "      <td>0.430880</td>\n",
       "      <td>0.882191</td>\n",
       "      <td>0.758468</td>\n",
       "      <td>0.811815</td>\n",
       "      <td>0.727219</td>\n",
       "      <td>1.000000</td>\n",
       "      <td>0.620241</td>\n",
       "    </tr>\n",
       "    <tr>\n",
       "      <th>HOF</th>\n",
       "      <td>0.478151</td>\n",
       "      <td>0.597539</td>\n",
       "      <td>0.567243</td>\n",
       "      <td>0.574732</td>\n",
       "      <td>0.194685</td>\n",
       "      <td>0.577756</td>\n",
       "      <td>0.555136</td>\n",
       "      <td>0.565376</td>\n",
       "      <td>0.400352</td>\n",
       "      <td>0.620241</td>\n",
       "      <td>1.000000</td>\n",
       "    </tr>\n",
       "  </tbody>\n",
       "</table>\n",
       "</div>"
      ],
      "text/plain": [
       "            Y         G        AB         H        BA         R        HR  \\\n",
       "Y    1.000000  0.554216  0.540400  0.486335  0.028360  0.439712  0.260268   \n",
       "G    0.554216  1.000000  0.992154  0.962697  0.344038  0.920177  0.736642   \n",
       "AB   0.540400  0.992154  1.000000  0.978161  0.395390  0.937846  0.729413   \n",
       "H    0.486335  0.962697  0.978161  1.000000  0.557581  0.967233  0.798899   \n",
       "BA   0.028360  0.344038  0.395390  0.557581  1.000000  0.568894  0.577036   \n",
       "R    0.439712  0.920177  0.937846  0.967233  0.568894  1.000000  0.760602   \n",
       "HR   0.260268  0.736642  0.729413  0.798899  0.577036  0.760602  1.000000   \n",
       "RBI  0.390353  0.910194  0.912765  0.950357  0.585088  0.886612  0.874503   \n",
       "SB   0.047559  0.680292  0.665805  0.656977  0.316692  0.715913  0.508326   \n",
       "BB   0.376454  0.847798  0.815823  0.842710  0.430880  0.882191  0.758468   \n",
       "HOF  0.478151  0.597539  0.567243  0.574732  0.194685  0.577756  0.555136   \n",
       "\n",
       "          RBI        SB        BB       HOF  \n",
       "Y    0.390353  0.047559  0.376454  0.478151  \n",
       "G    0.910194  0.680292  0.847798  0.597539  \n",
       "AB   0.912765  0.665805  0.815823  0.567243  \n",
       "H    0.950357  0.656977  0.842710  0.574732  \n",
       "BA   0.585088  0.316692  0.430880  0.194685  \n",
       "R    0.886612  0.715913  0.882191  0.577756  \n",
       "HR   0.874503  0.508326  0.758468  0.555136  \n",
       "RBI  1.000000  0.625517  0.811815  0.565376  \n",
       "SB   0.625517  1.000000  0.727219  0.400352  \n",
       "BB   0.811815  0.727219  1.000000  0.620241  \n",
       "HOF  0.565376  0.400352  0.620241  1.000000  "
      ]
     },
     "execution_count": 70,
     "metadata": {},
     "output_type": "execute_result"
    }
   ],
   "source": [
    "# explore correlation using Pearson's R\n",
    "\n",
    "hof_elg_bat_stats_nopitch_1900.corr()"
   ]
  },
  {
   "cell_type": "code",
   "execution_count": 71,
   "metadata": {
    "collapsed": false
   },
   "outputs": [],
   "source": [
    "# create a bar graph to visualize the correlations\n",
    "\n",
    "# define variable to store the data\n",
    "data_1900 = hof_elg_bat_stats_nopitch_1900.corr()\n",
    "\n",
    "# redefine variable to include all columns but the HOF column\n",
    "data_1900 = data_1900[['G', 'AB', 'H', 'BA', 'R', 'HR', 'RBI', 'SB', 'BB']]"
   ]
  },
  {
   "cell_type": "code",
   "execution_count": 72,
   "metadata": {
    "collapsed": false
   },
   "outputs": [
    {
     "data": {
      "image/png": "[encoded data removed]",
      "text/plain": [
       "<matplotlib.figure.Figure at 0xef11ac8>"
      ]
     },
     "metadata": {},
     "output_type": "display_data"
    }
   ],
   "source": [
    "ax = data_1900.loc['HOF'].plot(kind = 'barh', title = \n",
    "                               'v2. Players Retired before 1900', \n",
    "                          legend = False, fontsize=14)\n",
    "\n",
    "ax.set_ylabel(\"Batting Categories\",fontsize=14)\n",
    "ax.set_xlabel(\"Correlation with Hall of Fame Status\",fontsize=14)\n",
    "ax.set_xlim([0.0, 1.0])\n",
    "\n",
    "\n",
    "plt.show()"
   ]
  },
  {
   "cell_type": "markdown",
   "metadata": {},
   "source": [
    "<hr>"
   ]
  },
  {
   "cell_type": "markdown",
   "metadata": {},
   "source": [
    "<b>Comparing Statistics for Players Who Retired From 1900 to 1930</b>"
   ]
  },
  {
   "cell_type": "code",
   "execution_count": 73,
   "metadata": {
    "collapsed": false
   },
   "outputs": [
    {
     "data": {
      "text/html": [
       "<div>\n",
       "<table border=\"1\" class=\"dataframe\">\n",
       "  <thead>\n",
       "    <tr style=\"text-align: right;\">\n",
       "      <th></th>\n",
       "      <th>Y</th>\n",
       "      <th>G</th>\n",
       "      <th>AB</th>\n",
       "      <th>H</th>\n",
       "      <th>BA</th>\n",
       "      <th>R</th>\n",
       "      <th>HR</th>\n",
       "      <th>RBI</th>\n",
       "      <th>SB</th>\n",
       "      <th>BB</th>\n",
       "    </tr>\n",
       "  </thead>\n",
       "  <tbody>\n",
       "    <tr>\n",
       "      <th>count</th>\n",
       "      <td>250.000000</td>\n",
       "      <td>250.000000</td>\n",
       "      <td>250.000000</td>\n",
       "      <td>250.000000</td>\n",
       "      <td>250.000000</td>\n",
       "      <td>250.000000</td>\n",
       "      <td>250.000000</td>\n",
       "      <td>250.000000</td>\n",
       "      <td>250.0000</td>\n",
       "      <td>250.000000</td>\n",
       "    </tr>\n",
       "    <tr>\n",
       "      <th>mean</th>\n",
       "      <td>13.744000</td>\n",
       "      <td>1241.076000</td>\n",
       "      <td>4408.596000</td>\n",
       "      <td>1217.000000</td>\n",
       "      <td>0.269772</td>\n",
       "      <td>615.428000</td>\n",
       "      <td>28.224000</td>\n",
       "      <td>505.900000</td>\n",
       "      <td>179.8160</td>\n",
       "      <td>384.188000</td>\n",
       "    </tr>\n",
       "    <tr>\n",
       "      <th>std</th>\n",
       "      <td>3.181028</td>\n",
       "      <td>465.357631</td>\n",
       "      <td>1902.990429</td>\n",
       "      <td>592.706548</td>\n",
       "      <td>0.027826</td>\n",
       "      <td>360.704527</td>\n",
       "      <td>28.895147</td>\n",
       "      <td>289.674367</td>\n",
       "      <td>143.7726</td>\n",
       "      <td>227.702231</td>\n",
       "    </tr>\n",
       "    <tr>\n",
       "      <th>min</th>\n",
       "      <td>10.000000</td>\n",
       "      <td>243.000000</td>\n",
       "      <td>488.000000</td>\n",
       "      <td>106.000000</td>\n",
       "      <td>0.170000</td>\n",
       "      <td>44.000000</td>\n",
       "      <td>0.000000</td>\n",
       "      <td>29.000000</td>\n",
       "      <td>4.0000</td>\n",
       "      <td>23.000000</td>\n",
       "    </tr>\n",
       "    <tr>\n",
       "      <th>25%</th>\n",
       "      <td>11.000000</td>\n",
       "      <td>910.250000</td>\n",
       "      <td>3007.750000</td>\n",
       "      <td>790.750000</td>\n",
       "      <td>0.254000</td>\n",
       "      <td>356.750000</td>\n",
       "      <td>8.000000</td>\n",
       "      <td>298.750000</td>\n",
       "      <td>67.5000</td>\n",
       "      <td>219.500000</td>\n",
       "    </tr>\n",
       "    <tr>\n",
       "      <th>50%</th>\n",
       "      <td>13.000000</td>\n",
       "      <td>1247.000000</td>\n",
       "      <td>4294.000000</td>\n",
       "      <td>1185.000000</td>\n",
       "      <td>0.269000</td>\n",
       "      <td>563.500000</td>\n",
       "      <td>18.000000</td>\n",
       "      <td>448.000000</td>\n",
       "      <td>153.0000</td>\n",
       "      <td>342.000000</td>\n",
       "    </tr>\n",
       "    <tr>\n",
       "      <th>75%</th>\n",
       "      <td>16.000000</td>\n",
       "      <td>1563.750000</td>\n",
       "      <td>5644.250000</td>\n",
       "      <td>1560.250000</td>\n",
       "      <td>0.286750</td>\n",
       "      <td>794.500000</td>\n",
       "      <td>39.000000</td>\n",
       "      <td>674.500000</td>\n",
       "      <td>232.0000</td>\n",
       "      <td>483.250000</td>\n",
       "    </tr>\n",
       "    <tr>\n",
       "      <th>max</th>\n",
       "      <td>25.000000</td>\n",
       "      <td>2517.000000</td>\n",
       "      <td>9589.000000</td>\n",
       "      <td>3242.000000</td>\n",
       "      <td>0.356000</td>\n",
       "      <td>1719.000000</td>\n",
       "      <td>196.000000</td>\n",
       "      <td>1599.000000</td>\n",
       "      <td>912.0000</td>\n",
       "      <td>1187.000000</td>\n",
       "    </tr>\n",
       "  </tbody>\n",
       "</table>\n",
       "</div>"
      ],
      "text/plain": [
       "                Y            G           AB            H          BA  \\\n",
       "count  250.000000   250.000000   250.000000   250.000000  250.000000   \n",
       "mean    13.744000  1241.076000  4408.596000  1217.000000    0.269772   \n",
       "std      3.181028   465.357631  1902.990429   592.706548    0.027826   \n",
       "min     10.000000   243.000000   488.000000   106.000000    0.170000   \n",
       "25%     11.000000   910.250000  3007.750000   790.750000    0.254000   \n",
       "50%     13.000000  1247.000000  4294.000000  1185.000000    0.269000   \n",
       "75%     16.000000  1563.750000  5644.250000  1560.250000    0.286750   \n",
       "max     25.000000  2517.000000  9589.000000  3242.000000    0.356000   \n",
       "\n",
       "                 R          HR          RBI        SB           BB  \n",
       "count   250.000000  250.000000   250.000000  250.0000   250.000000  \n",
       "mean    615.428000   28.224000   505.900000  179.8160   384.188000  \n",
       "std     360.704527   28.895147   289.674367  143.7726   227.702231  \n",
       "min      44.000000    0.000000    29.000000    4.0000    23.000000  \n",
       "25%     356.750000    8.000000   298.750000   67.5000   219.500000  \n",
       "50%     563.500000   18.000000   448.000000  153.0000   342.000000  \n",
       "75%     794.500000   39.000000   674.500000  232.0000   483.250000  \n",
       "max    1719.000000  196.000000  1599.000000  912.0000  1187.000000  "
      ]
     },
     "execution_count": 73,
     "metadata": {},
     "output_type": "execute_result"
    }
   ],
   "source": [
    "# analyze all select batting stats for eligible players who are not pitchers and retired between 1900 and 1930\n",
    "\n",
    "hof_elg_bat_stats_nopitch_1930.describe()"
   ]
  },
  {
   "cell_type": "code",
   "execution_count": 74,
   "metadata": {
    "collapsed": false
   },
   "outputs": [
    {
     "data": {
      "text/html": [
       "<div>\n",
       "<table border=\"1\" class=\"dataframe\">\n",
       "  <thead>\n",
       "    <tr style=\"text-align: right;\">\n",
       "      <th></th>\n",
       "      <th>Y</th>\n",
       "      <th>G</th>\n",
       "      <th>AB</th>\n",
       "      <th>H</th>\n",
       "      <th>BA</th>\n",
       "      <th>R</th>\n",
       "      <th>HR</th>\n",
       "      <th>RBI</th>\n",
       "      <th>SB</th>\n",
       "      <th>BB</th>\n",
       "    </tr>\n",
       "  </thead>\n",
       "  <tbody>\n",
       "    <tr>\n",
       "      <th>count</th>\n",
       "      <td>20.000000</td>\n",
       "      <td>20.00000</td>\n",
       "      <td>20.000000</td>\n",
       "      <td>20.000000</td>\n",
       "      <td>20.000000</td>\n",
       "      <td>20.000000</td>\n",
       "      <td>20.000</td>\n",
       "      <td>20.000000</td>\n",
       "      <td>20.000000</td>\n",
       "      <td>20.000000</td>\n",
       "    </tr>\n",
       "    <tr>\n",
       "      <th>mean</th>\n",
       "      <td>17.250000</td>\n",
       "      <td>1829.35000</td>\n",
       "      <td>6933.650000</td>\n",
       "      <td>2158.100000</td>\n",
       "      <td>0.309600</td>\n",
       "      <td>1217.600000</td>\n",
       "      <td>63.200</td>\n",
       "      <td>983.000000</td>\n",
       "      <td>390.600000</td>\n",
       "      <td>654.700000</td>\n",
       "    </tr>\n",
       "    <tr>\n",
       "      <th>std</th>\n",
       "      <td>3.109832</td>\n",
       "      <td>418.51445</td>\n",
       "      <td>1691.489449</td>\n",
       "      <td>596.523693</td>\n",
       "      <td>0.026484</td>\n",
       "      <td>359.291174</td>\n",
       "      <td>37.812</td>\n",
       "      <td>333.307666</td>\n",
       "      <td>191.353462</td>\n",
       "      <td>219.964614</td>\n",
       "    </tr>\n",
       "    <tr>\n",
       "      <th>min</th>\n",
       "      <td>10.000000</td>\n",
       "      <td>1211.00000</td>\n",
       "      <td>4297.000000</td>\n",
       "      <td>1273.000000</td>\n",
       "      <td>0.253000</td>\n",
       "      <td>579.000000</td>\n",
       "      <td>11.000</td>\n",
       "      <td>538.000000</td>\n",
       "      <td>153.000000</td>\n",
       "      <td>347.000000</td>\n",
       "    </tr>\n",
       "    <tr>\n",
       "      <th>25%</th>\n",
       "      <td>15.000000</td>\n",
       "      <td>1552.00000</td>\n",
       "      <td>5887.250000</td>\n",
       "      <td>1680.000000</td>\n",
       "      <td>0.295500</td>\n",
       "      <td>911.000000</td>\n",
       "      <td>32.500</td>\n",
       "      <td>751.000000</td>\n",
       "      <td>233.500000</td>\n",
       "      <td>505.250000</td>\n",
       "    </tr>\n",
       "    <tr>\n",
       "      <th>50%</th>\n",
       "      <td>17.500000</td>\n",
       "      <td>1773.00000</td>\n",
       "      <td>6614.500000</td>\n",
       "      <td>2078.500000</td>\n",
       "      <td>0.312500</td>\n",
       "      <td>1272.500000</td>\n",
       "      <td>65.000</td>\n",
       "      <td>911.500000</td>\n",
       "      <td>362.500000</td>\n",
       "      <td>617.500000</td>\n",
       "    </tr>\n",
       "    <tr>\n",
       "      <th>75%</th>\n",
       "      <td>19.250000</td>\n",
       "      <td>2152.75000</td>\n",
       "      <td>8573.750000</td>\n",
       "      <td>2666.750000</td>\n",
       "      <td>0.325750</td>\n",
       "      <td>1546.750000</td>\n",
       "      <td>96.250</td>\n",
       "      <td>1260.750000</td>\n",
       "      <td>465.000000</td>\n",
       "      <td>764.500000</td>\n",
       "    </tr>\n",
       "    <tr>\n",
       "      <th>max</th>\n",
       "      <td>22.000000</td>\n",
       "      <td>2517.00000</td>\n",
       "      <td>9589.000000</td>\n",
       "      <td>3242.000000</td>\n",
       "      <td>0.346000</td>\n",
       "      <td>1719.000000</td>\n",
       "      <td>132.000</td>\n",
       "      <td>1599.000000</td>\n",
       "      <td>912.000000</td>\n",
       "      <td>1187.000000</td>\n",
       "    </tr>\n",
       "  </tbody>\n",
       "</table>\n",
       "</div>"
      ],
      "text/plain": [
       "               Y           G           AB            H         BA  \\\n",
       "count  20.000000    20.00000    20.000000    20.000000  20.000000   \n",
       "mean   17.250000  1829.35000  6933.650000  2158.100000   0.309600   \n",
       "std     3.109832   418.51445  1691.489449   596.523693   0.026484   \n",
       "min    10.000000  1211.00000  4297.000000  1273.000000   0.253000   \n",
       "25%    15.000000  1552.00000  5887.250000  1680.000000   0.295500   \n",
       "50%    17.500000  1773.00000  6614.500000  2078.500000   0.312500   \n",
       "75%    19.250000  2152.75000  8573.750000  2666.750000   0.325750   \n",
       "max    22.000000  2517.00000  9589.000000  3242.000000   0.346000   \n",
       "\n",
       "                 R       HR          RBI          SB           BB  \n",
       "count    20.000000   20.000    20.000000   20.000000    20.000000  \n",
       "mean   1217.600000   63.200   983.000000  390.600000   654.700000  \n",
       "std     359.291174   37.812   333.307666  191.353462   219.964614  \n",
       "min     579.000000   11.000   538.000000  153.000000   347.000000  \n",
       "25%     911.000000   32.500   751.000000  233.500000   505.250000  \n",
       "50%    1272.500000   65.000   911.500000  362.500000   617.500000  \n",
       "75%    1546.750000   96.250  1260.750000  465.000000   764.500000  \n",
       "max    1719.000000  132.000  1599.000000  912.000000  1187.000000  "
      ]
     },
     "execution_count": 74,
     "metadata": {},
     "output_type": "execute_result"
    }
   ],
   "source": [
    "# analyze all select batting stats for hall of fame players who are not pitchers and retired between 1900 and 1930\n",
    "\n",
    "hof_batters_1930.describe()"
   ]
  },
  {
   "cell_type": "markdown",
   "metadata": {
    "collapsed": true
   },
   "source": [
    "<i>Correlation</i>"
   ]
  },
  {
   "cell_type": "code",
   "execution_count": 75,
   "metadata": {
    "collapsed": false
   },
   "outputs": [
    {
     "data": {
      "text/html": [
       "<div>\n",
       "<table border=\"1\" class=\"dataframe\">\n",
       "  <thead>\n",
       "    <tr style=\"text-align: right;\">\n",
       "      <th></th>\n",
       "      <th>Y</th>\n",
       "      <th>G</th>\n",
       "      <th>AB</th>\n",
       "      <th>H</th>\n",
       "      <th>BA</th>\n",
       "      <th>R</th>\n",
       "      <th>HR</th>\n",
       "      <th>RBI</th>\n",
       "      <th>SB</th>\n",
       "      <th>BB</th>\n",
       "      <th>HOF</th>\n",
       "    </tr>\n",
       "  </thead>\n",
       "  <tbody>\n",
       "    <tr>\n",
       "      <th>Y</th>\n",
       "      <td>1.000000</td>\n",
       "      <td>0.734574</td>\n",
       "      <td>0.709571</td>\n",
       "      <td>0.692707</td>\n",
       "      <td>0.320154</td>\n",
       "      <td>0.645705</td>\n",
       "      <td>0.376733</td>\n",
       "      <td>0.663585</td>\n",
       "      <td>0.502729</td>\n",
       "      <td>0.480895</td>\n",
       "      <td>0.325661</td>\n",
       "    </tr>\n",
       "    <tr>\n",
       "      <th>G</th>\n",
       "      <td>0.734574</td>\n",
       "      <td>1.000000</td>\n",
       "      <td>0.986133</td>\n",
       "      <td>0.955805</td>\n",
       "      <td>0.480451</td>\n",
       "      <td>0.873058</td>\n",
       "      <td>0.533194</td>\n",
       "      <td>0.847748</td>\n",
       "      <td>0.687217</td>\n",
       "      <td>0.752462</td>\n",
       "      <td>0.373520</td>\n",
       "    </tr>\n",
       "    <tr>\n",
       "      <th>AB</th>\n",
       "      <td>0.709571</td>\n",
       "      <td>0.986133</td>\n",
       "      <td>1.000000</td>\n",
       "      <td>0.980295</td>\n",
       "      <td>0.521369</td>\n",
       "      <td>0.916703</td>\n",
       "      <td>0.544935</td>\n",
       "      <td>0.869690</td>\n",
       "      <td>0.735037</td>\n",
       "      <td>0.742976</td>\n",
       "      <td>0.392063</td>\n",
       "    </tr>\n",
       "    <tr>\n",
       "      <th>H</th>\n",
       "      <td>0.692707</td>\n",
       "      <td>0.955805</td>\n",
       "      <td>0.980295</td>\n",
       "      <td>1.000000</td>\n",
       "      <td>0.655610</td>\n",
       "      <td>0.945528</td>\n",
       "      <td>0.608006</td>\n",
       "      <td>0.905103</td>\n",
       "      <td>0.744265</td>\n",
       "      <td>0.739666</td>\n",
       "      <td>0.469156</td>\n",
       "    </tr>\n",
       "    <tr>\n",
       "      <th>BA</th>\n",
       "      <td>0.320154</td>\n",
       "      <td>0.480451</td>\n",
       "      <td>0.521369</td>\n",
       "      <td>0.655610</td>\n",
       "      <td>1.000000</td>\n",
       "      <td>0.656274</td>\n",
       "      <td>0.587271</td>\n",
       "      <td>0.643563</td>\n",
       "      <td>0.473444</td>\n",
       "      <td>0.479871</td>\n",
       "      <td>0.422914</td>\n",
       "    </tr>\n",
       "    <tr>\n",
       "      <th>R</th>\n",
       "      <td>0.645705</td>\n",
       "      <td>0.873058</td>\n",
       "      <td>0.916703</td>\n",
       "      <td>0.945528</td>\n",
       "      <td>0.656274</td>\n",
       "      <td>1.000000</td>\n",
       "      <td>0.581148</td>\n",
       "      <td>0.832658</td>\n",
       "      <td>0.861057</td>\n",
       "      <td>0.827723</td>\n",
       "      <td>0.493276</td>\n",
       "    </tr>\n",
       "    <tr>\n",
       "      <th>HR</th>\n",
       "      <td>0.376733</td>\n",
       "      <td>0.533194</td>\n",
       "      <td>0.544935</td>\n",
       "      <td>0.608006</td>\n",
       "      <td>0.587271</td>\n",
       "      <td>0.581148</td>\n",
       "      <td>1.000000</td>\n",
       "      <td>0.735883</td>\n",
       "      <td>0.327755</td>\n",
       "      <td>0.416874</td>\n",
       "      <td>0.357657</td>\n",
       "    </tr>\n",
       "    <tr>\n",
       "      <th>RBI</th>\n",
       "      <td>0.663585</td>\n",
       "      <td>0.847748</td>\n",
       "      <td>0.869690</td>\n",
       "      <td>0.905103</td>\n",
       "      <td>0.643563</td>\n",
       "      <td>0.832658</td>\n",
       "      <td>0.735883</td>\n",
       "      <td>1.000000</td>\n",
       "      <td>0.603364</td>\n",
       "      <td>0.580446</td>\n",
       "      <td>0.486655</td>\n",
       "    </tr>\n",
       "    <tr>\n",
       "      <th>SB</th>\n",
       "      <td>0.502729</td>\n",
       "      <td>0.687217</td>\n",
       "      <td>0.735037</td>\n",
       "      <td>0.744265</td>\n",
       "      <td>0.473444</td>\n",
       "      <td>0.861057</td>\n",
       "      <td>0.327755</td>\n",
       "      <td>0.603364</td>\n",
       "      <td>1.000000</td>\n",
       "      <td>0.747129</td>\n",
       "      <td>0.433194</td>\n",
       "    </tr>\n",
       "    <tr>\n",
       "      <th>BB</th>\n",
       "      <td>0.480895</td>\n",
       "      <td>0.752462</td>\n",
       "      <td>0.742976</td>\n",
       "      <td>0.739666</td>\n",
       "      <td>0.479871</td>\n",
       "      <td>0.827723</td>\n",
       "      <td>0.416874</td>\n",
       "      <td>0.580446</td>\n",
       "      <td>0.747129</td>\n",
       "      <td>1.000000</td>\n",
       "      <td>0.351027</td>\n",
       "    </tr>\n",
       "    <tr>\n",
       "      <th>HOF</th>\n",
       "      <td>0.325661</td>\n",
       "      <td>0.373520</td>\n",
       "      <td>0.392063</td>\n",
       "      <td>0.469156</td>\n",
       "      <td>0.422914</td>\n",
       "      <td>0.493276</td>\n",
       "      <td>0.357657</td>\n",
       "      <td>0.486655</td>\n",
       "      <td>0.433194</td>\n",
       "      <td>0.351027</td>\n",
       "      <td>1.000000</td>\n",
       "    </tr>\n",
       "  </tbody>\n",
       "</table>\n",
       "</div>"
      ],
      "text/plain": [
       "            Y         G        AB         H        BA         R        HR  \\\n",
       "Y    1.000000  0.734574  0.709571  0.692707  0.320154  0.645705  0.376733   \n",
       "G    0.734574  1.000000  0.986133  0.955805  0.480451  0.873058  0.533194   \n",
       "AB   0.709571  0.986133  1.000000  0.980295  0.521369  0.916703  0.544935   \n",
       "H    0.692707  0.955805  0.980295  1.000000  0.655610  0.945528  0.608006   \n",
       "BA   0.320154  0.480451  0.521369  0.655610  1.000000  0.656274  0.587271   \n",
       "R    0.645705  0.873058  0.916703  0.945528  0.656274  1.000000  0.581148   \n",
       "HR   0.376733  0.533194  0.544935  0.608006  0.587271  0.581148  1.000000   \n",
       "RBI  0.663585  0.847748  0.869690  0.905103  0.643563  0.832658  0.735883   \n",
       "SB   0.502729  0.687217  0.735037  0.744265  0.473444  0.861057  0.327755   \n",
       "BB   0.480895  0.752462  0.742976  0.739666  0.479871  0.827723  0.416874   \n",
       "HOF  0.325661  0.373520  0.392063  0.469156  0.422914  0.493276  0.357657   \n",
       "\n",
       "          RBI        SB        BB       HOF  \n",
       "Y    0.663585  0.502729  0.480895  0.325661  \n",
       "G    0.847748  0.687217  0.752462  0.373520  \n",
       "AB   0.869690  0.735037  0.742976  0.392063  \n",
       "H    0.905103  0.744265  0.739666  0.469156  \n",
       "BA   0.643563  0.473444  0.479871  0.422914  \n",
       "R    0.832658  0.861057  0.827723  0.493276  \n",
       "HR   0.735883  0.327755  0.416874  0.357657  \n",
       "RBI  1.000000  0.603364  0.580446  0.486655  \n",
       "SB   0.603364  1.000000  0.747129  0.433194  \n",
       "BB   0.580446  0.747129  1.000000  0.351027  \n",
       "HOF  0.486655  0.433194  0.351027  1.000000  "
      ]
     },
     "execution_count": 75,
     "metadata": {},
     "output_type": "execute_result"
    }
   ],
   "source": [
    "# explore correlation using Pearson's R\n",
    "\n",
    "hof_elg_bat_stats_nopitch_1930.corr()"
   ]
  },
  {
   "cell_type": "code",
   "execution_count": 76,
   "metadata": {
    "collapsed": false
   },
   "outputs": [],
   "source": [
    "# create a bar graph to visualize the correlations\n",
    "\n",
    "# define variable to store the data\n",
    "data_1930 = hof_elg_bat_stats_nopitch_1930.corr()\n",
    "\n",
    "# redefine variable to include all columns but the HOF column\n",
    "data_1930 = data_1930[['G', 'AB', 'H', 'BA', 'R', 'HR', 'RBI', 'SB', 'BB']]"
   ]
  },
  {
   "cell_type": "code",
   "execution_count": 77,
   "metadata": {
    "collapsed": false
   },
   "outputs": [
    {
     "data": {
      "image/png": "[encoded data removed]",
      "text/plain": [
       "<matplotlib.figure.Figure at 0xf264438>"
      ]
     },
     "metadata": {},
     "output_type": "display_data"
    }
   ],
   "source": [
    "ax = data_1930.loc['HOF'].plot(kind = 'barh', title = \n",
    "                          'v3. Players Retired between 1900 and 1930', \n",
    "                          legend = False, fontsize=14)\n",
    "\n",
    "ax.set_ylabel(\"Batting Categories\",fontsize=14)\n",
    "ax.set_xlabel(\"Correlation with Hall of Fame Status\",fontsize=14)\n",
    "ax.set_xlim([0.0, 1.0])\n",
    "\n",
    "\n",
    "plt.show()"
   ]
  },
  {
   "cell_type": "markdown",
   "metadata": {},
   "source": [
    "<hr>"
   ]
  },
  {
   "cell_type": "markdown",
   "metadata": {},
   "source": [
    "<b>Comparing Statistics for Players Who Retired From 1930 to 1960</b>"
   ]
  },
  {
   "cell_type": "code",
   "execution_count": 78,
   "metadata": {
    "collapsed": false
   },
   "outputs": [
    {
     "data": {
      "text/html": [
       "<div>\n",
       "<table border=\"1\" class=\"dataframe\">\n",
       "  <thead>\n",
       "    <tr style=\"text-align: right;\">\n",
       "      <th></th>\n",
       "      <th>Y</th>\n",
       "      <th>G</th>\n",
       "      <th>AB</th>\n",
       "      <th>H</th>\n",
       "      <th>BA</th>\n",
       "      <th>R</th>\n",
       "      <th>HR</th>\n",
       "      <th>RBI</th>\n",
       "      <th>SB</th>\n",
       "      <th>BB</th>\n",
       "    </tr>\n",
       "  </thead>\n",
       "  <tbody>\n",
       "    <tr>\n",
       "      <th>count</th>\n",
       "      <td>352.000000</td>\n",
       "      <td>352.000000</td>\n",
       "      <td>352.000000</td>\n",
       "      <td>352.000000</td>\n",
       "      <td>352.000000</td>\n",
       "      <td>352.000000</td>\n",
       "      <td>352.000000</td>\n",
       "      <td>352.000000</td>\n",
       "      <td>352.000000</td>\n",
       "      <td>352.000000</td>\n",
       "    </tr>\n",
       "    <tr>\n",
       "      <th>mean</th>\n",
       "      <td>13.713068</td>\n",
       "      <td>1218.585227</td>\n",
       "      <td>4184.082386</td>\n",
       "      <td>1192.977273</td>\n",
       "      <td>0.278091</td>\n",
       "      <td>602.960227</td>\n",
       "      <td>76.343750</td>\n",
       "      <td>567.090909</td>\n",
       "      <td>57.559659</td>\n",
       "      <td>444.792614</td>\n",
       "    </tr>\n",
       "    <tr>\n",
       "      <th>std</th>\n",
       "      <td>3.273836</td>\n",
       "      <td>488.830506</td>\n",
       "      <td>1960.372913</td>\n",
       "      <td>629.334877</td>\n",
       "      <td>0.025556</td>\n",
       "      <td>361.554114</td>\n",
       "      <td>81.215015</td>\n",
       "      <td>355.118619</td>\n",
       "      <td>67.261889</td>\n",
       "      <td>284.724087</td>\n",
       "    </tr>\n",
       "    <tr>\n",
       "      <th>min</th>\n",
       "      <td>10.000000</td>\n",
       "      <td>227.000000</td>\n",
       "      <td>482.000000</td>\n",
       "      <td>136.000000</td>\n",
       "      <td>0.208000</td>\n",
       "      <td>34.000000</td>\n",
       "      <td>0.000000</td>\n",
       "      <td>52.000000</td>\n",
       "      <td>1.000000</td>\n",
       "      <td>53.000000</td>\n",
       "    </tr>\n",
       "    <tr>\n",
       "      <th>25%</th>\n",
       "      <td>11.000000</td>\n",
       "      <td>830.000000</td>\n",
       "      <td>2619.500000</td>\n",
       "      <td>705.750000</td>\n",
       "      <td>0.261750</td>\n",
       "      <td>310.250000</td>\n",
       "      <td>24.000000</td>\n",
       "      <td>288.500000</td>\n",
       "      <td>18.000000</td>\n",
       "      <td>231.000000</td>\n",
       "    </tr>\n",
       "    <tr>\n",
       "      <th>50%</th>\n",
       "      <td>13.000000</td>\n",
       "      <td>1169.000000</td>\n",
       "      <td>4081.000000</td>\n",
       "      <td>1119.000000</td>\n",
       "      <td>0.276500</td>\n",
       "      <td>544.000000</td>\n",
       "      <td>47.000000</td>\n",
       "      <td>490.000000</td>\n",
       "      <td>39.000000</td>\n",
       "      <td>370.500000</td>\n",
       "    </tr>\n",
       "    <tr>\n",
       "      <th>75%</th>\n",
       "      <td>16.000000</td>\n",
       "      <td>1496.500000</td>\n",
       "      <td>5472.750000</td>\n",
       "      <td>1547.750000</td>\n",
       "      <td>0.296000</td>\n",
       "      <td>833.500000</td>\n",
       "      <td>96.000000</td>\n",
       "      <td>773.750000</td>\n",
       "      <td>68.250000</td>\n",
       "      <td>588.500000</td>\n",
       "    </tr>\n",
       "    <tr>\n",
       "      <th>max</th>\n",
       "      <td>25.000000</td>\n",
       "      <td>2826.000000</td>\n",
       "      <td>10078.000000</td>\n",
       "      <td>3315.000000</td>\n",
       "      <td>0.358000</td>\n",
       "      <td>1888.000000</td>\n",
       "      <td>511.000000</td>\n",
       "      <td>1995.000000</td>\n",
       "      <td>744.000000</td>\n",
       "      <td>1708.000000</td>\n",
       "    </tr>\n",
       "  </tbody>\n",
       "</table>\n",
       "</div>"
      ],
      "text/plain": [
       "                Y            G            AB            H          BA  \\\n",
       "count  352.000000   352.000000    352.000000   352.000000  352.000000   \n",
       "mean    13.713068  1218.585227   4184.082386  1192.977273    0.278091   \n",
       "std      3.273836   488.830506   1960.372913   629.334877    0.025556   \n",
       "min     10.000000   227.000000    482.000000   136.000000    0.208000   \n",
       "25%     11.000000   830.000000   2619.500000   705.750000    0.261750   \n",
       "50%     13.000000  1169.000000   4081.000000  1119.000000    0.276500   \n",
       "75%     16.000000  1496.500000   5472.750000  1547.750000    0.296000   \n",
       "max     25.000000  2826.000000  10078.000000  3315.000000    0.358000   \n",
       "\n",
       "                 R          HR          RBI          SB           BB  \n",
       "count   352.000000  352.000000   352.000000  352.000000   352.000000  \n",
       "mean    602.960227   76.343750   567.090909   57.559659   444.792614  \n",
       "std     361.554114   81.215015   355.118619   67.261889   284.724087  \n",
       "min      34.000000    0.000000    52.000000    1.000000    53.000000  \n",
       "25%     310.250000   24.000000   288.500000   18.000000   231.000000  \n",
       "50%     544.000000   47.000000   490.000000   39.000000   370.500000  \n",
       "75%     833.500000   96.000000   773.750000   68.250000   588.500000  \n",
       "max    1888.000000  511.000000  1995.000000  744.000000  1708.000000  "
      ]
     },
     "execution_count": 78,
     "metadata": {},
     "output_type": "execute_result"
    }
   ],
   "source": [
    "# analyze all select batting stats for eligible players who are not pitchers and retired between 1930 and 1960\n",
    "\n",
    "hof_elg_bat_stats_nopitch_1960.describe()"
   ]
  },
  {
   "cell_type": "code",
   "execution_count": 79,
   "metadata": {
    "collapsed": false
   },
   "outputs": [
    {
     "data": {
      "text/html": [
       "<div>\n",
       "<table border=\"1\" class=\"dataframe\">\n",
       "  <thead>\n",
       "    <tr style=\"text-align: right;\">\n",
       "      <th></th>\n",
       "      <th>Y</th>\n",
       "      <th>G</th>\n",
       "      <th>AB</th>\n",
       "      <th>H</th>\n",
       "      <th>BA</th>\n",
       "      <th>R</th>\n",
       "      <th>HR</th>\n",
       "      <th>RBI</th>\n",
       "      <th>SB</th>\n",
       "      <th>BB</th>\n",
       "    </tr>\n",
       "  </thead>\n",
       "  <tbody>\n",
       "    <tr>\n",
       "      <th>count</th>\n",
       "      <td>52.000000</td>\n",
       "      <td>52.000000</td>\n",
       "      <td>52.000000</td>\n",
       "      <td>52.000000</td>\n",
       "      <td>52.000000</td>\n",
       "      <td>52.000000</td>\n",
       "      <td>52.000000</td>\n",
       "      <td>52.000000</td>\n",
       "      <td>52.000000</td>\n",
       "      <td>52.000000</td>\n",
       "    </tr>\n",
       "    <tr>\n",
       "      <th>mean</th>\n",
       "      <td>16.807692</td>\n",
       "      <td>1905.788462</td>\n",
       "      <td>6992.346154</td>\n",
       "      <td>2167.442308</td>\n",
       "      <td>0.308827</td>\n",
       "      <td>1165.730769</td>\n",
       "      <td>175.576923</td>\n",
       "      <td>1127.038462</td>\n",
       "      <td>118.115385</td>\n",
       "      <td>802.673077</td>\n",
       "    </tr>\n",
       "    <tr>\n",
       "      <th>std</th>\n",
       "      <td>3.741859</td>\n",
       "      <td>374.700473</td>\n",
       "      <td>1431.570246</td>\n",
       "      <td>500.728740</td>\n",
       "      <td>0.021155</td>\n",
       "      <td>301.996437</td>\n",
       "      <td>117.106679</td>\n",
       "      <td>328.625716</td>\n",
       "      <td>121.075192</td>\n",
       "      <td>293.734689</td>\n",
       "    </tr>\n",
       "    <tr>\n",
       "      <th>min</th>\n",
       "      <td>10.000000</td>\n",
       "      <td>1215.000000</td>\n",
       "      <td>4205.000000</td>\n",
       "      <td>1161.000000</td>\n",
       "      <td>0.258000</td>\n",
       "      <td>601.000000</td>\n",
       "      <td>27.000000</td>\n",
       "      <td>563.000000</td>\n",
       "      <td>8.000000</td>\n",
       "      <td>334.000000</td>\n",
       "    </tr>\n",
       "    <tr>\n",
       "      <th>25%</th>\n",
       "      <td>14.000000</td>\n",
       "      <td>1659.750000</td>\n",
       "      <td>5984.750000</td>\n",
       "      <td>1776.250000</td>\n",
       "      <td>0.296500</td>\n",
       "      <td>942.750000</td>\n",
       "      <td>75.500000</td>\n",
       "      <td>880.500000</td>\n",
       "      <td>53.500000</td>\n",
       "      <td>619.500000</td>\n",
       "    </tr>\n",
       "    <tr>\n",
       "      <th>50%</th>\n",
       "      <td>17.000000</td>\n",
       "      <td>1884.000000</td>\n",
       "      <td>6957.000000</td>\n",
       "      <td>2136.500000</td>\n",
       "      <td>0.312000</td>\n",
       "      <td>1165.500000</td>\n",
       "      <td>166.500000</td>\n",
       "      <td>1097.000000</td>\n",
       "      <td>81.500000</td>\n",
       "      <td>782.000000</td>\n",
       "    </tr>\n",
       "    <tr>\n",
       "      <th>75%</th>\n",
       "      <td>19.250000</td>\n",
       "      <td>2152.000000</td>\n",
       "      <td>7826.750000</td>\n",
       "      <td>2484.250000</td>\n",
       "      <td>0.320250</td>\n",
       "      <td>1294.500000</td>\n",
       "      <td>242.500000</td>\n",
       "      <td>1305.250000</td>\n",
       "      <td>145.750000</td>\n",
       "      <td>932.500000</td>\n",
       "    </tr>\n",
       "    <tr>\n",
       "      <th>max</th>\n",
       "      <td>25.000000</td>\n",
       "      <td>2826.000000</td>\n",
       "      <td>10078.000000</td>\n",
       "      <td>3315.000000</td>\n",
       "      <td>0.358000</td>\n",
       "      <td>1888.000000</td>\n",
       "      <td>511.000000</td>\n",
       "      <td>1995.000000</td>\n",
       "      <td>744.000000</td>\n",
       "      <td>1708.000000</td>\n",
       "    </tr>\n",
       "  </tbody>\n",
       "</table>\n",
       "</div>"
      ],
      "text/plain": [
       "               Y            G            AB            H         BA  \\\n",
       "count  52.000000    52.000000     52.000000    52.000000  52.000000   \n",
       "mean   16.807692  1905.788462   6992.346154  2167.442308   0.308827   \n",
       "std     3.741859   374.700473   1431.570246   500.728740   0.021155   \n",
       "min    10.000000  1215.000000   4205.000000  1161.000000   0.258000   \n",
       "25%    14.000000  1659.750000   5984.750000  1776.250000   0.296500   \n",
       "50%    17.000000  1884.000000   6957.000000  2136.500000   0.312000   \n",
       "75%    19.250000  2152.000000   7826.750000  2484.250000   0.320250   \n",
       "max    25.000000  2826.000000  10078.000000  3315.000000   0.358000   \n",
       "\n",
       "                 R          HR          RBI          SB           BB  \n",
       "count    52.000000   52.000000    52.000000   52.000000    52.000000  \n",
       "mean   1165.730769  175.576923  1127.038462  118.115385   802.673077  \n",
       "std     301.996437  117.106679   328.625716  121.075192   293.734689  \n",
       "min     601.000000   27.000000   563.000000    8.000000   334.000000  \n",
       "25%     942.750000   75.500000   880.500000   53.500000   619.500000  \n",
       "50%    1165.500000  166.500000  1097.000000   81.500000   782.000000  \n",
       "75%    1294.500000  242.500000  1305.250000  145.750000   932.500000  \n",
       "max    1888.000000  511.000000  1995.000000  744.000000  1708.000000  "
      ]
     },
     "execution_count": 79,
     "metadata": {},
     "output_type": "execute_result"
    }
   ],
   "source": [
    "# analyze all select batting stats for hall of fame players who are not pitchers and retired between 1930 and 1960\n",
    "\n",
    "hof_batters_1960.describe()"
   ]
  },
  {
   "cell_type": "markdown",
   "metadata": {
    "collapsed": true
   },
   "source": [
    "<i>Correlation</i>"
   ]
  },
  {
   "cell_type": "code",
   "execution_count": 80,
   "metadata": {
    "collapsed": false
   },
   "outputs": [
    {
     "data": {
      "text/html": [
       "<div>\n",
       "<table border=\"1\" class=\"dataframe\">\n",
       "  <thead>\n",
       "    <tr style=\"text-align: right;\">\n",
       "      <th></th>\n",
       "      <th>Y</th>\n",
       "      <th>G</th>\n",
       "      <th>AB</th>\n",
       "      <th>H</th>\n",
       "      <th>BA</th>\n",
       "      <th>R</th>\n",
       "      <th>HR</th>\n",
       "      <th>RBI</th>\n",
       "      <th>SB</th>\n",
       "      <th>BB</th>\n",
       "      <th>HOF</th>\n",
       "    </tr>\n",
       "  </thead>\n",
       "  <tbody>\n",
       "    <tr>\n",
       "      <th>Y</th>\n",
       "      <td>1.000000</td>\n",
       "      <td>0.746069</td>\n",
       "      <td>0.668858</td>\n",
       "      <td>0.652498</td>\n",
       "      <td>0.281480</td>\n",
       "      <td>0.562648</td>\n",
       "      <td>0.304619</td>\n",
       "      <td>0.574675</td>\n",
       "      <td>0.389945</td>\n",
       "      <td>0.517848</td>\n",
       "      <td>0.394103</td>\n",
       "    </tr>\n",
       "    <tr>\n",
       "      <th>G</th>\n",
       "      <td>0.746069</td>\n",
       "      <td>1.000000</td>\n",
       "      <td>0.984323</td>\n",
       "      <td>0.966045</td>\n",
       "      <td>0.546498</td>\n",
       "      <td>0.920096</td>\n",
       "      <td>0.570626</td>\n",
       "      <td>0.878889</td>\n",
       "      <td>0.578850</td>\n",
       "      <td>0.826489</td>\n",
       "      <td>0.586119</td>\n",
       "    </tr>\n",
       "    <tr>\n",
       "      <th>AB</th>\n",
       "      <td>0.668858</td>\n",
       "      <td>0.984323</td>\n",
       "      <td>1.000000</td>\n",
       "      <td>0.986610</td>\n",
       "      <td>0.585542</td>\n",
       "      <td>0.949210</td>\n",
       "      <td>0.572450</td>\n",
       "      <td>0.887779</td>\n",
       "      <td>0.600596</td>\n",
       "      <td>0.812720</td>\n",
       "      <td>0.597253</td>\n",
       "    </tr>\n",
       "    <tr>\n",
       "      <th>H</th>\n",
       "      <td>0.652498</td>\n",
       "      <td>0.966045</td>\n",
       "      <td>0.986610</td>\n",
       "      <td>1.000000</td>\n",
       "      <td>0.688607</td>\n",
       "      <td>0.964390</td>\n",
       "      <td>0.589735</td>\n",
       "      <td>0.911169</td>\n",
       "      <td>0.606078</td>\n",
       "      <td>0.798028</td>\n",
       "      <td>0.645570</td>\n",
       "    </tr>\n",
       "    <tr>\n",
       "      <th>BA</th>\n",
       "      <td>0.281480</td>\n",
       "      <td>0.546498</td>\n",
       "      <td>0.585542</td>\n",
       "      <td>0.688607</td>\n",
       "      <td>1.000000</td>\n",
       "      <td>0.666075</td>\n",
       "      <td>0.433729</td>\n",
       "      <td>0.658640</td>\n",
       "      <td>0.365695</td>\n",
       "      <td>0.436609</td>\n",
       "      <td>0.501434</td>\n",
       "    </tr>\n",
       "    <tr>\n",
       "      <th>R</th>\n",
       "      <td>0.562648</td>\n",
       "      <td>0.920096</td>\n",
       "      <td>0.949210</td>\n",
       "      <td>0.964390</td>\n",
       "      <td>0.666075</td>\n",
       "      <td>1.000000</td>\n",
       "      <td>0.650747</td>\n",
       "      <td>0.896695</td>\n",
       "      <td>0.630445</td>\n",
       "      <td>0.871070</td>\n",
       "      <td>0.648958</td>\n",
       "    </tr>\n",
       "    <tr>\n",
       "      <th>HR</th>\n",
       "      <td>0.304619</td>\n",
       "      <td>0.570626</td>\n",
       "      <td>0.572450</td>\n",
       "      <td>0.589735</td>\n",
       "      <td>0.433729</td>\n",
       "      <td>0.650747</td>\n",
       "      <td>1.000000</td>\n",
       "      <td>0.818763</td>\n",
       "      <td>0.116085</td>\n",
       "      <td>0.612856</td>\n",
       "      <td>0.509424</td>\n",
       "    </tr>\n",
       "    <tr>\n",
       "      <th>RBI</th>\n",
       "      <td>0.574675</td>\n",
       "      <td>0.878889</td>\n",
       "      <td>0.887779</td>\n",
       "      <td>0.911169</td>\n",
       "      <td>0.658640</td>\n",
       "      <td>0.896695</td>\n",
       "      <td>0.818763</td>\n",
       "      <td>1.000000</td>\n",
       "      <td>0.423936</td>\n",
       "      <td>0.770472</td>\n",
       "      <td>0.657405</td>\n",
       "    </tr>\n",
       "    <tr>\n",
       "      <th>SB</th>\n",
       "      <td>0.389945</td>\n",
       "      <td>0.578850</td>\n",
       "      <td>0.600596</td>\n",
       "      <td>0.606078</td>\n",
       "      <td>0.365695</td>\n",
       "      <td>0.630445</td>\n",
       "      <td>0.116085</td>\n",
       "      <td>0.423936</td>\n",
       "      <td>1.000000</td>\n",
       "      <td>0.513132</td>\n",
       "      <td>0.375357</td>\n",
       "    </tr>\n",
       "    <tr>\n",
       "      <th>BB</th>\n",
       "      <td>0.517848</td>\n",
       "      <td>0.826489</td>\n",
       "      <td>0.812720</td>\n",
       "      <td>0.798028</td>\n",
       "      <td>0.436609</td>\n",
       "      <td>0.871070</td>\n",
       "      <td>0.612856</td>\n",
       "      <td>0.770472</td>\n",
       "      <td>0.513132</td>\n",
       "      <td>1.000000</td>\n",
       "      <td>0.524050</td>\n",
       "    </tr>\n",
       "    <tr>\n",
       "      <th>HOF</th>\n",
       "      <td>0.394103</td>\n",
       "      <td>0.586119</td>\n",
       "      <td>0.597253</td>\n",
       "      <td>0.645570</td>\n",
       "      <td>0.501434</td>\n",
       "      <td>0.648958</td>\n",
       "      <td>0.509424</td>\n",
       "      <td>0.657405</td>\n",
       "      <td>0.375357</td>\n",
       "      <td>0.524050</td>\n",
       "      <td>1.000000</td>\n",
       "    </tr>\n",
       "  </tbody>\n",
       "</table>\n",
       "</div>"
      ],
      "text/plain": [
       "            Y         G        AB         H        BA         R        HR  \\\n",
       "Y    1.000000  0.746069  0.668858  0.652498  0.281480  0.562648  0.304619   \n",
       "G    0.746069  1.000000  0.984323  0.966045  0.546498  0.920096  0.570626   \n",
       "AB   0.668858  0.984323  1.000000  0.986610  0.585542  0.949210  0.572450   \n",
       "H    0.652498  0.966045  0.986610  1.000000  0.688607  0.964390  0.589735   \n",
       "BA   0.281480  0.546498  0.585542  0.688607  1.000000  0.666075  0.433729   \n",
       "R    0.562648  0.920096  0.949210  0.964390  0.666075  1.000000  0.650747   \n",
       "HR   0.304619  0.570626  0.572450  0.589735  0.433729  0.650747  1.000000   \n",
       "RBI  0.574675  0.878889  0.887779  0.911169  0.658640  0.896695  0.818763   \n",
       "SB   0.389945  0.578850  0.600596  0.606078  0.365695  0.630445  0.116085   \n",
       "BB   0.517848  0.826489  0.812720  0.798028  0.436609  0.871070  0.612856   \n",
       "HOF  0.394103  0.586119  0.597253  0.645570  0.501434  0.648958  0.509424   \n",
       "\n",
       "          RBI        SB        BB       HOF  \n",
       "Y    0.574675  0.389945  0.517848  0.394103  \n",
       "G    0.878889  0.578850  0.826489  0.586119  \n",
       "AB   0.887779  0.600596  0.812720  0.597253  \n",
       "H    0.911169  0.606078  0.798028  0.645570  \n",
       "BA   0.658640  0.365695  0.436609  0.501434  \n",
       "R    0.896695  0.630445  0.871070  0.648958  \n",
       "HR   0.818763  0.116085  0.612856  0.509424  \n",
       "RBI  1.000000  0.423936  0.770472  0.657405  \n",
       "SB   0.423936  1.000000  0.513132  0.375357  \n",
       "BB   0.770472  0.513132  1.000000  0.524050  \n",
       "HOF  0.657405  0.375357  0.524050  1.000000  "
      ]
     },
     "execution_count": 80,
     "metadata": {},
     "output_type": "execute_result"
    }
   ],
   "source": [
    "# explore correlation using Pearson's R\n",
    "\n",
    "hof_elg_bat_stats_nopitch_1960.corr()"
   ]
  },
  {
   "cell_type": "code",
   "execution_count": 81,
   "metadata": {
    "collapsed": false
   },
   "outputs": [],
   "source": [
    "# create a bar graph to visualize the correlations\n",
    "\n",
    "# define variable to store the data\n",
    "data_1960 = hof_elg_bat_stats_nopitch_1960.corr()\n",
    "\n",
    "# redefine variable to include all columns but the HOF column\n",
    "data_1960 = data_1960[['G', 'AB', 'H', 'BA', 'R', 'HR', 'RBI', 'SB', 'BB']]"
   ]
  },
  {
   "cell_type": "code",
   "execution_count": 82,
   "metadata": {
    "collapsed": false
   },
   "outputs": [
    {
     "data": {
      "image/png": "[encoded data removed]",
      "text/plain": [
       "<matplotlib.figure.Figure at 0xf5de7f0>"
      ]
     },
     "metadata": {},
     "output_type": "display_data"
    }
   ],
   "source": [
    "ax = data_1960.loc['HOF'].plot(kind = 'barh', title = 'v4. Players Retired between 1930 and 1960', \n",
    "                          legend = False, fontsize=14)\n",
    "\n",
    "ax.set_ylabel(\"Batting Categories\",fontsize=14)\n",
    "ax.set_xlabel(\"Correlation with Hall of Fame Status\",fontsize=14)\n",
    "ax.set_xlim([0.0, 1.0])\n",
    "\n",
    "\n",
    "plt.show()"
   ]
  },
  {
   "cell_type": "markdown",
   "metadata": {},
   "source": [
    "<hr>"
   ]
  },
  {
   "cell_type": "markdown",
   "metadata": {},
   "source": [
    "<b>Comparing Statistics for Players Who Retired From 1960 to 1990</b>"
   ]
  },
  {
   "cell_type": "code",
   "execution_count": 83,
   "metadata": {
    "collapsed": false
   },
   "outputs": [
    {
     "data": {
      "text/html": [
       "<div>\n",
       "<table border=\"1\" class=\"dataframe\">\n",
       "  <thead>\n",
       "    <tr style=\"text-align: right;\">\n",
       "      <th></th>\n",
       "      <th>Y</th>\n",
       "      <th>G</th>\n",
       "      <th>AB</th>\n",
       "      <th>H</th>\n",
       "      <th>BA</th>\n",
       "      <th>R</th>\n",
       "      <th>HR</th>\n",
       "      <th>RBI</th>\n",
       "      <th>SB</th>\n",
       "      <th>BB</th>\n",
       "    </tr>\n",
       "  </thead>\n",
       "  <tbody>\n",
       "    <tr>\n",
       "      <th>count</th>\n",
       "      <td>615.000000</td>\n",
       "      <td>615.000000</td>\n",
       "      <td>615.000000</td>\n",
       "      <td>615.000000</td>\n",
       "      <td>615.000000</td>\n",
       "      <td>615.000000</td>\n",
       "      <td>615.000000</td>\n",
       "      <td>615.000000</td>\n",
       "      <td>615.000000</td>\n",
       "      <td>615.000000</td>\n",
       "    </tr>\n",
       "    <tr>\n",
       "      <th>mean</th>\n",
       "      <td>14.099187</td>\n",
       "      <td>1278.666667</td>\n",
       "      <td>4101.154472</td>\n",
       "      <td>1087.287805</td>\n",
       "      <td>0.257574</td>\n",
       "      <td>528.747967</td>\n",
       "      <td>106.707317</td>\n",
       "      <td>503.525203</td>\n",
       "      <td>64.009756</td>\n",
       "      <td>418.330081</td>\n",
       "    </tr>\n",
       "    <tr>\n",
       "      <th>std</th>\n",
       "      <td>3.424607</td>\n",
       "      <td>578.055159</td>\n",
       "      <td>2289.047410</td>\n",
       "      <td>665.982268</td>\n",
       "      <td>0.021587</td>\n",
       "      <td>357.140635</td>\n",
       "      <td>109.390891</td>\n",
       "      <td>363.877023</td>\n",
       "      <td>95.071976</td>\n",
       "      <td>305.563377</td>\n",
       "    </tr>\n",
       "    <tr>\n",
       "      <th>min</th>\n",
       "      <td>10.000000</td>\n",
       "      <td>208.000000</td>\n",
       "      <td>368.000000</td>\n",
       "      <td>79.000000</td>\n",
       "      <td>0.161000</td>\n",
       "      <td>37.000000</td>\n",
       "      <td>0.000000</td>\n",
       "      <td>44.000000</td>\n",
       "      <td>0.000000</td>\n",
       "      <td>25.000000</td>\n",
       "    </tr>\n",
       "    <tr>\n",
       "      <th>25%</th>\n",
       "      <td>11.000000</td>\n",
       "      <td>855.000000</td>\n",
       "      <td>2328.000000</td>\n",
       "      <td>581.000000</td>\n",
       "      <td>0.243000</td>\n",
       "      <td>253.000000</td>\n",
       "      <td>30.000000</td>\n",
       "      <td>230.500000</td>\n",
       "      <td>13.000000</td>\n",
       "      <td>204.000000</td>\n",
       "    </tr>\n",
       "    <tr>\n",
       "      <th>50%</th>\n",
       "      <td>13.000000</td>\n",
       "      <td>1196.000000</td>\n",
       "      <td>3780.000000</td>\n",
       "      <td>977.000000</td>\n",
       "      <td>0.258000</td>\n",
       "      <td>457.000000</td>\n",
       "      <td>76.000000</td>\n",
       "      <td>422.000000</td>\n",
       "      <td>30.000000</td>\n",
       "      <td>343.000000</td>\n",
       "    </tr>\n",
       "    <tr>\n",
       "      <th>75%</th>\n",
       "      <td>16.000000</td>\n",
       "      <td>1641.000000</td>\n",
       "      <td>5535.000000</td>\n",
       "      <td>1475.000000</td>\n",
       "      <td>0.272000</td>\n",
       "      <td>714.500000</td>\n",
       "      <td>147.000000</td>\n",
       "      <td>667.500000</td>\n",
       "      <td>75.500000</td>\n",
       "      <td>553.500000</td>\n",
       "    </tr>\n",
       "    <tr>\n",
       "      <th>max</th>\n",
       "      <td>25.000000</td>\n",
       "      <td>3562.000000</td>\n",
       "      <td>14053.000000</td>\n",
       "      <td>4256.000000</td>\n",
       "      <td>0.328000</td>\n",
       "      <td>2174.000000</td>\n",
       "      <td>755.000000</td>\n",
       "      <td>2297.000000</td>\n",
       "      <td>938.000000</td>\n",
       "      <td>1865.000000</td>\n",
       "    </tr>\n",
       "  </tbody>\n",
       "</table>\n",
       "</div>"
      ],
      "text/plain": [
       "                Y            G            AB            H          BA  \\\n",
       "count  615.000000   615.000000    615.000000   615.000000  615.000000   \n",
       "mean    14.099187  1278.666667   4101.154472  1087.287805    0.257574   \n",
       "std      3.424607   578.055159   2289.047410   665.982268    0.021587   \n",
       "min     10.000000   208.000000    368.000000    79.000000    0.161000   \n",
       "25%     11.000000   855.000000   2328.000000   581.000000    0.243000   \n",
       "50%     13.000000  1196.000000   3780.000000   977.000000    0.258000   \n",
       "75%     16.000000  1641.000000   5535.000000  1475.000000    0.272000   \n",
       "max     25.000000  3562.000000  14053.000000  4256.000000    0.328000   \n",
       "\n",
       "                 R          HR          RBI          SB           BB  \n",
       "count   615.000000  615.000000   615.000000  615.000000   615.000000  \n",
       "mean    528.747967  106.707317   503.525203   64.009756   418.330081  \n",
       "std     357.140635  109.390891   363.877023   95.071976   305.563377  \n",
       "min      37.000000    0.000000    44.000000    0.000000    25.000000  \n",
       "25%     253.000000   30.000000   230.500000   13.000000   204.000000  \n",
       "50%     457.000000   76.000000   422.000000   30.000000   343.000000  \n",
       "75%     714.500000  147.000000   667.500000   75.500000   553.500000  \n",
       "max    2174.000000  755.000000  2297.000000  938.000000  1865.000000  "
      ]
     },
     "execution_count": 83,
     "metadata": {},
     "output_type": "execute_result"
    }
   ],
   "source": [
    "# analyze all select batting stats for eligible players who are not pitchers and retired between 1960 and 1990\n",
    "\n",
    "hof_elg_bat_stats_nopitch_1990.describe()"
   ]
  },
  {
   "cell_type": "code",
   "execution_count": 84,
   "metadata": {
    "collapsed": false
   },
   "outputs": [
    {
     "data": {
      "text/html": [
       "<div>\n",
       "<table border=\"1\" class=\"dataframe\">\n",
       "  <thead>\n",
       "    <tr style=\"text-align: right;\">\n",
       "      <th></th>\n",
       "      <th>Y</th>\n",
       "      <th>G</th>\n",
       "      <th>AB</th>\n",
       "      <th>H</th>\n",
       "      <th>BA</th>\n",
       "      <th>R</th>\n",
       "      <th>HR</th>\n",
       "      <th>RBI</th>\n",
       "      <th>SB</th>\n",
       "      <th>BB</th>\n",
       "    </tr>\n",
       "  </thead>\n",
       "  <tbody>\n",
       "    <tr>\n",
       "      <th>count</th>\n",
       "      <td>31.000000</td>\n",
       "      <td>31.000000</td>\n",
       "      <td>31.000000</td>\n",
       "      <td>31.000000</td>\n",
       "      <td>31.000000</td>\n",
       "      <td>31.000000</td>\n",
       "      <td>31.000000</td>\n",
       "      <td>31.000000</td>\n",
       "      <td>31.000000</td>\n",
       "      <td>31.000000</td>\n",
       "    </tr>\n",
       "    <tr>\n",
       "      <th>mean</th>\n",
       "      <td>19.677419</td>\n",
       "      <td>2513.161290</td>\n",
       "      <td>9122.322581</td>\n",
       "      <td>2603.774194</td>\n",
       "      <td>0.284968</td>\n",
       "      <td>1411.064516</td>\n",
       "      <td>372.258065</td>\n",
       "      <td>1384.806452</td>\n",
       "      <td>174.709677</td>\n",
       "      <td>1090.451613</td>\n",
       "    </tr>\n",
       "    <tr>\n",
       "      <th>std</th>\n",
       "      <td>2.495157</td>\n",
       "      <td>329.505903</td>\n",
       "      <td>1286.249442</td>\n",
       "      <td>430.272294</td>\n",
       "      <td>0.017659</td>\n",
       "      <td>293.990129</td>\n",
       "      <td>192.757874</td>\n",
       "      <td>382.531517</td>\n",
       "      <td>207.443839</td>\n",
       "      <td>397.084528</td>\n",
       "    </tr>\n",
       "    <tr>\n",
       "      <th>min</th>\n",
       "      <td>15.000000</td>\n",
       "      <td>2089.000000</td>\n",
       "      <td>7161.000000</td>\n",
       "      <td>2016.000000</td>\n",
       "      <td>0.256000</td>\n",
       "      <td>769.000000</td>\n",
       "      <td>29.000000</td>\n",
       "      <td>586.000000</td>\n",
       "      <td>17.000000</td>\n",
       "      <td>447.000000</td>\n",
       "    </tr>\n",
       "    <tr>\n",
       "      <th>25%</th>\n",
       "      <td>18.000000</td>\n",
       "      <td>2229.500000</td>\n",
       "      <td>8145.000000</td>\n",
       "      <td>2244.000000</td>\n",
       "      <td>0.270500</td>\n",
       "      <td>1230.500000</td>\n",
       "      <td>254.000000</td>\n",
       "      <td>1219.000000</td>\n",
       "      <td>49.500000</td>\n",
       "      <td>748.500000</td>\n",
       "    </tr>\n",
       "    <tr>\n",
       "      <th>50%</th>\n",
       "      <td>19.000000</td>\n",
       "      <td>2435.000000</td>\n",
       "      <td>9232.000000</td>\n",
       "      <td>2574.000000</td>\n",
       "      <td>0.285000</td>\n",
       "      <td>1322.000000</td>\n",
       "      <td>389.000000</td>\n",
       "      <td>1451.000000</td>\n",
       "      <td>90.000000</td>\n",
       "      <td>1018.000000</td>\n",
       "    </tr>\n",
       "    <tr>\n",
       "      <th>75%</th>\n",
       "      <td>22.000000</td>\n",
       "      <td>2713.000000</td>\n",
       "      <td>9935.000000</td>\n",
       "      <td>2895.500000</td>\n",
       "      <td>0.297000</td>\n",
       "      <td>1580.500000</td>\n",
       "      <td>516.500000</td>\n",
       "      <td>1589.500000</td>\n",
       "      <td>216.000000</td>\n",
       "      <td>1411.000000</td>\n",
       "    </tr>\n",
       "    <tr>\n",
       "      <th>max</th>\n",
       "      <td>23.000000</td>\n",
       "      <td>3308.000000</td>\n",
       "      <td>12364.000000</td>\n",
       "      <td>3771.000000</td>\n",
       "      <td>0.328000</td>\n",
       "      <td>2174.000000</td>\n",
       "      <td>755.000000</td>\n",
       "      <td>2297.000000</td>\n",
       "      <td>938.000000</td>\n",
       "      <td>1865.000000</td>\n",
       "    </tr>\n",
       "  </tbody>\n",
       "</table>\n",
       "</div>"
      ],
      "text/plain": [
       "               Y            G            AB            H         BA  \\\n",
       "count  31.000000    31.000000     31.000000    31.000000  31.000000   \n",
       "mean   19.677419  2513.161290   9122.322581  2603.774194   0.284968   \n",
       "std     2.495157   329.505903   1286.249442   430.272294   0.017659   \n",
       "min    15.000000  2089.000000   7161.000000  2016.000000   0.256000   \n",
       "25%    18.000000  2229.500000   8145.000000  2244.000000   0.270500   \n",
       "50%    19.000000  2435.000000   9232.000000  2574.000000   0.285000   \n",
       "75%    22.000000  2713.000000   9935.000000  2895.500000   0.297000   \n",
       "max    23.000000  3308.000000  12364.000000  3771.000000   0.328000   \n",
       "\n",
       "                 R          HR          RBI          SB           BB  \n",
       "count    31.000000   31.000000    31.000000   31.000000    31.000000  \n",
       "mean   1411.064516  372.258065  1384.806452  174.709677  1090.451613  \n",
       "std     293.990129  192.757874   382.531517  207.443839   397.084528  \n",
       "min     769.000000   29.000000   586.000000   17.000000   447.000000  \n",
       "25%    1230.500000  254.000000  1219.000000   49.500000   748.500000  \n",
       "50%    1322.000000  389.000000  1451.000000   90.000000  1018.000000  \n",
       "75%    1580.500000  516.500000  1589.500000  216.000000  1411.000000  \n",
       "max    2174.000000  755.000000  2297.000000  938.000000  1865.000000  "
      ]
     },
     "execution_count": 84,
     "metadata": {},
     "output_type": "execute_result"
    }
   ],
   "source": [
    "# analyze all select batting stats for hall of fame players who are not pitchers and retired between 1960 and 1990\n",
    "\n",
    "hof_batters_1990.describe()"
   ]
  },
  {
   "cell_type": "markdown",
   "metadata": {
    "collapsed": true
   },
   "source": [
    "<i>Correlation</i>"
   ]
  },
  {
   "cell_type": "code",
   "execution_count": 85,
   "metadata": {
    "collapsed": false
   },
   "outputs": [
    {
     "data": {
      "text/html": [
       "<div>\n",
       "<table border=\"1\" class=\"dataframe\">\n",
       "  <thead>\n",
       "    <tr style=\"text-align: right;\">\n",
       "      <th></th>\n",
       "      <th>Y</th>\n",
       "      <th>G</th>\n",
       "      <th>AB</th>\n",
       "      <th>H</th>\n",
       "      <th>BA</th>\n",
       "      <th>R</th>\n",
       "      <th>HR</th>\n",
       "      <th>RBI</th>\n",
       "      <th>SB</th>\n",
       "      <th>BB</th>\n",
       "      <th>HOF</th>\n",
       "    </tr>\n",
       "  </thead>\n",
       "  <tbody>\n",
       "    <tr>\n",
       "      <th>Y</th>\n",
       "      <td>1.000000</td>\n",
       "      <td>0.811275</td>\n",
       "      <td>0.749064</td>\n",
       "      <td>0.739522</td>\n",
       "      <td>0.436600</td>\n",
       "      <td>0.714310</td>\n",
       "      <td>0.590807</td>\n",
       "      <td>0.725483</td>\n",
       "      <td>0.307938</td>\n",
       "      <td>0.670440</td>\n",
       "      <td>0.375590</td>\n",
       "    </tr>\n",
       "    <tr>\n",
       "      <th>G</th>\n",
       "      <td>0.811275</td>\n",
       "      <td>1.000000</td>\n",
       "      <td>0.982369</td>\n",
       "      <td>0.968984</td>\n",
       "      <td>0.594213</td>\n",
       "      <td>0.947718</td>\n",
       "      <td>0.731862</td>\n",
       "      <td>0.901228</td>\n",
       "      <td>0.461198</td>\n",
       "      <td>0.849281</td>\n",
       "      <td>0.492434</td>\n",
       "    </tr>\n",
       "    <tr>\n",
       "      <th>AB</th>\n",
       "      <td>0.749064</td>\n",
       "      <td>0.982369</td>\n",
       "      <td>1.000000</td>\n",
       "      <td>0.992694</td>\n",
       "      <td>0.626591</td>\n",
       "      <td>0.965988</td>\n",
       "      <td>0.728465</td>\n",
       "      <td>0.906202</td>\n",
       "      <td>0.491885</td>\n",
       "      <td>0.827640</td>\n",
       "      <td>0.505799</td>\n",
       "    </tr>\n",
       "    <tr>\n",
       "      <th>H</th>\n",
       "      <td>0.739522</td>\n",
       "      <td>0.968984</td>\n",
       "      <td>0.992694</td>\n",
       "      <td>1.000000</td>\n",
       "      <td>0.691394</td>\n",
       "      <td>0.970978</td>\n",
       "      <td>0.726096</td>\n",
       "      <td>0.910011</td>\n",
       "      <td>0.494163</td>\n",
       "      <td>0.813710</td>\n",
       "      <td>0.525054</td>\n",
       "    </tr>\n",
       "    <tr>\n",
       "      <th>BA</th>\n",
       "      <td>0.436600</td>\n",
       "      <td>0.594213</td>\n",
       "      <td>0.626591</td>\n",
       "      <td>0.691394</td>\n",
       "      <td>1.000000</td>\n",
       "      <td>0.649015</td>\n",
       "      <td>0.446667</td>\n",
       "      <td>0.611359</td>\n",
       "      <td>0.326411</td>\n",
       "      <td>0.468904</td>\n",
       "      <td>0.292606</td>\n",
       "    </tr>\n",
       "    <tr>\n",
       "      <th>R</th>\n",
       "      <td>0.714310</td>\n",
       "      <td>0.947718</td>\n",
       "      <td>0.965988</td>\n",
       "      <td>0.970978</td>\n",
       "      <td>0.649015</td>\n",
       "      <td>1.000000</td>\n",
       "      <td>0.789019</td>\n",
       "      <td>0.916801</td>\n",
       "      <td>0.550379</td>\n",
       "      <td>0.884437</td>\n",
       "      <td>0.569656</td>\n",
       "    </tr>\n",
       "    <tr>\n",
       "      <th>HR</th>\n",
       "      <td>0.590807</td>\n",
       "      <td>0.731862</td>\n",
       "      <td>0.728465</td>\n",
       "      <td>0.726096</td>\n",
       "      <td>0.446667</td>\n",
       "      <td>0.789019</td>\n",
       "      <td>1.000000</td>\n",
       "      <td>0.926439</td>\n",
       "      <td>0.190995</td>\n",
       "      <td>0.775768</td>\n",
       "      <td>0.559750</td>\n",
       "    </tr>\n",
       "    <tr>\n",
       "      <th>RBI</th>\n",
       "      <td>0.725483</td>\n",
       "      <td>0.901228</td>\n",
       "      <td>0.906202</td>\n",
       "      <td>0.910011</td>\n",
       "      <td>0.611359</td>\n",
       "      <td>0.916801</td>\n",
       "      <td>0.926439</td>\n",
       "      <td>1.000000</td>\n",
       "      <td>0.307637</td>\n",
       "      <td>0.839007</td>\n",
       "      <td>0.558454</td>\n",
       "    </tr>\n",
       "    <tr>\n",
       "      <th>SB</th>\n",
       "      <td>0.307938</td>\n",
       "      <td>0.461198</td>\n",
       "      <td>0.491885</td>\n",
       "      <td>0.494163</td>\n",
       "      <td>0.326411</td>\n",
       "      <td>0.550379</td>\n",
       "      <td>0.190995</td>\n",
       "      <td>0.307637</td>\n",
       "      <td>1.000000</td>\n",
       "      <td>0.397073</td>\n",
       "      <td>0.268487</td>\n",
       "    </tr>\n",
       "    <tr>\n",
       "      <th>BB</th>\n",
       "      <td>0.670440</td>\n",
       "      <td>0.849281</td>\n",
       "      <td>0.827640</td>\n",
       "      <td>0.813710</td>\n",
       "      <td>0.468904</td>\n",
       "      <td>0.884437</td>\n",
       "      <td>0.775768</td>\n",
       "      <td>0.839007</td>\n",
       "      <td>0.397073</td>\n",
       "      <td>1.000000</td>\n",
       "      <td>0.507194</td>\n",
       "    </tr>\n",
       "    <tr>\n",
       "      <th>HOF</th>\n",
       "      <td>0.375590</td>\n",
       "      <td>0.492434</td>\n",
       "      <td>0.505799</td>\n",
       "      <td>0.525054</td>\n",
       "      <td>0.292606</td>\n",
       "      <td>0.569656</td>\n",
       "      <td>0.559750</td>\n",
       "      <td>0.558454</td>\n",
       "      <td>0.268487</td>\n",
       "      <td>0.507194</td>\n",
       "      <td>1.000000</td>\n",
       "    </tr>\n",
       "  </tbody>\n",
       "</table>\n",
       "</div>"
      ],
      "text/plain": [
       "            Y         G        AB         H        BA         R        HR  \\\n",
       "Y    1.000000  0.811275  0.749064  0.739522  0.436600  0.714310  0.590807   \n",
       "G    0.811275  1.000000  0.982369  0.968984  0.594213  0.947718  0.731862   \n",
       "AB   0.749064  0.982369  1.000000  0.992694  0.626591  0.965988  0.728465   \n",
       "H    0.739522  0.968984  0.992694  1.000000  0.691394  0.970978  0.726096   \n",
       "BA   0.436600  0.594213  0.626591  0.691394  1.000000  0.649015  0.446667   \n",
       "R    0.714310  0.947718  0.965988  0.970978  0.649015  1.000000  0.789019   \n",
       "HR   0.590807  0.731862  0.728465  0.726096  0.446667  0.789019  1.000000   \n",
       "RBI  0.725483  0.901228  0.906202  0.910011  0.611359  0.916801  0.926439   \n",
       "SB   0.307938  0.461198  0.491885  0.494163  0.326411  0.550379  0.190995   \n",
       "BB   0.670440  0.849281  0.827640  0.813710  0.468904  0.884437  0.775768   \n",
       "HOF  0.375590  0.492434  0.505799  0.525054  0.292606  0.569656  0.559750   \n",
       "\n",
       "          RBI        SB        BB       HOF  \n",
       "Y    0.725483  0.307938  0.670440  0.375590  \n",
       "G    0.901228  0.461198  0.849281  0.492434  \n",
       "AB   0.906202  0.491885  0.827640  0.505799  \n",
       "H    0.910011  0.494163  0.813710  0.525054  \n",
       "BA   0.611359  0.326411  0.468904  0.292606  \n",
       "R    0.916801  0.550379  0.884437  0.569656  \n",
       "HR   0.926439  0.190995  0.775768  0.559750  \n",
       "RBI  1.000000  0.307637  0.839007  0.558454  \n",
       "SB   0.307637  1.000000  0.397073  0.268487  \n",
       "BB   0.839007  0.397073  1.000000  0.507194  \n",
       "HOF  0.558454  0.268487  0.507194  1.000000  "
      ]
     },
     "execution_count": 85,
     "metadata": {},
     "output_type": "execute_result"
    }
   ],
   "source": [
    "# explore correlation using Pearson's R\n",
    "\n",
    "hof_elg_bat_stats_nopitch_1990.corr()"
   ]
  },
  {
   "cell_type": "code",
   "execution_count": 86,
   "metadata": {
    "collapsed": false
   },
   "outputs": [],
   "source": [
    "# create a bar graph to visualize the correlations\n",
    "\n",
    "# define variable to store the data\n",
    "data_1990 = hof_elg_bat_stats_nopitch_1990.corr()\n",
    "\n",
    "# redefine variable to include all columns but the HOF column\n",
    "data_1990 = data_1990[['G', 'AB', 'H', 'BA', 'R', 'HR', 'RBI', 'SB', 'BB']]"
   ]
  },
  {
   "cell_type": "code",
   "execution_count": 87,
   "metadata": {
    "collapsed": false
   },
   "outputs": [
    {
     "data": {
      "image/png": "[encoded data removed]",
      "text/plain": [
       "<matplotlib.figure.Figure at 0xf2c8160>"
      ]
     },
     "metadata": {},
     "output_type": "display_data"
    }
   ],
   "source": [
    "ax = data_1990.loc['HOF'].plot(kind = 'barh', title = 'v5. Players Retired between 1960 and 1990', \n",
    "                          legend = False, fontsize=14)\n",
    "\n",
    "ax.set_ylabel(\"Batting Categories\",fontsize=14)\n",
    "ax.set_xlabel(\"Correlation with Hall of Fame Status\",fontsize=14)\n",
    "ax.set_xlim([0.0, 1.0])\n",
    "\n",
    "plt.show()"
   ]
  },
  {
   "cell_type": "markdown",
   "metadata": {},
   "source": [
    "<hr>"
   ]
  },
  {
   "cell_type": "markdown",
   "metadata": {},
   "source": [
    "<b>Comparing Statistics for Players Who Retired From 1990 to 2010</b>"
   ]
  },
  {
   "cell_type": "code",
   "execution_count": 88,
   "metadata": {
    "collapsed": false
   },
   "outputs": [
    {
     "data": {
      "text/html": [
       "<div>\n",
       "<table border=\"1\" class=\"dataframe\">\n",
       "  <thead>\n",
       "    <tr style=\"text-align: right;\">\n",
       "      <th></th>\n",
       "      <th>Y</th>\n",
       "      <th>G</th>\n",
       "      <th>AB</th>\n",
       "      <th>H</th>\n",
       "      <th>BA</th>\n",
       "      <th>R</th>\n",
       "      <th>HR</th>\n",
       "      <th>RBI</th>\n",
       "      <th>SB</th>\n",
       "      <th>BB</th>\n",
       "    </tr>\n",
       "  </thead>\n",
       "  <tbody>\n",
       "    <tr>\n",
       "      <th>count</th>\n",
       "      <td>535.000000</td>\n",
       "      <td>535.000000</td>\n",
       "      <td>535.000000</td>\n",
       "      <td>535.000000</td>\n",
       "      <td>535.000000</td>\n",
       "      <td>535.000000</td>\n",
       "      <td>535.000000</td>\n",
       "      <td>535.000000</td>\n",
       "      <td>535.000000</td>\n",
       "      <td>535.000000</td>\n",
       "    </tr>\n",
       "    <tr>\n",
       "      <th>mean</th>\n",
       "      <td>14.175701</td>\n",
       "      <td>1258.267290</td>\n",
       "      <td>4110.530841</td>\n",
       "      <td>1111.287850</td>\n",
       "      <td>0.263052</td>\n",
       "      <td>572.342056</td>\n",
       "      <td>121.824299</td>\n",
       "      <td>541.801869</td>\n",
       "      <td>93.343925</td>\n",
       "      <td>416.164486</td>\n",
       "    </tr>\n",
       "    <tr>\n",
       "      <th>std</th>\n",
       "      <td>3.469364</td>\n",
       "      <td>578.959325</td>\n",
       "      <td>2330.634803</td>\n",
       "      <td>681.695539</td>\n",
       "      <td>0.020892</td>\n",
       "      <td>385.825659</td>\n",
       "      <td>115.270399</td>\n",
       "      <td>379.877683</td>\n",
       "      <td>132.162996</td>\n",
       "      <td>321.165619</td>\n",
       "    </tr>\n",
       "    <tr>\n",
       "      <th>min</th>\n",
       "      <td>10.000000</td>\n",
       "      <td>140.000000</td>\n",
       "      <td>244.000000</td>\n",
       "      <td>46.000000</td>\n",
       "      <td>0.189000</td>\n",
       "      <td>20.000000</td>\n",
       "      <td>1.000000</td>\n",
       "      <td>21.000000</td>\n",
       "      <td>0.000000</td>\n",
       "      <td>17.000000</td>\n",
       "    </tr>\n",
       "    <tr>\n",
       "      <th>25%</th>\n",
       "      <td>11.000000</td>\n",
       "      <td>827.000000</td>\n",
       "      <td>2241.500000</td>\n",
       "      <td>575.000000</td>\n",
       "      <td>0.251000</td>\n",
       "      <td>289.500000</td>\n",
       "      <td>38.500000</td>\n",
       "      <td>255.500000</td>\n",
       "      <td>14.000000</td>\n",
       "      <td>194.500000</td>\n",
       "    </tr>\n",
       "    <tr>\n",
       "      <th>50%</th>\n",
       "      <td>14.000000</td>\n",
       "      <td>1202.000000</td>\n",
       "      <td>3774.000000</td>\n",
       "      <td>972.000000</td>\n",
       "      <td>0.263000</td>\n",
       "      <td>483.000000</td>\n",
       "      <td>85.000000</td>\n",
       "      <td>443.000000</td>\n",
       "      <td>47.000000</td>\n",
       "      <td>338.000000</td>\n",
       "    </tr>\n",
       "    <tr>\n",
       "      <th>75%</th>\n",
       "      <td>16.000000</td>\n",
       "      <td>1587.000000</td>\n",
       "      <td>5425.500000</td>\n",
       "      <td>1497.000000</td>\n",
       "      <td>0.276000</td>\n",
       "      <td>757.500000</td>\n",
       "      <td>165.500000</td>\n",
       "      <td>732.500000</td>\n",
       "      <td>114.000000</td>\n",
       "      <td>544.500000</td>\n",
       "    </tr>\n",
       "    <tr>\n",
       "      <th>max</th>\n",
       "      <td>29.000000</td>\n",
       "      <td>3081.000000</td>\n",
       "      <td>11551.000000</td>\n",
       "      <td>3319.000000</td>\n",
       "      <td>0.338000</td>\n",
       "      <td>2295.000000</td>\n",
       "      <td>762.000000</td>\n",
       "      <td>1996.000000</td>\n",
       "      <td>1406.000000</td>\n",
       "      <td>2558.000000</td>\n",
       "    </tr>\n",
       "  </tbody>\n",
       "</table>\n",
       "</div>"
      ],
      "text/plain": [
       "                Y            G            AB            H          BA  \\\n",
       "count  535.000000   535.000000    535.000000   535.000000  535.000000   \n",
       "mean    14.175701  1258.267290   4110.530841  1111.287850    0.263052   \n",
       "std      3.469364   578.959325   2330.634803   681.695539    0.020892   \n",
       "min     10.000000   140.000000    244.000000    46.000000    0.189000   \n",
       "25%     11.000000   827.000000   2241.500000   575.000000    0.251000   \n",
       "50%     14.000000  1202.000000   3774.000000   972.000000    0.263000   \n",
       "75%     16.000000  1587.000000   5425.500000  1497.000000    0.276000   \n",
       "max     29.000000  3081.000000  11551.000000  3319.000000    0.338000   \n",
       "\n",
       "                 R          HR          RBI           SB           BB  \n",
       "count   535.000000  535.000000   535.000000   535.000000   535.000000  \n",
       "mean    572.342056  121.824299   541.801869    93.343925   416.164486  \n",
       "std     385.825659  115.270399   379.877683   132.162996   321.165619  \n",
       "min      20.000000    1.000000    21.000000     0.000000    17.000000  \n",
       "25%     289.500000   38.500000   255.500000    14.000000   194.500000  \n",
       "50%     483.000000   85.000000   443.000000    47.000000   338.000000  \n",
       "75%     757.500000  165.500000   732.500000   114.000000   544.500000  \n",
       "max    2295.000000  762.000000  1996.000000  1406.000000  2558.000000  "
      ]
     },
     "execution_count": 88,
     "metadata": {},
     "output_type": "execute_result"
    }
   ],
   "source": [
    "# analyze all select batting stats for eligible players who are not pitchers and retired between 1990 and 2010\n",
    "\n",
    "hof_elg_bat_stats_nopitch_2010.describe()"
   ]
  },
  {
   "cell_type": "code",
   "execution_count": 89,
   "metadata": {
    "collapsed": false
   },
   "outputs": [
    {
     "data": {
      "text/html": [
       "<div>\n",
       "<table border=\"1\" class=\"dataframe\">\n",
       "  <thead>\n",
       "    <tr style=\"text-align: right;\">\n",
       "      <th></th>\n",
       "      <th>Y</th>\n",
       "      <th>G</th>\n",
       "      <th>AB</th>\n",
       "      <th>H</th>\n",
       "      <th>BA</th>\n",
       "      <th>R</th>\n",
       "      <th>HR</th>\n",
       "      <th>RBI</th>\n",
       "      <th>SB</th>\n",
       "      <th>BB</th>\n",
       "    </tr>\n",
       "  </thead>\n",
       "  <tbody>\n",
       "    <tr>\n",
       "      <th>count</th>\n",
       "      <td>19.000000</td>\n",
       "      <td>19.000000</td>\n",
       "      <td>19.000000</td>\n",
       "      <td>19.000000</td>\n",
       "      <td>19.000000</td>\n",
       "      <td>19.000000</td>\n",
       "      <td>19.000000</td>\n",
       "      <td>19.000000</td>\n",
       "      <td>19.000000</td>\n",
       "      <td>19.000000</td>\n",
       "    </tr>\n",
       "    <tr>\n",
       "      <th>mean</th>\n",
       "      <td>20.263158</td>\n",
       "      <td>2544.789474</td>\n",
       "      <td>9526.631579</td>\n",
       "      <td>2760.578947</td>\n",
       "      <td>0.290474</td>\n",
       "      <td>1482.157895</td>\n",
       "      <td>312.421053</td>\n",
       "      <td>1336.789474</td>\n",
       "      <td>311.842105</td>\n",
       "      <td>1049.473684</td>\n",
       "    </tr>\n",
       "    <tr>\n",
       "      <th>std</th>\n",
       "      <td>3.380370</td>\n",
       "      <td>377.489011</td>\n",
       "      <td>1474.054583</td>\n",
       "      <td>421.255968</td>\n",
       "      <td>0.019395</td>\n",
       "      <td>310.011337</td>\n",
       "      <td>131.076447</td>\n",
       "      <td>309.900446</td>\n",
       "      <td>315.536098</td>\n",
       "      <td>388.732609</td>\n",
       "    </tr>\n",
       "    <tr>\n",
       "      <th>min</th>\n",
       "      <td>12.000000</td>\n",
       "      <td>1783.000000</td>\n",
       "      <td>6911.000000</td>\n",
       "      <td>2092.000000</td>\n",
       "      <td>0.262000</td>\n",
       "      <td>1025.000000</td>\n",
       "      <td>28.000000</td>\n",
       "      <td>793.000000</td>\n",
       "      <td>17.000000</td>\n",
       "      <td>450.000000</td>\n",
       "    </tr>\n",
       "    <tr>\n",
       "      <th>25%</th>\n",
       "      <td>19.000000</td>\n",
       "      <td>2308.500000</td>\n",
       "      <td>8292.000000</td>\n",
       "      <td>2371.000000</td>\n",
       "      <td>0.279000</td>\n",
       "      <td>1297.000000</td>\n",
       "      <td>222.000000</td>\n",
       "      <td>1124.500000</td>\n",
       "      <td>119.000000</td>\n",
       "      <td>819.000000</td>\n",
       "    </tr>\n",
       "    <tr>\n",
       "      <th>50%</th>\n",
       "      <td>20.000000</td>\n",
       "      <td>2573.000000</td>\n",
       "      <td>9396.000000</td>\n",
       "      <td>2774.000000</td>\n",
       "      <td>0.285000</td>\n",
       "      <td>1494.000000</td>\n",
       "      <td>297.000000</td>\n",
       "      <td>1307.000000</td>\n",
       "      <td>271.000000</td>\n",
       "      <td>1032.000000</td>\n",
       "    </tr>\n",
       "    <tr>\n",
       "      <th>75%</th>\n",
       "      <td>21.000000</td>\n",
       "      <td>2853.000000</td>\n",
       "      <td>10918.500000</td>\n",
       "      <td>3141.500000</td>\n",
       "      <td>0.303000</td>\n",
       "      <td>1639.500000</td>\n",
       "      <td>429.000000</td>\n",
       "      <td>1593.000000</td>\n",
       "      <td>396.500000</td>\n",
       "      <td>1144.500000</td>\n",
       "    </tr>\n",
       "    <tr>\n",
       "      <th>max</th>\n",
       "      <td>29.000000</td>\n",
       "      <td>3081.000000</td>\n",
       "      <td>11551.000000</td>\n",
       "      <td>3319.000000</td>\n",
       "      <td>0.338000</td>\n",
       "      <td>2295.000000</td>\n",
       "      <td>521.000000</td>\n",
       "      <td>1917.000000</td>\n",
       "      <td>1406.000000</td>\n",
       "      <td>2190.000000</td>\n",
       "    </tr>\n",
       "  </tbody>\n",
       "</table>\n",
       "</div>"
      ],
      "text/plain": [
       "               Y            G            AB            H         BA  \\\n",
       "count  19.000000    19.000000     19.000000    19.000000  19.000000   \n",
       "mean   20.263158  2544.789474   9526.631579  2760.578947   0.290474   \n",
       "std     3.380370   377.489011   1474.054583   421.255968   0.019395   \n",
       "min    12.000000  1783.000000   6911.000000  2092.000000   0.262000   \n",
       "25%    19.000000  2308.500000   8292.000000  2371.000000   0.279000   \n",
       "50%    20.000000  2573.000000   9396.000000  2774.000000   0.285000   \n",
       "75%    21.000000  2853.000000  10918.500000  3141.500000   0.303000   \n",
       "max    29.000000  3081.000000  11551.000000  3319.000000   0.338000   \n",
       "\n",
       "                 R          HR          RBI           SB           BB  \n",
       "count    19.000000   19.000000    19.000000    19.000000    19.000000  \n",
       "mean   1482.157895  312.421053  1336.789474   311.842105  1049.473684  \n",
       "std     310.011337  131.076447   309.900446   315.536098   388.732609  \n",
       "min    1025.000000   28.000000   793.000000    17.000000   450.000000  \n",
       "25%    1297.000000  222.000000  1124.500000   119.000000   819.000000  \n",
       "50%    1494.000000  297.000000  1307.000000   271.000000  1032.000000  \n",
       "75%    1639.500000  429.000000  1593.000000   396.500000  1144.500000  \n",
       "max    2295.000000  521.000000  1917.000000  1406.000000  2190.000000  "
      ]
     },
     "execution_count": 89,
     "metadata": {},
     "output_type": "execute_result"
    }
   ],
   "source": [
    "# analyze all select batting stats for hall of fame players who are not pitchers\n",
    "\n",
    "hof_batters_2010.describe()"
   ]
  },
  {
   "cell_type": "markdown",
   "metadata": {
    "collapsed": true
   },
   "source": [
    "<i>Correlation</i>"
   ]
  },
  {
   "cell_type": "code",
   "execution_count": 90,
   "metadata": {
    "collapsed": false
   },
   "outputs": [
    {
     "data": {
      "text/html": [
       "<div>\n",
       "<table border=\"1\" class=\"dataframe\">\n",
       "  <thead>\n",
       "    <tr style=\"text-align: right;\">\n",
       "      <th></th>\n",
       "      <th>Y</th>\n",
       "      <th>G</th>\n",
       "      <th>AB</th>\n",
       "      <th>H</th>\n",
       "      <th>BA</th>\n",
       "      <th>R</th>\n",
       "      <th>HR</th>\n",
       "      <th>RBI</th>\n",
       "      <th>SB</th>\n",
       "      <th>BB</th>\n",
       "      <th>HOF</th>\n",
       "    </tr>\n",
       "  </thead>\n",
       "  <tbody>\n",
       "    <tr>\n",
       "      <th>Y</th>\n",
       "      <td>1.000000</td>\n",
       "      <td>0.790392</td>\n",
       "      <td>0.739369</td>\n",
       "      <td>0.731532</td>\n",
       "      <td>0.380417</td>\n",
       "      <td>0.712604</td>\n",
       "      <td>0.539171</td>\n",
       "      <td>0.672443</td>\n",
       "      <td>0.449849</td>\n",
       "      <td>0.650596</td>\n",
       "      <td>0.337011</td>\n",
       "    </tr>\n",
       "    <tr>\n",
       "      <th>G</th>\n",
       "      <td>0.790392</td>\n",
       "      <td>1.000000</td>\n",
       "      <td>0.982400</td>\n",
       "      <td>0.972659</td>\n",
       "      <td>0.597796</td>\n",
       "      <td>0.948391</td>\n",
       "      <td>0.725198</td>\n",
       "      <td>0.896875</td>\n",
       "      <td>0.544246</td>\n",
       "      <td>0.852145</td>\n",
       "      <td>0.426803</td>\n",
       "    </tr>\n",
       "    <tr>\n",
       "      <th>AB</th>\n",
       "      <td>0.739369</td>\n",
       "      <td>0.982400</td>\n",
       "      <td>1.000000</td>\n",
       "      <td>0.993906</td>\n",
       "      <td>0.617772</td>\n",
       "      <td>0.967306</td>\n",
       "      <td>0.744942</td>\n",
       "      <td>0.916505</td>\n",
       "      <td>0.557103</td>\n",
       "      <td>0.840853</td>\n",
       "      <td>0.446345</td>\n",
       "    </tr>\n",
       "    <tr>\n",
       "      <th>H</th>\n",
       "      <td>0.731532</td>\n",
       "      <td>0.972659</td>\n",
       "      <td>0.993906</td>\n",
       "      <td>1.000000</td>\n",
       "      <td>0.676451</td>\n",
       "      <td>0.970821</td>\n",
       "      <td>0.739319</td>\n",
       "      <td>0.917762</td>\n",
       "      <td>0.558470</td>\n",
       "      <td>0.839340</td>\n",
       "      <td>0.464692</td>\n",
       "    </tr>\n",
       "    <tr>\n",
       "      <th>BA</th>\n",
       "      <td>0.380417</td>\n",
       "      <td>0.597796</td>\n",
       "      <td>0.617772</td>\n",
       "      <td>0.676451</td>\n",
       "      <td>1.000000</td>\n",
       "      <td>0.628684</td>\n",
       "      <td>0.415947</td>\n",
       "      <td>0.582566</td>\n",
       "      <td>0.349993</td>\n",
       "      <td>0.503944</td>\n",
       "      <td>0.252098</td>\n",
       "    </tr>\n",
       "    <tr>\n",
       "      <th>R</th>\n",
       "      <td>0.712604</td>\n",
       "      <td>0.948391</td>\n",
       "      <td>0.967306</td>\n",
       "      <td>0.970821</td>\n",
       "      <td>0.628684</td>\n",
       "      <td>1.000000</td>\n",
       "      <td>0.786151</td>\n",
       "      <td>0.912469</td>\n",
       "      <td>0.630239</td>\n",
       "      <td>0.907456</td>\n",
       "      <td>0.452919</td>\n",
       "    </tr>\n",
       "    <tr>\n",
       "      <th>HR</th>\n",
       "      <td>0.539171</td>\n",
       "      <td>0.725198</td>\n",
       "      <td>0.744942</td>\n",
       "      <td>0.739319</td>\n",
       "      <td>0.415947</td>\n",
       "      <td>0.786151</td>\n",
       "      <td>1.000000</td>\n",
       "      <td>0.930468</td>\n",
       "      <td>0.191406</td>\n",
       "      <td>0.765821</td>\n",
       "      <td>0.317582</td>\n",
       "    </tr>\n",
       "    <tr>\n",
       "      <th>RBI</th>\n",
       "      <td>0.672443</td>\n",
       "      <td>0.896875</td>\n",
       "      <td>0.916505</td>\n",
       "      <td>0.917762</td>\n",
       "      <td>0.582566</td>\n",
       "      <td>0.912469</td>\n",
       "      <td>0.930468</td>\n",
       "      <td>1.000000</td>\n",
       "      <td>0.328342</td>\n",
       "      <td>0.836892</td>\n",
       "      <td>0.401953</td>\n",
       "    </tr>\n",
       "    <tr>\n",
       "      <th>SB</th>\n",
       "      <td>0.449849</td>\n",
       "      <td>0.544246</td>\n",
       "      <td>0.557103</td>\n",
       "      <td>0.558470</td>\n",
       "      <td>0.349993</td>\n",
       "      <td>0.630239</td>\n",
       "      <td>0.191406</td>\n",
       "      <td>0.328342</td>\n",
       "      <td>1.000000</td>\n",
       "      <td>0.512872</td>\n",
       "      <td>0.317538</td>\n",
       "    </tr>\n",
       "    <tr>\n",
       "      <th>BB</th>\n",
       "      <td>0.650596</td>\n",
       "      <td>0.852145</td>\n",
       "      <td>0.840853</td>\n",
       "      <td>0.839340</td>\n",
       "      <td>0.503944</td>\n",
       "      <td>0.907456</td>\n",
       "      <td>0.765821</td>\n",
       "      <td>0.836892</td>\n",
       "      <td>0.512872</td>\n",
       "      <td>1.000000</td>\n",
       "      <td>0.378743</td>\n",
       "    </tr>\n",
       "    <tr>\n",
       "      <th>HOF</th>\n",
       "      <td>0.337011</td>\n",
       "      <td>0.426803</td>\n",
       "      <td>0.446345</td>\n",
       "      <td>0.464692</td>\n",
       "      <td>0.252098</td>\n",
       "      <td>0.452919</td>\n",
       "      <td>0.317582</td>\n",
       "      <td>0.401953</td>\n",
       "      <td>0.317538</td>\n",
       "      <td>0.378743</td>\n",
       "      <td>1.000000</td>\n",
       "    </tr>\n",
       "  </tbody>\n",
       "</table>\n",
       "</div>"
      ],
      "text/plain": [
       "            Y         G        AB         H        BA         R        HR  \\\n",
       "Y    1.000000  0.790392  0.739369  0.731532  0.380417  0.712604  0.539171   \n",
       "G    0.790392  1.000000  0.982400  0.972659  0.597796  0.948391  0.725198   \n",
       "AB   0.739369  0.982400  1.000000  0.993906  0.617772  0.967306  0.744942   \n",
       "H    0.731532  0.972659  0.993906  1.000000  0.676451  0.970821  0.739319   \n",
       "BA   0.380417  0.597796  0.617772  0.676451  1.000000  0.628684  0.415947   \n",
       "R    0.712604  0.948391  0.967306  0.970821  0.628684  1.000000  0.786151   \n",
       "HR   0.539171  0.725198  0.744942  0.739319  0.415947  0.786151  1.000000   \n",
       "RBI  0.672443  0.896875  0.916505  0.917762  0.582566  0.912469  0.930468   \n",
       "SB   0.449849  0.544246  0.557103  0.558470  0.349993  0.630239  0.191406   \n",
       "BB   0.650596  0.852145  0.840853  0.839340  0.503944  0.907456  0.765821   \n",
       "HOF  0.337011  0.426803  0.446345  0.464692  0.252098  0.452919  0.317582   \n",
       "\n",
       "          RBI        SB        BB       HOF  \n",
       "Y    0.672443  0.449849  0.650596  0.337011  \n",
       "G    0.896875  0.544246  0.852145  0.426803  \n",
       "AB   0.916505  0.557103  0.840853  0.446345  \n",
       "H    0.917762  0.558470  0.839340  0.464692  \n",
       "BA   0.582566  0.349993  0.503944  0.252098  \n",
       "R    0.912469  0.630239  0.907456  0.452919  \n",
       "HR   0.930468  0.191406  0.765821  0.317582  \n",
       "RBI  1.000000  0.328342  0.836892  0.401953  \n",
       "SB   0.328342  1.000000  0.512872  0.317538  \n",
       "BB   0.836892  0.512872  1.000000  0.378743  \n",
       "HOF  0.401953  0.317538  0.378743  1.000000  "
      ]
     },
     "execution_count": 90,
     "metadata": {},
     "output_type": "execute_result"
    }
   ],
   "source": [
    "# explore correlation using Pearson's R\n",
    "\n",
    "hof_elg_bat_stats_nopitch_2010.corr()"
   ]
  },
  {
   "cell_type": "code",
   "execution_count": 91,
   "metadata": {
    "collapsed": false
   },
   "outputs": [],
   "source": [
    "# create a bar graph to visualize the correlations\n",
    "\n",
    "# define variable to store the data\n",
    "data_2010 = hof_elg_bat_stats_nopitch_2010.corr()\n",
    "\n",
    "# redefine variable to include all columns but the HOF column\n",
    "data_2010 = data_2010[['G', 'AB', 'H', 'BA', 'R', 'HR', 'RBI', 'SB', 'BB']]"
   ]
  },
  {
   "cell_type": "code",
   "execution_count": 92,
   "metadata": {
    "collapsed": false
   },
   "outputs": [
    {
     "data": {
      "image/png": "[encoded data removed]",
      "text/plain": [
       "<matplotlib.figure.Figure at 0x11d79d68>"
      ]
     },
     "metadata": {},
     "output_type": "display_data"
    }
   ],
   "source": [
    "ax = data_2010.loc['HOF'].plot(kind = 'barh', title = 'v6. Players Retired Between 1990 and 2010', \n",
    "                          legend = False, fontsize=14)\n",
    "\n",
    "ax.set_ylabel(\"Batting Categories\",fontsize=14)\n",
    "ax.set_xlabel(\"Correlation with Hall of Fame Status\",fontsize=14)\n",
    "ax.set_xlim([0.0, 1.0])\n",
    "\n",
    "\n",
    "\n",
    "plt.show()"
   ]
  },
  {
   "cell_type": "markdown",
   "metadata": {},
   "source": [
    "<hr>"
   ]
  },
  {
   "cell_type": "markdown",
   "metadata": {},
   "source": [
    "<b>Correlation</b>\n",
    "\n",
    "<i>Comparing the Correlation Across the Defined Eras</i>"
   ]
  },
  {
   "cell_type": "code",
   "execution_count": 93,
   "metadata": {
    "collapsed": false
   },
   "outputs": [
    {
     "data": {
      "image/png": "[encoded data removed]",
      "text/plain": [
       "<matplotlib.figure.Figure at 0x1213a588>"
      ]
     },
     "metadata": {},
     "output_type": "display_data"
    }
   ],
   "source": [
    "# Create a plot that includes each year's analysis\n",
    "\n",
    "data_1 = data_1900.loc['HOF']\n",
    "data_2 = data_1930.loc['HOF']\n",
    "data_3 = data_1960.loc['HOF']\n",
    "data_4 = data_1990.loc['HOF']\n",
    "data_5 = data_2010.loc['HOF']\n",
    "\n",
    "data_1.name = '< 1900'\n",
    "data_2.name = '1900-1930'\n",
    "data_3.name = '1930-1960'\n",
    "data_4.name = '1960-1990'\n",
    "data_5.name = '1990-2010'\n",
    "\n",
    "\n",
    "compare_correlation = pd.DataFrame([data_1, data_2, data_3, data_4, data_5], \n",
    "                                   columns=['G', 'AB', 'H', 'BA', 'R', 'HR', 'RBI', 'SB', 'BB'])\n",
    "\n",
    "ax = compare_correlation.plot.bar(figsize = (15, 5), fontsize = 12, title = 'v7. Comparison of Correlation Across Eras')\n",
    "ax.set_xlabel(\"Batting Categories by Era\",fontsize=14)\n",
    "ax.set_ylabel(\"Correlation with Hall of Fame Status\",fontsize=14)\n",
    "ax.set_ylim([0.0, 1.0])\n",
    "plt.show()\n"
   ]
  },
  {
   "cell_type": "markdown",
   "metadata": {},
   "source": [
    "<i>Correlation of Individual Categories and Corresponding P-Values</i>\n",
    "\n",
    "Though Pearson's R is displayed above as the Correlation Coefficient, further significance can be determined if the corresponding P-Value is very small (far less than .001 in most of these cases) and lower than Pearson's R."
   ]
  },
  {
   "cell_type": "code",
   "execution_count": 94,
   "metadata": {
    "collapsed": true
   },
   "outputs": [],
   "source": [
    "# Find Pearson's R and corresponding P-Value for each category\n",
    "from scipy.stats.stats import pearsonr"
   ]
  },
  {
   "cell_type": "code",
   "execution_count": 95,
   "metadata": {
    "collapsed": false
   },
   "outputs": [
    {
     "data": {
      "text/plain": [
       "(0.44817306614255797, 1.6819310113643825e-91)"
      ]
     },
     "execution_count": 95,
     "metadata": {},
     "output_type": "execute_result"
    }
   ],
   "source": [
    "# Games\n",
    "pearsonr(hof_elg_bat_stats_nopitch['G'], hof_elg_bat_stats_nopitch['HOF'])"
   ]
  },
  {
   "cell_type": "code",
   "execution_count": 96,
   "metadata": {
    "collapsed": false
   },
   "outputs": [
    {
     "data": {
      "text/plain": [
       "(0.46998132425303102, 1.2262504516079468e-101)"
      ]
     },
     "execution_count": 96,
     "metadata": {},
     "output_type": "execute_result"
    }
   ],
   "source": [
    "# At Bats\n",
    "pearsonr(hof_elg_bat_stats_nopitch['AB'], hof_elg_bat_stats_nopitch['HOF'])"
   ]
  },
  {
   "cell_type": "code",
   "execution_count": 97,
   "metadata": {
    "collapsed": false
   },
   "outputs": [
    {
     "data": {
      "text/plain": [
       "(0.51518662822477779, 3.8256764065168101e-125)"
      ]
     },
     "execution_count": 97,
     "metadata": {},
     "output_type": "execute_result"
    }
   ],
   "source": [
    "# Hits\n",
    "pearsonr(hof_elg_bat_stats_nopitch['H'], hof_elg_bat_stats_nopitch['HOF'])"
   ]
  },
  {
   "cell_type": "code",
   "execution_count": 98,
   "metadata": {
    "collapsed": false
   },
   "outputs": [
    {
     "data": {
      "text/plain": [
       "(0.38199645725418518, 6.3325728100815147e-65)"
      ]
     },
     "execution_count": 98,
     "metadata": {},
     "output_type": "execute_result"
    }
   ],
   "source": [
    "# Batting Average\n",
    "pearsonr(hof_elg_bat_stats_nopitch['BA'], hof_elg_bat_stats_nopitch['HOF'])"
   ]
  },
  {
   "cell_type": "code",
   "execution_count": 99,
   "metadata": {
    "collapsed": false
   },
   "outputs": [
    {
     "data": {
      "text/plain": [
       "(0.53069662378659088, 4.647192770521209e-134)"
      ]
     },
     "execution_count": 99,
     "metadata": {},
     "output_type": "execute_result"
    }
   ],
   "source": [
    "# Runs\n",
    "pearsonr(hof_elg_bat_stats_nopitch['R'], hof_elg_bat_stats_nopitch['HOF'])"
   ]
  },
  {
   "cell_type": "code",
   "execution_count": 100,
   "metadata": {
    "collapsed": false
   },
   "outputs": [
    {
     "data": {
      "text/plain": [
       "(0.35889507989407626, 5.4827249143927722e-57)"
      ]
     },
     "execution_count": 100,
     "metadata": {},
     "output_type": "execute_result"
    }
   ],
   "source": [
    "# Home Runs\n",
    "pearsonr(hof_elg_bat_stats_nopitch['HR'], hof_elg_bat_stats_nopitch['HOF'])"
   ]
  },
  {
   "cell_type": "code",
   "execution_count": 101,
   "metadata": {
    "collapsed": false
   },
   "outputs": [
    {
     "data": {
      "text/plain": [
       "(0.51551638591615101, 2.4999046969770423e-125)"
      ]
     },
     "execution_count": 101,
     "metadata": {},
     "output_type": "execute_result"
    }
   ],
   "source": [
    "# Runs Batted In\n",
    "pearsonr(hof_elg_bat_stats_nopitch['RBI'], hof_elg_bat_stats_nopitch['HOF'])"
   ]
  },
  {
   "cell_type": "code",
   "execution_count": 102,
   "metadata": {
    "collapsed": false
   },
   "outputs": [
    {
     "data": {
      "text/plain": [
       "(0.27619678772103085, 1.5485854935400278e-33)"
      ]
     },
     "execution_count": 102,
     "metadata": {},
     "output_type": "execute_result"
    }
   ],
   "source": [
    "# Stolen Bases\n",
    "pearsonr(hof_elg_bat_stats_nopitch['SB'], hof_elg_bat_stats_nopitch['HOF'])"
   ]
  },
  {
   "cell_type": "code",
   "execution_count": 103,
   "metadata": {
    "collapsed": false
   },
   "outputs": [
    {
     "data": {
      "text/plain": [
       "(0.43967516155778336, 9.5600239969304312e-88)"
      ]
     },
     "execution_count": 103,
     "metadata": {},
     "output_type": "execute_result"
    }
   ],
   "source": [
    "# Base on Balls\n",
    "pearsonr(hof_elg_bat_stats_nopitch['BB'], hof_elg_bat_stats_nopitch['HOF'])"
   ]
  },
  {
   "cell_type": "markdown",
   "metadata": {},
   "source": [
    "<i>Batting Average with a low Correlation Coefficient</i>\n",
    "\n",
    "For the era representing players who retired prior to 1900, the correlation for Batting Average is very low.  "
   ]
  },
  {
   "cell_type": "code",
   "execution_count": 104,
   "metadata": {
    "collapsed": false
   },
   "outputs": [
    {
     "data": {
      "text/plain": [
       "(0.19468477176282437, 0.1430703763706507)"
      ]
     },
     "execution_count": 104,
     "metadata": {},
     "output_type": "execute_result"
    }
   ],
   "source": [
    "# Batting Average Correlation and P-Value for players retiring prior to 1900\n",
    "pearsonr(hof_elg_bat_stats_nopitch_1900['BA'], hof_elg_bat_stats_nopitch_1900['HOF'])"
   ]
  },
  {
   "cell_type": "code",
   "execution_count": 105,
   "metadata": {
    "collapsed": false
   },
   "outputs": [
    {
     "data": {
      "text/plain": [
       "58"
      ]
     },
     "execution_count": 105,
     "metadata": {},
     "output_type": "execute_result"
    }
   ],
   "source": [
    "# checking size of population, as p-value may not be reliable for a population less than 60\n",
    "len(hof_elg_bat_stats_nopitch_1900.index)"
   ]
  },
  {
   "cell_type": "markdown",
   "metadata": {},
   "source": [
    "<b>Hall of Fame Players Average Stats vs. Other Eligible Players of the Same Era</b>"
   ]
  },
  {
   "cell_type": "code",
   "execution_count": 106,
   "metadata": {
    "collapsed": false
   },
   "outputs": [],
   "source": [
    "# define a function that can take a statistical category as an argument and displays a plot\n",
    "# comparing Average Career Stats of Hall of Fame players vs. All Eligible Players\n",
    "# and how these differences fluctuate across eras\n",
    "\n",
    "def plot_all_vs_hof(category):\n",
    "    data_1900_d = hof_elg_bat_stats_nopitch_1900.describe()\n",
    "    data_1930_d = hof_elg_bat_stats_nopitch_1930.describe()\n",
    "    data_1960_d = hof_elg_bat_stats_nopitch_1960.describe()\n",
    "    data_1990_d = hof_elg_bat_stats_nopitch_1990.describe()\n",
    "    data_2010_d = hof_elg_bat_stats_nopitch_2010.describe()\n",
    "\n",
    "    data_a = data_1900_d.loc['mean']\n",
    "    data_b = data_1930_d.loc['mean']\n",
    "    data_c = data_1960_d.loc['mean']\n",
    "    data_d = data_1990_d.loc['mean']\n",
    "    data_e = data_2010_d.loc['mean']\n",
    "\n",
    "    a_data_1900 = hof_batters_1900.describe()\n",
    "    b_data_1930 = hof_batters_1930.describe()\n",
    "    c_data_1960 = hof_batters_1960.describe()\n",
    "    d_data_1990 = hof_batters_1990.describe()\n",
    "    e_data_2010 = hof_batters_2010.describe()\n",
    "\n",
    "    a_data = a_data_1900.loc['mean']\n",
    "    b_data = b_data_1930.loc['mean']\n",
    "    c_data = c_data_1960.loc['mean']\n",
    "    d_data = d_data_1990.loc['mean']\n",
    "    e_data = e_data_2010.loc['mean']\n",
    "\n",
    "    data_a.name = '< 1900'\n",
    "    data_b.name = '1900-1930'\n",
    "    data_c.name = '1930-1960'\n",
    "    data_d.name = '1960-1990'\n",
    "    data_e.name = '1990-2010'\n",
    "\n",
    "    a_data.name = '< 1900'\n",
    "    b_data.name = '1900-1930'\n",
    "    c_data.name = '1930-1960'\n",
    "    d_data.name = '1960-1990'\n",
    "    e_data.name = '1990-2010'\n",
    "\n",
    "    compare_all = pd.DataFrame([data_a, data_b, data_c, data_d, data_e], columns=[category])\n",
    "    compare_hof = pd.DataFrame([a_data, b_data, c_data, d_data, e_data], columns=[category])\n",
    "       \n",
    "    ax = compare_all.plot.line(title = category + ':  Hall of Fame Players vs. All Eligible Players', label='All')\n",
    "    compare_hof.plot.line(ax=ax, label='HOF')\n",
    "    \n",
    "    ax.set_xlabel(\"by Era\",fontsize=14)\n",
    "    ax.set_ylabel(\"Average Career \" + category,fontsize=14)\n",
    "    ax.legend(['All', 'HOF'])\n",
    "\n",
    "    plt.show()"
   ]
  },
  {
   "cell_type": "markdown",
   "metadata": {},
   "source": [
    "<i>v8. Hall of Fame Players vs All Eligible Players:  Career Stats Compared During Each Era</i>"
   ]
  },
  {
   "cell_type": "code",
   "execution_count": 107,
   "metadata": {
    "collapsed": false
   },
   "outputs": [
    {
     "data": {
      "image/png": "[encoded data removed]",
      "text/plain": [
       "<matplotlib.figure.Figure at 0x121657f0>"
      ]
     },
     "metadata": {},
     "output_type": "display_data"
    }
   ],
   "source": [
    "# Categories with the largest correlation\n",
    "\n",
    "# Runs\n",
    "\n",
    "plot_all_vs_hof('R')"
   ]
  },
  {
   "cell_type": "code",
   "execution_count": 108,
   "metadata": {
    "collapsed": false
   },
   "outputs": [
    {
     "data": {
      "image/png": "[encoded data removed]",
      "text/plain": [
       "<matplotlib.figure.Figure at 0xefa4ac8>"
      ]
     },
     "metadata": {},
     "output_type": "display_data"
    }
   ],
   "source": [
    "# RBI\n",
    "\n",
    "plot_all_vs_hof('RBI')"
   ]
  },
  {
   "cell_type": "code",
   "execution_count": 109,
   "metadata": {
    "collapsed": false
   },
   "outputs": [
    {
     "data": {
      "image/png": "[encoded data removed]",
      "text/plain": [
       "<matplotlib.figure.Figure at 0xf34f908>"
      ]
     },
     "metadata": {},
     "output_type": "display_data"
    }
   ],
   "source": [
    "# Hits\n",
    "\n",
    "plot_all_vs_hof('H')"
   ]
  },
  {
   "cell_type": "code",
   "execution_count": 110,
   "metadata": {
    "collapsed": false
   },
   "outputs": [
    {
     "data": {
      "image/png": "[encoded data removed]",
      "text/plain": [
       "<matplotlib.figure.Figure at 0xefbe438>"
      ]
     },
     "metadata": {},
     "output_type": "display_data"
    }
   ],
   "source": [
    "# Now the Categories that didn't perform as well as we thought\n",
    "\n",
    "# Batting Average\n",
    "\n",
    "plot_all_vs_hof('BA')"
   ]
  },
  {
   "cell_type": "code",
   "execution_count": 111,
   "metadata": {
    "collapsed": false
   },
   "outputs": [
    {
     "data": {
      "image/png": "[encoded data removed]",
      "text/plain": [
       "<matplotlib.figure.Figure at 0x1224e080>"
      ]
     },
     "metadata": {},
     "output_type": "display_data"
    }
   ],
   "source": [
    "# Home Runs\n",
    "\n",
    "plot_all_vs_hof('HR')"
   ]
  },
  {
   "cell_type": "markdown",
   "metadata": {},
   "source": [
    "<b>Investigating Cases where the player with the largest statistics are not in the hall of fame</b>"
   ]
  },
  {
   "cell_type": "code",
   "execution_count": 112,
   "metadata": {
    "collapsed": false
   },
   "outputs": [
    {
     "data": {
      "text/plain": [
       "14518"
      ]
     },
     "execution_count": 112,
     "metadata": {},
     "output_type": "execute_result"
    }
   ],
   "source": [
    "# Find the index of the player with the highest number of Hits\n",
    "\n",
    "np.argmax(hof_elg_bat_stats_nopitch['H'])"
   ]
  },
  {
   "cell_type": "code",
   "execution_count": 113,
   "metadata": {
    "collapsed": false
   },
   "outputs": [
    {
     "data": {
      "text/plain": [
       "playerID    rosepe01\n",
       "Y                 25\n",
       "G               3562\n",
       "AB             14053\n",
       "H               4256\n",
       "BA             0.303\n",
       "R               2165\n",
       "HR               160\n",
       "RBI             1314\n",
       "SB               198\n",
       "BB              1566\n",
       "HOF            False\n",
       "Name: 14518, dtype: object"
      ]
     },
     "execution_count": 113,
     "metadata": {},
     "output_type": "execute_result"
    }
   ],
   "source": [
    "# Find player record by the index\n",
    "\n",
    "hof_elg_bat_stats_nopitch.loc[14518]"
   ]
  },
  {
   "cell_type": "code",
   "execution_count": 114,
   "metadata": {
    "collapsed": false
   },
   "outputs": [
    {
     "data": {
      "text/plain": [
       "1515"
      ]
     },
     "execution_count": 114,
     "metadata": {},
     "output_type": "execute_result"
    }
   ],
   "source": [
    "# Find the index of the player with the highest number of Home Runs\n",
    "\n",
    "np.argmax(hof_elg_bat_stats_nopitch['HR'])"
   ]
  },
  {
   "cell_type": "code",
   "execution_count": 115,
   "metadata": {
    "collapsed": false
   },
   "outputs": [
    {
     "data": {
      "text/plain": [
       "playerID    bondsba01\n",
       "Y                  22\n",
       "G                2986\n",
       "AB               9847\n",
       "H                2935\n",
       "BA              0.298\n",
       "R                2227\n",
       "HR                762\n",
       "RBI              1996\n",
       "SB                514\n",
       "BB               2558\n",
       "HOF             False\n",
       "Name: 1515, dtype: object"
      ]
     },
     "execution_count": 115,
     "metadata": {},
     "output_type": "execute_result"
    }
   ],
   "source": [
    "# Find player record by the index\n",
    "\n",
    "hof_elg_bat_stats_nopitch.loc[1515]"
   ]
  },
  {
   "cell_type": "code",
   "execution_count": 116,
   "metadata": {
    "collapsed": false
   },
   "outputs": [
    {
     "data": {
      "text/plain": [
       "14518"
      ]
     },
     "execution_count": 116,
     "metadata": {},
     "output_type": "execute_result"
    }
   ],
   "source": [
    "# Find the index of the player with the highest number of Games Played\n",
    "\n",
    "np.argmax(hof_elg_bat_stats_nopitch['G'])"
   ]
  },
  {
   "cell_type": "code",
   "execution_count": 117,
   "metadata": {
    "collapsed": false
   },
   "outputs": [
    {
     "data": {
      "text/plain": [
       "playerID    rosepe01\n",
       "Y                 25\n",
       "G               3562\n",
       "AB             14053\n",
       "H               4256\n",
       "BA             0.303\n",
       "R               2165\n",
       "HR               160\n",
       "RBI             1314\n",
       "SB               198\n",
       "BB              1566\n",
       "HOF            False\n",
       "Name: 14518, dtype: object"
      ]
     },
     "execution_count": 117,
     "metadata": {},
     "output_type": "execute_result"
    }
   ],
   "source": [
    "# Find player record by the index\n",
    "\n",
    "hof_elg_bat_stats_nopitch.loc[14518]"
   ]
  },
  {
   "cell_type": "code",
   "execution_count": 118,
   "metadata": {
    "collapsed": false
   },
   "outputs": [
    {
     "data": {
      "text/plain": [
       "1515"
      ]
     },
     "execution_count": 118,
     "metadata": {},
     "output_type": "execute_result"
    }
   ],
   "source": [
    "# Find the index of the player with the highest number of Base on Balls\n",
    "\n",
    "np.argmax(hof_elg_bat_stats_nopitch['BB'])"
   ]
  },
  {
   "cell_type": "code",
   "execution_count": 119,
   "metadata": {
    "collapsed": false
   },
   "outputs": [
    {
     "data": {
      "text/plain": [
       "playerID    bondsba01\n",
       "Y                  22\n",
       "G                2986\n",
       "AB               9847\n",
       "H                2935\n",
       "BA              0.298\n",
       "R                2227\n",
       "HR                762\n",
       "RBI              1996\n",
       "SB                514\n",
       "BB               2558\n",
       "HOF             False\n",
       "Name: 1515, dtype: object"
      ]
     },
     "execution_count": 119,
     "metadata": {},
     "output_type": "execute_result"
    }
   ],
   "source": [
    "# Find player record by the index\n",
    "\n",
    "hof_elg_bat_stats_nopitch.loc[1515]"
   ]
  },
  {
   "cell_type": "markdown",
   "metadata": {},
   "source": [
    "<hr>\n",
    "<hr>\n",
    "<hr>"
   ]
  },
  {
   "cell_type": "markdown",
   "metadata": {},
   "source": [
    "## Discussion"
   ]
  },
  {
   "cell_type": "markdown",
   "metadata": {},
   "source": [
    "<b>Limitations</b>\n",
    "\n",
    "This is a superficial explanation of the statistics as numbers.  The game of baseball, however, is played by humans, and most importantly, Hall of Fame voting is also done by humans.  Each voter brings in their own personalities, values, and bias to the table when voting.  The analysis in this project is objective, but the voting process is subjective.  Additional limitations of the project:\n",
    "\n",
    "<i>Pitchers and batting statistics</i> - Pitchers generally do not accumulate volumes of batting statistics, so they were eliminated from the final analysis.  At least one former pitcher was elected to the Hall of Fame also possessing, what would be considered by this analysis, significant batting statistics:  Babe Ruth.  While Babe Ruth is well known, others may not be as well known, so it would take some additional analysis to include these players, perhaps on an individual basis.  The lack of a player as significant as Babe Ruth in the hall of fame table may skew the analysis.\n",
    "\n",
    "<i>Changes to Rules</i> - Throughout the history of baseball there have been rules changes that may have affected the statistics of given players, such as the addition of the <i>Designated Hitter</i> who is an offensive specialist with no defensive responsibilities.  \n",
    "\n",
    "<i>Changes to/Differences in Equipment, Playing Surfaces, Stadiums</i> - Equipment like bats and balls may have been changed over the course of history.  Synthetic surfaces may react differently to bouncing balls than natural turf.  Smaller or larger stadiums may influence the amount of home runs.  Players playing in different climates more often may have advantages over others.  \n",
    "\n",
    "<i>Changes to Players, Training/Nutrition/Supplement Regimines</i> - Modern players may pay more close attention to weight training, giving them more power, perhaps resulting in more home runs or harder hit balls.  \n",
    "\n",
    "<i>Ineligible Players, Cheating and Suspicions of Cheating</i> - The analysis demonstrates that <b>Home Runs</b> and Total <b>Hits</b> are both significantly correlated to Hall of Fame selection.  In both instances, the career leaders in these categorie are not in the Hall of Fame.  Pete Rose is career leader in Hits, but is not in the Hall of Fame.  Barry Bonds is the career Home Runs leader, but he is also not in the hall of fame.  And while these are obvious examples of anomolies, there maybe less obvious examples of players that may have batting statistics similar to players in the Hall of Fame, who have not been inducted, for reasons other than baseball achievement.  \n",
    "\n",
    "<i>Team Success</i> - Baseball is a team game, and team success may play a part in Hall of Fame consideration, but also in how well a player performs.  It is conceivable that a team's success could increase a player's profile in a subjective voting process, and the inverse is also conceivable.  Additionally, playing alongside other successful players could impact statistics.  For example, a strong team will have fewer 'outs,' allowing a batter to get more <b>At-Bats</b>, which this alaysis has demonstrated to be significant factor in hall of fame selection.\n",
    "\n",
    "<i>Significant Correlation Between Statistical Categories</i> - It is difficult to put a spotlight on individual batting statitical categories without speaking about success in others.  This statistical analysis demonstrates a significant correlation between many of the statistical categories.  In some ways they are 'joined at the hip.'  \n",
    "\n",
    "In many of the above instances of limitations, a potential correction is the analysis of different defined thirty-year eras.  These eras, however, were arbitrarily defined, and were not specifically chosen to correct for any particular challenge of the analysis."
   ]
  },
  {
   "cell_type": "markdown",
   "metadata": {},
   "source": [
    "<b>Findings</b>\n",
    "\n",
    "<i>Significance of Statistical Categories</i>\n",
    "\n",
    "Given a confidence level of 95% (default interval of modules), each of the selected categories considered by the analysis has a significant positive correlation to Hall of Fame Selection.\n",
    "\n",
    "In terms of the categories demonstrating strongest positive correlation, <b>Runs</b> (r = 0.531) is the strongest in the overall analysis.  The next two categories in terms of strength of correlation is <b>RBI</b> (r = 0.516) and <b>Hits</b> (r = 0.515).\n",
    "\n",
    "Though the positive correlation remains significant, neither of the categories hypothesized to be the most significant measured to be so.  In fact, not only is <b>Batting Average</b> one of the least significant categories studied by this project, it is one of the least significant factors for each of the era's analyzed.  For players of the earliest era (who retired prior to 1900), the correlation very nearly lacks significance (r = 0.195, p-value = 0.143, N = 58, which may not be a large enough population for a reliable p-value calculation).  The significance of the positive correlation during the most recent era (players who retired between 1990 and 2010) is strong, but the correlation itself (r = .252) is again the smallest measured of the categories considered.\n",
    "\n",
    "<b>Home Runs</b> (r = 0.359), while having a significant positive correlation with Hall of Fame status, is still among the lower correlated statistics.  Unlike Batting Average, Home Runs is a statistic that has been more significant in certain eras than in others.  It was among the top statistics for players retiring prior to 1900 (r = 0.555) as well as between 1960 and 1990 (r = 0.560).\n",
    "\n",
    "\n",
    "<i>Changes over Time</i>\n",
    "\n",
    "As demonstrated with the <b>Home Run</b> category above, certain statistical categories have varied in significance over time, in their ability to determine Hall of Fame status.  <b>Stolen Bases</b> is a good example of a statistic that was among the more significant categories over one era (players retiring between 1900 and 1930, r = 0.433), yet overall is the least correlated category considered in this analysis (r = 0.276).\n",
    "\n",
    "Overall correlation of all statistics varies over time (figure v7) suggesting that other factors outside of this analysis may have had a relatively higher correlation with Hall of Fame induction during certain eras (e.g, defensive performance, team performance, or character rationale).\n"
   ]
  },
  {
   "cell_type": "markdown",
   "metadata": {},
   "source": [
    "<b>Implications and Observations</b>\n",
    "\n",
    "Though correlation does not equal causation, it can be implied from the analysis that batting average may not be as significant a statistic as generally accepted, given that the yearly <i>Batting Champion</i> award is given to the player with the highest Batting Average.  \n",
    "\n",
    "Batting Average as a statistic is not as multidimensional as Runs.  Scoring a run can involve hitting a home run, or it can involve taking a walk (BB) and stealing a base to get into a better scoring position.  RBI is also a statistic that is multidimensional, as a player can earn an RBI with a walk or a sacrifice fly, neither of which is a hit.  The correlation of these statistics with one another is significant and demonstrated by the analysis in this project.  Batting average is one of the categories that is not as significantly correlated with the others.  \n",
    "\n",
    "Eligibility requirements also affect the overall analysis.  In order to be eligible for hall of fame voting, a player has to have appeared in games over ten different years.  It can be assumed that a player will not be able to play for ten years without having success.  The standard deviation for the Batting Average stat is very low, so for this population of baseball players, there is a smaller degree of separation between those that have a high enough batting average to qualify for hall of fame acceptance and those who don't, but are still good enough to stay in the game for ten years.  \n",
    "\n",
    "Referring to the plots in v8 above, the difference between the mean Batting Average for each population is relatively narrow, when compared to the differences observed in the same evalations of the Runs, RBI or Hits categories, likely resulting in a lower correlation with Hall of Fame selection compared to the other categories.  \n",
    "\n",
    "Runs, RBI and Hits are cumulative statistics.  Given two players of similar ability, and similar batting average, yet one retiring early due to injury, while the other plays twenty years, the player who plays for a longer period is likely to acquire far more Runs, RBI, and Hits over that time period.  Given a significant difference in years played, the difference in statistics is likely to stand out to a voter.\n",
    "\n",
    "Home Runs is a more complex conversation that likely involves the attitudes of voters about the statistic as much as it does the increase in mean Home Runs over time.  For example, a time period that features walls closer to the field and tighter wound balls would affect the increase in mean.  Players taking peformance enhancing drugs, resulting in greater power and more home runs may artificially affect the statistic, particularly if suspicion of drug use causes voters pause in voting.  Two of the hitters with a large number of home runs, Babe Ruth and Barry Bonds, and the greatest number of home runs in their era are not included in the analysis.  That could affect the correlation of the statistic.\n",
    "\n",
    "The plots in v8 for the Home Runs category demonstrates the severe fluctuation in that category in terms of the rate that Hall of Fame players outperformed their contemporaries, which combined with the factors discussed may have completely altered the way in which the category is viewed by voters in succeeding eras.\n",
    "\n",
    "Changes to rules, equipment, player nutrition, and social issues, among other factors, can all influence a subjective vote, so it is not surprising that the correlation of these statistical categories fluctuated over time.  Stolen Bases in particular was a statistic that saw some prominence in certain eras.  This fluctuation may be explained by evolving changes in how the game is played, as in successful managers choosing to avoid stealing bases because of the risk of losing base runners and run scoring opportunities.\n",
    "\n",
    "Overall, however, all of the statistical categories in this analysis showed statistically significant positive correlation with Hall of Fame selection.  Just as all of these categories show significant correlation with one another, it is likely that the voting process takes a large number of career statistics into play rather than just a select few.\n",
    "\n",
    "\n",
    "\n"
   ]
  }
 ],
 "metadata": {
  "kernelspec": {
   "display_name": "Python [Root]",
   "language": "python",
   "name": "Python [Root]"
  },
  "language_info": {
   "codemirror_mode": {
    "name": "ipython",
    "version": 2
   },
   "file_extension": ".py",
   "mimetype": "text/x-python",
   "name": "python",
   "nbconvert_exporter": "python",
   "pygments_lexer": "ipython2",
   "version": "2.7.12"
  }
 },
 "nbformat": 4,
 "nbformat_minor": 0
}
